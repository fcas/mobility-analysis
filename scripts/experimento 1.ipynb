{
 "cells": [
  {
   "cell_type": "code",
   "execution_count": null,
   "metadata": {},
   "outputs": [],
   "source": [
    "import pandas as pd\n",
    "import numpy as np"
   ]
  },
  {
   "cell_type": "code",
   "execution_count": null,
   "metadata": {},
   "outputs": [],
   "source": [
    "data = pd.read_csv('data.csv', encoding='latin1', header=None)\n",
    "y = pd.read_csv('labels.csv', encoding='latin1', header=None)"
   ]
  },
  {
   "cell_type": "code",
   "execution_count": null,
   "metadata": {},
   "outputs": [],
   "source": [
    "X = np.squeeze(data.values)\n",
    "y = np.squeeze(y.values)"
   ]
  },
  {
   "cell_type": "code",
   "execution_count": null,
   "metadata": {},
   "outputs": [],
   "source": [
    "from sklearn.linear_model import LogisticRegression\n",
    "from sklearn.model_selection import train_test_split\n",
    "from sklearn.metrics import accuracy_score, f1_score, precision_score, recall_score, confusion_matrix, make_scorer\n",
    "from sklearn import tree, svm, neighbors, model_selection\n",
    "from sklearn.naive_bayes import MultinomialNB\n",
    "from sklearn.tree import DecisionTreeClassifier\n",
    "from sklearn.ensemble import RandomForestClassifier\n",
    "from sklearn.neural_network import MLPClassifier\n",
    "import numpy as np"
   ]
  },
  {
   "cell_type": "markdown",
   "metadata": {},
   "source": [
    "Nao rodei experimentos para sklearn.naive_bayes.ComplementNB - está falhando o import"
   ]
  },
  {
   "cell_type": "code",
   "execution_count": null,
   "metadata": {},
   "outputs": [],
   "source": [
    "'''\n",
    "#from sklearn.naive_bayes import ComplementNB\n",
    "cnb_clf = ComplementNB()\n",
    "parameters = {\n",
    "    \"complementnb__alpha\": [0, 1, 3, 5],\n",
    "    \"complementnb__norm\": [True, False],\n",
    "    \n",
    "}\n",
    "cnb_clf.random_state = seed\n",
    "models.append((\"naive_bayes.ComplementNB\", cnb_clf, parameters))\n",
    "'''"
   ]
  },
  {
   "cell_type": "code",
   "execution_count": null,
   "metadata": {},
   "outputs": [],
   "source": [
    "seed = 42\n",
    "np.random.seed(seed)"
   ]
  },
  {
   "cell_type": "code",
   "execution_count": null,
   "metadata": {},
   "outputs": [],
   "source": [
    "models = []\n",
    "\n",
    "\n",
    "random_forest_clf = RandomForestClassifier()\n",
    "random_forest_clf.random_state = seed\n",
    "parameters = {\n",
    "    \"randomforestclassifier__n_estimators\":[10, 20, 30],\n",
    "    \"randomforestclassifier__max_depth\": [None, 5, 10, 15, 20]\n",
    "}\n",
    "models.append((\"RandomForestClassifier\", random_forest_clf, parameters))\n",
    "\n",
    "\n",
    "\n",
    "mnb_clf = MultinomialNB()\n",
    "parameters = {\n",
    "    \"multinomialnb__alpha\": [0, 1, 3, 5, 10]\n",
    "}\n",
    "mnb_clf.random_state = seed\n",
    "models.append((\"naive_bayes.MultinomialNB\", mnb_clf, parameters))\n",
    "\n",
    "\n",
    "\n",
    "decision_tree_clf = tree.DecisionTreeClassifier()\n",
    "decision_tree_clf.random_state = seed\n",
    "parameters = {\n",
    "    \"decisiontreeclassifier__max_depth\": [None, 2, 5, 8, 10, 15]\n",
    "}\n",
    "models.append((\"decision tree\", decision_tree_clf, parameters))\n",
    "\n",
    "\n",
    "logistic_regression_clf = LogisticRegression()\n",
    "logistic_regression_clf.random_state = seed\n",
    "parameters = {\n",
    "    \"logisticregression__penalty\": ['l1', 'l2'],\n",
    "    \"logisticregression__C\": [0.01, 0.1, 1, 5, 10, 15, 20]\n",
    "}\n",
    "models.append((\"logistic regression\", logistic_regression_clf, parameters))\n",
    "\n",
    "\n",
    "svm_clf = svm.SVC()\n",
    "svm_clf.random_state = seed\n",
    "parameters = {'svc__kernel':('linear', 'rbf'), 'svc__C':[0, 1, 5, 10, 15, 20]}\n",
    "models.append((\"svm\", svm_clf, parameters))\n",
    "\n",
    "\n",
    "\n",
    "mlp_clf = MLPClassifier()\n",
    "mlp_clf.random_state = seed\n",
    "\n",
    "parameters = {'mlpclassifier__solver': ['lbfgs'], \n",
    "              'mlpclassifier__activation':['relu'], \n",
    "              'mlpclassifier__max_iter': [2000], \n",
    "              'mlpclassifier__alpha': 10.0 ** -np.arange(1, 10), \n",
    "              'mlpclassifier__tol':[1e-3], \n",
    "              'mlpclassifier__hidden_layer_sizes':np.arange(10, 15)}\n",
    "\n",
    "models.append((\"mlp\", mlp_clf, parameters))\n",
    "\n",
    "\n",
    "\n",
    "\n",
    "\n",
    "knn_clf = neighbors.KNeighborsClassifier()\n",
    "knn_clf.random_state = seed\n",
    "parameters = {\n",
    "    #\"kneighborsclassifier__n_neighbors\": [1, 3, 5, 7, 9],\n",
    "    \"kneighborsclassifier__n_neighbors\": [1],\n",
    "    \"kneighborsclassifier__metric\":[\"cosine\"]\n",
    "}\n",
    "models.append((\"knn\", knn_clf, parameters))\n"
   ]
  },
  {
   "cell_type": "code",
   "execution_count": null,
   "metadata": {},
   "outputs": [],
   "source": [
    "scoring = {'accuracy': make_scorer(accuracy_score),\n",
    "           'precision': make_scorer(precision_score, pos_label=None, average='micro'),\n",
    "           'recall': make_scorer(recall_score, pos_label=None, average='micro'),\n",
    "           'f1_score': make_scorer(f1_score, pos_label=None, average='micro')}\n"
   ]
  },
  {
   "cell_type": "code",
   "execution_count": null,
   "metadata": {},
   "outputs": [],
   "source": [
    "from sklearn.feature_extraction.text import TfidfVectorizer\n",
    "from sklearn.pipeline import Pipeline\n",
    "from sklearn.model_selection import GridSearchCV\n",
    "from sklearn.model_selection import fit_grid_point\n",
    "from sklearn.pipeline import make_pipeline\n"
   ]
  },
  {
   "cell_type": "code",
   "execution_count": null,
   "metadata": {},
   "outputs": [],
   "source": [
    "from sklearn import cross_validation\n",
    "skf = cross_validation.StratifiedKFold(y, n_folds=10, shuffle=True, random_state=seed)\n",
    "skf"
   ]
  },
  {
   "cell_type": "code",
   "execution_count": null,
   "metadata": {},
   "outputs": [],
   "source": [
    "results = pd.DataFrame()\n",
    "for name, model, parameter in models:\n",
    "    print('modelo: ', name)\n",
    "    print(parameter)\n",
    "    \n",
    "    tfidf=TfidfVectorizer(sublinear_tf=True, use_idf=True)\n",
    "    pipe_model = make_pipeline(tfidf, model)\n",
    "    gs = GridSearchCV(estimator=pipe_model, param_grid=parameter, scoring=scoring, refit='accuracy', cv = skf, return_train_score=True, verbose=5, n_jobs=4)\n",
    "    gs.fit(X, y)\n",
    "    print(\"Best Estimator: \\n{}\\n\".format(gs.best_estimator_))\n",
    "    print(\"Best Parameters: \\n{}\\n\".format(gs.best_params_))\n",
    "    print(\"Best Test Score: \\n{}\\n\".format(gs.best_score_))\n",
    "    d = gs.cv_results_\n",
    "    d['metodo'] = name\n",
    "    df = pd.DataFrame.from_dict(d)\n",
    "    results = results.append(df, ignore_index=True)\n",
    "    print(results)\n",
    "    \n",
    "    results.to_csv('resultados.csv', sep=';', decimal=',')\n",
    "    print('_______________________________________________________')"
   ]
  },
  {
   "cell_type": "code",
   "execution_count": null,
   "metadata": {},
   "outputs": [],
   "source": [
    "results"
   ]
  },
  {
   "cell_type": "code",
   "execution_count": null,
   "metadata": {},
   "outputs": [],
   "source": []
  },
  {
   "cell_type": "code",
   "execution_count": null,
   "metadata": {},
   "outputs": [],
   "source": []
  }
 ],
 "metadata": {
  "kernelspec": {
   "display_name": "Python 3",
   "language": "python",
   "name": "python3"
  },
  "language_info": {
   "codemirror_mode": {
    "name": "ipython",
    "version": 3
   },
   "file_extension": ".py",
   "mimetype": "text/x-python",
   "name": "python",
   "nbconvert_exporter": "python",
   "pygments_lexer": "ipython3",
   "version": "3.6.4"
  }
 },
 "nbformat": 4,
 "nbformat_minor": 2
}
