{
 "cells": [
  {
   "cell_type": "code",
   "execution_count": 1,
   "metadata": {},
   "outputs": [],
   "source": [
    "import pandas as pd\n",
    "import numpy as np\n",
    "import json"
   ]
  },
  {
   "cell_type": "code",
   "execution_count": 2,
   "metadata": {},
   "outputs": [
    {
     "data": {
      "text/plain": [
       "'0.20.3'"
      ]
     },
     "execution_count": 2,
     "metadata": {},
     "output_type": "execute_result"
    }
   ],
   "source": [
    "import sklearn\n",
    "sklearn.__version__"
   ]
  },
  {
   "cell_type": "code",
   "execution_count": 3,
   "metadata": {},
   "outputs": [],
   "source": [
    "data = pd.read_csv('data.csv', encoding='latin1', header=None)\n",
    "y = pd.read_csv('labels.csv', encoding='latin1', header=None)"
   ]
  },
  {
   "cell_type": "code",
   "execution_count": 4,
   "metadata": {},
   "outputs": [],
   "source": [
    "X = np.squeeze(data.values)\n",
    "y = np.squeeze(y.values)"
   ]
  },
  {
   "cell_type": "code",
   "execution_count": 5,
   "metadata": {},
   "outputs": [
    {
     "name": "stdout",
     "output_type": "stream",
     "text": [
      "4\n"
     ]
    }
   ],
   "source": [
    "import multiprocessing\n",
    "print(multiprocessing.cpu_count())\n",
    "seed = 42\n",
    "np.random.seed(seed)"
   ]
  },
  {
   "cell_type": "markdown",
   "metadata": {},
   "source": [
    "'''\n",
    "from sklearn.feature_extraction.text import TfidfVectorizer\n",
    "from sklearn.decomposition import TruncatedSVD\n",
    "tfidf=TfidfVectorizer(sublinear_tf=True, use_idf=True)\n",
    "X = tfidf.fit_transform(X)\n",
    "X.get_shape()\n",
    "svd = TruncatedSVD(n_components=3000, n_iter=7, random_state=42)\n",
    "svd.fit(X) \n",
    "print(svd.explained_variance_ratio_.sum())\n",
    "'''\n",
    "Inserir no artigo: \"Com o tf-idf tínhamos (59834, 13915), utilizamos o método SVD para redução de dimensionalidade e conseguimos antigir 90% da variância explicada pelos novos 3000 componentes gerados."
   ]
  },
  {
   "cell_type": "markdown",
   "metadata": {},
   "source": []
  },
  {
   "cell_type": "markdown",
   "metadata": {},
   "source": [
    "# Todos X_train e X_test em memória já transformados "
   ]
  },
  {
   "cell_type": "code",
   "execution_count": 6,
   "metadata": {},
   "outputs": [
    {
     "data": {
      "text/plain": [
       "StratifiedKFold(n_splits=10, random_state=42, shuffle=True)"
      ]
     },
     "execution_count": 6,
     "metadata": {},
     "output_type": "execute_result"
    }
   ],
   "source": [
    "from sklearn.model_selection import StratifiedKFold\n",
    "skf = StratifiedKFold(n_splits=10, shuffle=True, random_state=seed)\n",
    "skf"
   ]
  },
  {
   "cell_type": "code",
   "execution_count": 7,
   "metadata": {},
   "outputs": [],
   "source": [
    "from sklearn.feature_extraction.text import TfidfVectorizer\n",
    "from sklearn.decomposition import TruncatedSVD\n",
    "from sklearn.preprocessing import MinMaxScaler\n",
    "from sklearn.model_selection import cross_val_score"
   ]
  },
  {
   "cell_type": "code",
   "execution_count": 8,
   "metadata": {},
   "outputs": [],
   "source": [
    "tfidf=TfidfVectorizer(sublinear_tf=True, use_idf=True)\n",
    "svd = TruncatedSVD(n_components=3000, n_iter=7, random_state=42)"
   ]
  },
  {
   "cell_type": "code",
   "execution_count": 9,
   "metadata": {},
   "outputs": [
    {
     "name": "stdout",
     "output_type": "stream",
     "text": [
      "*** ITERAÇÃO:  1\n",
      "antes do tfidf\n",
      "tf-idf:  (53849, 13272)\n",
      "tf-idf:  (5985, 13272)\n",
      "antes do svd\n",
      "svd:  (53849, 3000)\n",
      "svd:  (5985, 3000)\n",
      "*** ITERAÇÃO:  2\n",
      "antes do tfidf\n",
      "tf-idf:  (53849, 13227)\n",
      "tf-idf:  (5985, 13227)\n",
      "antes do svd\n",
      "svd:  (53849, 3000)\n",
      "svd:  (5985, 3000)\n",
      "*** ITERAÇÃO:  3\n",
      "antes do tfidf\n",
      "tf-idf:  (53849, 13252)\n",
      "tf-idf:  (5985, 13252)\n",
      "antes do svd\n",
      "svd:  (53849, 3000)\n",
      "svd:  (5985, 3000)\n",
      "*** ITERAÇÃO:  4\n",
      "antes do tfidf\n",
      "tf-idf:  (53850, 13279)\n",
      "tf-idf:  (5984, 13279)\n",
      "antes do svd\n",
      "svd:  (53850, 3000)\n",
      "svd:  (5984, 3000)\n",
      "*** ITERAÇÃO:  5\n",
      "antes do tfidf\n",
      "tf-idf:  (53850, 13306)\n",
      "tf-idf:  (5984, 13306)\n",
      "antes do svd\n",
      "svd:  (53850, 3000)\n",
      "svd:  (5984, 3000)\n",
      "*** ITERAÇÃO:  6\n",
      "antes do tfidf\n",
      "tf-idf:  (53850, 13244)\n",
      "tf-idf:  (5984, 13244)\n",
      "antes do svd\n",
      "svd:  (53850, 3000)\n",
      "svd:  (5984, 3000)\n",
      "*** ITERAÇÃO:  7\n",
      "antes do tfidf\n",
      "tf-idf:  (53851, 13252)\n",
      "tf-idf:  (5983, 13252)\n",
      "antes do svd\n",
      "svd:  (53851, 3000)\n",
      "svd:  (5983, 3000)\n",
      "*** ITERAÇÃO:  8\n",
      "antes do tfidf\n",
      "tf-idf:  (53851, 13224)\n",
      "tf-idf:  (5983, 13224)\n",
      "antes do svd\n",
      "svd:  (53851, 3000)\n",
      "svd:  (5983, 3000)\n",
      "*** ITERAÇÃO:  9\n",
      "antes do tfidf\n",
      "tf-idf:  (53853, 13305)\n",
      "tf-idf:  (5981, 13305)\n",
      "antes do svd\n",
      "svd:  (53853, 3000)\n",
      "svd:  (5981, 3000)\n",
      "*** ITERAÇÃO:  10\n",
      "antes do tfidf\n",
      "tf-idf:  (53854, 13265)\n",
      "tf-idf:  (5980, 13265)\n",
      "antes do svd\n",
      "svd:  (53854, 3000)\n",
      "svd:  (5980, 3000)\n"
     ]
    }
   ],
   "source": [
    "index = 1\n",
    "\n",
    "for train_index, test_index in skf.split(X, y):\n",
    "    print('*** ITERAÇÃO: ', index)\n",
    "    \n",
    "        \n",
    "    X_train, X_test = X[train_index], X[test_index]\n",
    "    y_train, y_test = y[train_index], y[test_index]\n",
    "    \n",
    "    print(\"antes do tfidf\")\n",
    "    X_train = tfidf.fit_transform(X_train)\n",
    "    X_test = tfidf.transform(X_test)\n",
    "    print('tf-idf: ', X_train.get_shape())\n",
    "    print('tf-idf: ', X_test.get_shape())\n",
    "\n",
    "    print(\"antes do svd\")\n",
    "    X_train = svd.fit_transform(X_train)\n",
    "    X_test = svd.transform(X_test)\n",
    "    print('svd: ', X_train.shape)\n",
    "    print('svd: ', X_test.shape)\n",
    "\n",
    "    \n",
    "    \n",
    "    X_train_ = \"X_train_\"\n",
    "    X_test_ = \"X_test_\"\n",
    "    y_train_ = \"y_train_\"\n",
    "    y_test_ = \"y_test_\"\n",
    "    globals()[X_train_ + str(index)] = X_train\n",
    "    globals()[X_test_ + str(index)] = X_test\n",
    "    globals()[y_train_ + str(index)] = y_train\n",
    "    globals()[y_test_ + str(index)] = y_test\n",
    "    \n",
    "    \n",
    "    index = index+1"
   ]
  },
  {
   "cell_type": "code",
   "execution_count": 10,
   "metadata": {},
   "outputs": [],
   "source": [
    "def return_data(iteracao):\n",
    "    print(\"arquivo a ser aberto: \", iteracao)\n",
    "    if iteracao == 1:\n",
    "        return X_train_1, X_test_1, y_train_1, y_test_1\n",
    "    elif iteracao == 2:\n",
    "        return X_train_2, X_test_2, y_train_2, y_test_2\n",
    "    elif iteracao == 3:\n",
    "        return X_train_3, X_test_3, y_train_3, y_test_3\n",
    "    elif iteracao == 4:\n",
    "        return X_train_4, X_test_4, y_train_4, y_test_4\n",
    "    elif iteracao == 5:\n",
    "        return X_train_5, X_test_5, y_train_5, y_test_5\n",
    "    elif iteracao == 6:\n",
    "        return X_train_6, X_test_6, y_train_6, y_test_6\n",
    "    elif iteracao == 7:\n",
    "        return X_train_7, X_test_7, y_train_7, y_test_7\n",
    "    elif iteracao == 8:\n",
    "        return X_train_8, X_test_8, y_train_8, y_test_8\n",
    "    elif iteracao == 9:\n",
    "        return X_train_9, X_test_9, y_train_9, y_test_9\n",
    "    elif iteracao == 10:\n",
    "        return X_train_10, X_test_10, y_train_10, y_test_10"
   ]
  },
  {
   "cell_type": "code",
   "execution_count": 11,
   "metadata": {},
   "outputs": [
    {
     "name": "stdout",
     "output_type": "stream",
     "text": [
      "arquivo a ser aberto:  8\n"
     ]
    },
    {
     "data": {
      "text/plain": [
       "(array([[ 2.05031321e-04,  8.09196694e-04, -5.77659118e-04, ...,\n",
       "         -9.97472242e-05,  4.40689220e-05, -1.36981206e-05],\n",
       "        [ 2.05031321e-04,  8.09196694e-04, -5.77659118e-04, ...,\n",
       "         -9.97472242e-05,  4.40689220e-05, -1.36981206e-05],\n",
       "        [ 1.07200209e-01,  1.18395748e-02, -1.04293248e-02, ...,\n",
       "          2.12746209e-04, -5.98536803e-04,  5.99941091e-04],\n",
       "        ...,\n",
       "        [ 6.06094525e-02,  2.96014329e-03, -4.05414838e-03, ...,\n",
       "          6.49612180e-04, -6.79078708e-03,  5.26551810e-03],\n",
       "        [ 3.09555157e-03,  6.30295151e-03, -5.20002890e-03, ...,\n",
       "         -2.44130402e-05, -5.00993419e-03,  6.16514337e-03],\n",
       "        [ 7.60256534e-02,  1.04358935e-02, -6.73748012e-03, ...,\n",
       "          2.85138110e-04, -3.36796572e-03,  4.50383059e-03]]),\n",
       " array([[ 2.05031321e-04,  8.09196694e-04, -5.77659118e-04, ...,\n",
       "         -1.17408722e-04,  3.92206166e-05,  5.23065504e-06],\n",
       "        [ 2.05031321e-04,  8.09196694e-04, -5.77659118e-04, ...,\n",
       "         -1.17408722e-04,  3.92206166e-05,  5.23065504e-06],\n",
       "        [ 4.60370088e-02,  2.06587673e-02, -1.53039699e-02, ...,\n",
       "          4.67607656e-04,  1.21465169e-04, -3.96129814e-03],\n",
       "        ...,\n",
       "        [ 6.46776267e-02,  5.18062950e-03, -4.35229976e-03, ...,\n",
       "          1.17019062e-02, -1.09082813e-03,  5.38012151e-03],\n",
       "        [ 8.73618756e-02,  1.11695647e-02, -7.56183381e-03, ...,\n",
       "          7.89214053e-04, -4.79833122e-03,  5.00926127e-03],\n",
       "        [ 3.35664779e-03,  1.95489572e-02, -1.85770480e-02, ...,\n",
       "          1.31194558e-03,  1.20658759e-02,  7.28317781e-03]]),\n",
       " array([0, 0, 0, ..., 0, 0, 0], dtype=int64),\n",
       " array([0, 0, 0, ..., 0, 0, 0], dtype=int64))"
      ]
     },
     "execution_count": 11,
     "metadata": {},
     "output_type": "execute_result"
    }
   ],
   "source": [
    "return_data(8)"
   ]
  },
  {
   "cell_type": "code",
   "execution_count": null,
   "metadata": {},
   "outputs": [],
   "source": []
  },
  {
   "cell_type": "code",
   "execution_count": 12,
   "metadata": {},
   "outputs": [],
   "source": [
    "from sklearn.metrics import accuracy_score, f1_score, precision_score, recall_score, confusion_matrix, make_scorer, confusion_matrix, classification_report, roc_auc_score\n"
   ]
  },
  {
   "cell_type": "code",
   "execution_count": 13,
   "metadata": {},
   "outputs": [],
   "source": [
    "from sklearn.linear_model import LogisticRegression\n",
    "from sklearn import tree, svm, neighbors, model_selection\n",
    "#from sklearn.naive_bayes import MultinomialNB, ComplementNB\n",
    "from sklearn.tree import DecisionTreeClassifier\n",
    "from sklearn.ensemble import RandomForestClassifier\n",
    "from sklearn.neural_network import MLPClassifier\n"
   ]
  },
  {
   "cell_type": "code",
   "execution_count": 14,
   "metadata": {},
   "outputs": [],
   "source": [
    "from sklearn.model_selection import ParameterGrid\n",
    "models = []\n",
    "'''\n",
    "random_forest_clf = RandomForestClassifier()\n",
    "random_forest_clf.random_state = seed\n",
    "parameters = {\n",
    "    \"n_estimators\":[10, 20, 30],\n",
    "    \"max_depth\": [None, 5, 10, 15, 20]\n",
    "    \n",
    "}\n",
    "models.append((\"RandomForestClassifier\", random_forest_clf, list(ParameterGrid(parameters))))\n",
    "\n",
    "\n",
    "\n",
    "decision_tree_clf = tree.DecisionTreeClassifier()\n",
    "decision_tree_clf.random_state = seed\n",
    "parameters = {\n",
    "    \"max_depth\": [None, 2, 5, 8, 10, 15]\n",
    "}\n",
    "models.append((\"decision tree\", decision_tree_clf, list(ParameterGrid(parameters))))\n",
    "\n",
    "\n",
    "mnb_clf = MultinomialNB()\n",
    "parameters = {\n",
    "    \"alpha\": [0, 1, 3, 5, 10],\n",
    "    \"fit_prior\": [True]\n",
    "}\n",
    "mnb_clf.random_state = seed\n",
    "models.append((\"MultinomialNB\", mnb_clf, list(ParameterGrid(parameters))))\n",
    "\n",
    "\n",
    "knn_clf = neighbors.KNeighborsClassifier()\n",
    "knn_clf.random_state = seed\n",
    "parameters = {\n",
    "    \"n_neighbors\": [1, 3, 5, 7, 9],\n",
    "    \"metric\":[ \"cosine\", \"euclidean\"]\n",
    "}\n",
    "models.append((\"knn\", knn_clf, list(ParameterGrid(parameters))))\n",
    "\n",
    "\n",
    "cnb_clf = ComplementNB()\n",
    "parameters = {\n",
    "    \"alpha\": [0, 1, 3, 5],\n",
    "    \"norm\": [True, False]    \n",
    "}\n",
    "cnb_clf.random_state = seed\n",
    "models.append((\"ComplementNB\", cnb_clf, list(ParameterGrid(parameters))))\n",
    "'''\n",
    "\n",
    "logistic_regression_clf = LogisticRegression()\n",
    "logistic_regression_clf.random_state = seed\n",
    "parameters = {\n",
    "    \"penalty\": ['l1', 'l2'],\n",
    "    \"C\": [0.01, 0.1, 1, 5, 10, 15, 20]\n",
    "}\n",
    "models.append((\"logistic regression\", logistic_regression_clf, list(ParameterGrid(parameters))))\n",
    "\n",
    "\n",
    "svm_clf = svm.SVC()\n",
    "svm_clf.random_state = seed\n",
    "parameters = {\n",
    "    \"kernel\":('linear', 'rbf'), \n",
    "    \"C\":[0.1, 1, 5, 10, 15, 20]\n",
    "}\n",
    "models.append((\"svm\", svm_clf, list(ParameterGrid(parameters))))\n",
    "\n",
    "\n",
    "\n",
    "mlp_clf = MLPClassifier()\n",
    "mlp_clf.random_state = seed\n",
    "parameters = {\n",
    "    \"solver\": ['lbfgs'], \n",
    "    \"activation\":['relu'], \n",
    "    \"max_iter\": [2000], \n",
    "    \"alpha\": 10.0 ** -np.arange(1, 10), \n",
    "    \"tol\":[1e-3],\n",
    "    \"hidden_layer_sizes\":np.arange(10, 15)          \n",
    "}\n",
    "\n",
    "models.append((\"mlp\", mlp_clf, list(ParameterGrid(parameters))))\n"
   ]
  },
  {
   "cell_type": "code",
   "execution_count": 15,
   "metadata": {},
   "outputs": [
    {
     "data": {
      "text/plain": [
       "3"
      ]
     },
     "execution_count": 15,
     "metadata": {},
     "output_type": "execute_result"
    }
   ],
   "source": [
    "len(models)"
   ]
  },
  {
   "cell_type": "code",
   "execution_count": null,
   "metadata": {},
   "outputs": [
    {
     "name": "stdout",
     "output_type": "stream",
     "text": [
      "modelo:  logistic regression\n",
      "[{'C': 0.01, 'penalty': 'l1'}, {'C': 0.01, 'penalty': 'l2'}, {'C': 0.1, 'penalty': 'l1'}, {'C': 0.1, 'penalty': 'l2'}, {'C': 1, 'penalty': 'l1'}, {'C': 1, 'penalty': 'l2'}, {'C': 5, 'penalty': 'l1'}, {'C': 5, 'penalty': 'l2'}, {'C': 10, 'penalty': 'l1'}, {'C': 10, 'penalty': 'l2'}, {'C': 15, 'penalty': 'l1'}, {'C': 15, 'penalty': 'l2'}, {'C': 20, 'penalty': 'l1'}, {'C': 20, 'penalty': 'l2'}]\n",
      "*** Parametro:  {'C': 0.01, 'penalty': 'l1'}\n",
      "1\n",
      "open files\n",
      "Thu Apr 25 23:58:35 2019\n",
      "arquivo a ser aberto:  1\n",
      "(53849, 3000)\n",
      "(5985, 3000)\n",
      "Thu Apr 25 23:58:35 2019\n",
      "fit model\n"
     ]
    },
    {
     "name": "stderr",
     "output_type": "stream",
     "text": [
      "C:\\Users\\Rodolfo\\AppData\\Roaming\\Python\\Python36\\site-packages\\sklearn\\linear_model\\logistic.py:433: FutureWarning: Default solver will be changed to 'lbfgs' in 0.22. Specify a solver to silence this warning.\n",
      "  FutureWarning)\n",
      "C:\\Users\\Rodolfo\\AppData\\Roaming\\Python\\Python36\\site-packages\\sklearn\\linear_model\\logistic.py:460: FutureWarning: Default multi_class will be changed to 'auto' in 0.22. Specify the multi_class option to silence this warning.\n",
      "  \"this warning.\", FutureWarning)\n"
     ]
    },
    {
     "name": "stdout",
     "output_type": "stream",
     "text": [
      "Fri Apr 26 00:00:34 2019\n",
      "predict\n",
      "Fri Apr 26 00:00:44 2019\n"
     ]
    },
    {
     "name": "stderr",
     "output_type": "stream",
     "text": [
      "C:\\Users\\Rodolfo\\AppData\\Roaming\\Python\\Python36\\site-packages\\sklearn\\metrics\\classification.py:1143: UndefinedMetricWarning: Precision is ill-defined and being set to 0.0 in labels with no predicted samples.\n",
      "  'precision', 'predicted', average, warn_for)\n",
      "C:\\Users\\Rodolfo\\AppData\\Roaming\\Python\\Python36\\site-packages\\sklearn\\metrics\\classification.py:1143: UndefinedMetricWarning: F-score is ill-defined and being set to 0.0 in labels with no predicted samples.\n",
      "  'precision', 'predicted', average, warn_for)\n",
      "C:\\Users\\Rodolfo\\AppData\\Roaming\\Python\\Python36\\site-packages\\sklearn\\metrics\\classification.py:1143: UndefinedMetricWarning: Precision and F-score are ill-defined and being set to 0.0 in labels with no predicted samples.\n",
      "  'precision', 'predicted', average, warn_for)\n"
     ]
    },
    {
     "name": "stdout",
     "output_type": "stream",
     "text": [
      "2\n",
      "open files\n",
      "Fri Apr 26 00:00:44 2019\n",
      "arquivo a ser aberto:  2\n",
      "(53849, 3000)\n",
      "(5985, 3000)\n",
      "Fri Apr 26 00:00:44 2019\n",
      "fit model\n"
     ]
    },
    {
     "name": "stderr",
     "output_type": "stream",
     "text": [
      "C:\\Users\\Rodolfo\\AppData\\Roaming\\Python\\Python36\\site-packages\\sklearn\\linear_model\\logistic.py:433: FutureWarning: Default solver will be changed to 'lbfgs' in 0.22. Specify a solver to silence this warning.\n",
      "  FutureWarning)\n",
      "C:\\Users\\Rodolfo\\AppData\\Roaming\\Python\\Python36\\site-packages\\sklearn\\linear_model\\logistic.py:460: FutureWarning: Default multi_class will be changed to 'auto' in 0.22. Specify the multi_class option to silence this warning.\n",
      "  \"this warning.\", FutureWarning)\n"
     ]
    },
    {
     "name": "stdout",
     "output_type": "stream",
     "text": [
      "Fri Apr 26 00:02:35 2019\n",
      "predict\n",
      "Fri Apr 26 00:02:45 2019\n"
     ]
    },
    {
     "name": "stderr",
     "output_type": "stream",
     "text": [
      "C:\\Users\\Rodolfo\\AppData\\Roaming\\Python\\Python36\\site-packages\\sklearn\\metrics\\classification.py:1143: UndefinedMetricWarning: Precision is ill-defined and being set to 0.0 in labels with no predicted samples.\n",
      "  'precision', 'predicted', average, warn_for)\n",
      "C:\\Users\\Rodolfo\\AppData\\Roaming\\Python\\Python36\\site-packages\\sklearn\\metrics\\classification.py:1143: UndefinedMetricWarning: F-score is ill-defined and being set to 0.0 in labels with no predicted samples.\n",
      "  'precision', 'predicted', average, warn_for)\n",
      "C:\\Users\\Rodolfo\\AppData\\Roaming\\Python\\Python36\\site-packages\\sklearn\\metrics\\classification.py:1143: UndefinedMetricWarning: Precision and F-score are ill-defined and being set to 0.0 in labels with no predicted samples.\n",
      "  'precision', 'predicted', average, warn_for)\n"
     ]
    },
    {
     "name": "stdout",
     "output_type": "stream",
     "text": [
      "3\n",
      "open files\n",
      "Fri Apr 26 00:02:46 2019\n",
      "arquivo a ser aberto:  3\n",
      "(53849, 3000)\n",
      "(5985, 3000)\n",
      "Fri Apr 26 00:02:46 2019\n",
      "fit model\n"
     ]
    },
    {
     "name": "stderr",
     "output_type": "stream",
     "text": [
      "C:\\Users\\Rodolfo\\AppData\\Roaming\\Python\\Python36\\site-packages\\sklearn\\linear_model\\logistic.py:433: FutureWarning: Default solver will be changed to 'lbfgs' in 0.22. Specify a solver to silence this warning.\n",
      "  FutureWarning)\n",
      "C:\\Users\\Rodolfo\\AppData\\Roaming\\Python\\Python36\\site-packages\\sklearn\\linear_model\\logistic.py:460: FutureWarning: Default multi_class will be changed to 'auto' in 0.22. Specify the multi_class option to silence this warning.\n",
      "  \"this warning.\", FutureWarning)\n"
     ]
    },
    {
     "name": "stdout",
     "output_type": "stream",
     "text": [
      "Fri Apr 26 00:04:11 2019\n",
      "predict\n",
      "Fri Apr 26 00:04:25 2019\n"
     ]
    },
    {
     "name": "stderr",
     "output_type": "stream",
     "text": [
      "C:\\Users\\Rodolfo\\AppData\\Roaming\\Python\\Python36\\site-packages\\sklearn\\metrics\\classification.py:1143: UndefinedMetricWarning: Precision is ill-defined and being set to 0.0 in labels with no predicted samples.\n",
      "  'precision', 'predicted', average, warn_for)\n",
      "C:\\Users\\Rodolfo\\AppData\\Roaming\\Python\\Python36\\site-packages\\sklearn\\metrics\\classification.py:1143: UndefinedMetricWarning: F-score is ill-defined and being set to 0.0 in labels with no predicted samples.\n",
      "  'precision', 'predicted', average, warn_for)\n",
      "C:\\Users\\Rodolfo\\AppData\\Roaming\\Python\\Python36\\site-packages\\sklearn\\metrics\\classification.py:1143: UndefinedMetricWarning: Precision and F-score are ill-defined and being set to 0.0 in labels with no predicted samples.\n",
      "  'precision', 'predicted', average, warn_for)\n"
     ]
    },
    {
     "name": "stdout",
     "output_type": "stream",
     "text": [
      "4\n",
      "open files\n",
      "Fri Apr 26 00:04:25 2019\n",
      "arquivo a ser aberto:  4\n",
      "(53850, 3000)\n",
      "(5984, 3000)\n",
      "Fri Apr 26 00:04:25 2019\n",
      "fit model\n"
     ]
    },
    {
     "name": "stderr",
     "output_type": "stream",
     "text": [
      "C:\\Users\\Rodolfo\\AppData\\Roaming\\Python\\Python36\\site-packages\\sklearn\\linear_model\\logistic.py:433: FutureWarning: Default solver will be changed to 'lbfgs' in 0.22. Specify a solver to silence this warning.\n",
      "  FutureWarning)\n",
      "C:\\Users\\Rodolfo\\AppData\\Roaming\\Python\\Python36\\site-packages\\sklearn\\linear_model\\logistic.py:460: FutureWarning: Default multi_class will be changed to 'auto' in 0.22. Specify the multi_class option to silence this warning.\n",
      "  \"this warning.\", FutureWarning)\n"
     ]
    },
    {
     "name": "stdout",
     "output_type": "stream",
     "text": [
      "Fri Apr 26 00:05:51 2019\n",
      "predict\n",
      "Fri Apr 26 00:06:02 2019\n"
     ]
    },
    {
     "name": "stderr",
     "output_type": "stream",
     "text": [
      "C:\\Users\\Rodolfo\\AppData\\Roaming\\Python\\Python36\\site-packages\\sklearn\\metrics\\classification.py:1143: UndefinedMetricWarning: Precision is ill-defined and being set to 0.0 in labels with no predicted samples.\n",
      "  'precision', 'predicted', average, warn_for)\n",
      "C:\\Users\\Rodolfo\\AppData\\Roaming\\Python\\Python36\\site-packages\\sklearn\\metrics\\classification.py:1143: UndefinedMetricWarning: F-score is ill-defined and being set to 0.0 in labels with no predicted samples.\n",
      "  'precision', 'predicted', average, warn_for)\n",
      "C:\\Users\\Rodolfo\\AppData\\Roaming\\Python\\Python36\\site-packages\\sklearn\\metrics\\classification.py:1143: UndefinedMetricWarning: Precision and F-score are ill-defined and being set to 0.0 in labels with no predicted samples.\n",
      "  'precision', 'predicted', average, warn_for)\n"
     ]
    },
    {
     "name": "stdout",
     "output_type": "stream",
     "text": [
      "5\n",
      "open files\n",
      "Fri Apr 26 00:06:02 2019\n",
      "arquivo a ser aberto:  5\n",
      "(53850, 3000)\n",
      "(5984, 3000)\n",
      "Fri Apr 26 00:06:02 2019\n",
      "fit model\n"
     ]
    },
    {
     "name": "stderr",
     "output_type": "stream",
     "text": [
      "C:\\Users\\Rodolfo\\AppData\\Roaming\\Python\\Python36\\site-packages\\sklearn\\linear_model\\logistic.py:433: FutureWarning: Default solver will be changed to 'lbfgs' in 0.22. Specify a solver to silence this warning.\n",
      "  FutureWarning)\n",
      "C:\\Users\\Rodolfo\\AppData\\Roaming\\Python\\Python36\\site-packages\\sklearn\\linear_model\\logistic.py:460: FutureWarning: Default multi_class will be changed to 'auto' in 0.22. Specify the multi_class option to silence this warning.\n",
      "  \"this warning.\", FutureWarning)\n"
     ]
    },
    {
     "name": "stdout",
     "output_type": "stream",
     "text": [
      "Fri Apr 26 00:07:25 2019\n",
      "predict\n",
      "Fri Apr 26 00:07:29 2019\n"
     ]
    },
    {
     "name": "stderr",
     "output_type": "stream",
     "text": [
      "C:\\Users\\Rodolfo\\AppData\\Roaming\\Python\\Python36\\site-packages\\sklearn\\metrics\\classification.py:1143: UndefinedMetricWarning: Precision is ill-defined and being set to 0.0 in labels with no predicted samples.\n",
      "  'precision', 'predicted', average, warn_for)\n",
      "C:\\Users\\Rodolfo\\AppData\\Roaming\\Python\\Python36\\site-packages\\sklearn\\metrics\\classification.py:1143: UndefinedMetricWarning: F-score is ill-defined and being set to 0.0 in labels with no predicted samples.\n",
      "  'precision', 'predicted', average, warn_for)\n",
      "C:\\Users\\Rodolfo\\AppData\\Roaming\\Python\\Python36\\site-packages\\sklearn\\metrics\\classification.py:1143: UndefinedMetricWarning: Precision and F-score are ill-defined and being set to 0.0 in labels with no predicted samples.\n",
      "  'precision', 'predicted', average, warn_for)\n"
     ]
    },
    {
     "name": "stdout",
     "output_type": "stream",
     "text": [
      "6\n",
      "open files\n",
      "Fri Apr 26 00:07:29 2019\n",
      "arquivo a ser aberto:  6\n",
      "(53850, 3000)\n",
      "(5984, 3000)\n",
      "Fri Apr 26 00:07:29 2019\n",
      "fit model\n"
     ]
    },
    {
     "name": "stderr",
     "output_type": "stream",
     "text": [
      "C:\\Users\\Rodolfo\\AppData\\Roaming\\Python\\Python36\\site-packages\\sklearn\\linear_model\\logistic.py:433: FutureWarning: Default solver will be changed to 'lbfgs' in 0.22. Specify a solver to silence this warning.\n",
      "  FutureWarning)\n",
      "C:\\Users\\Rodolfo\\AppData\\Roaming\\Python\\Python36\\site-packages\\sklearn\\linear_model\\logistic.py:460: FutureWarning: Default multi_class will be changed to 'auto' in 0.22. Specify the multi_class option to silence this warning.\n",
      "  \"this warning.\", FutureWarning)\n"
     ]
    },
    {
     "name": "stdout",
     "output_type": "stream",
     "text": [
      "Fri Apr 26 00:08:51 2019\n",
      "predict\n",
      "Fri Apr 26 00:08:54 2019\n"
     ]
    },
    {
     "name": "stderr",
     "output_type": "stream",
     "text": [
      "C:\\Users\\Rodolfo\\AppData\\Roaming\\Python\\Python36\\site-packages\\sklearn\\metrics\\classification.py:1143: UndefinedMetricWarning: Precision is ill-defined and being set to 0.0 in labels with no predicted samples.\n",
      "  'precision', 'predicted', average, warn_for)\n",
      "C:\\Users\\Rodolfo\\AppData\\Roaming\\Python\\Python36\\site-packages\\sklearn\\metrics\\classification.py:1143: UndefinedMetricWarning: F-score is ill-defined and being set to 0.0 in labels with no predicted samples.\n",
      "  'precision', 'predicted', average, warn_for)\n",
      "C:\\Users\\Rodolfo\\AppData\\Roaming\\Python\\Python36\\site-packages\\sklearn\\metrics\\classification.py:1143: UndefinedMetricWarning: Precision and F-score are ill-defined and being set to 0.0 in labels with no predicted samples.\n",
      "  'precision', 'predicted', average, warn_for)\n"
     ]
    },
    {
     "name": "stdout",
     "output_type": "stream",
     "text": [
      "7\n",
      "open files\n",
      "Fri Apr 26 00:08:55 2019\n",
      "arquivo a ser aberto:  7\n",
      "(53851, 3000)\n",
      "(5983, 3000)\n",
      "Fri Apr 26 00:08:55 2019\n",
      "fit model\n"
     ]
    },
    {
     "name": "stderr",
     "output_type": "stream",
     "text": [
      "C:\\Users\\Rodolfo\\AppData\\Roaming\\Python\\Python36\\site-packages\\sklearn\\linear_model\\logistic.py:433: FutureWarning: Default solver will be changed to 'lbfgs' in 0.22. Specify a solver to silence this warning.\n",
      "  FutureWarning)\n",
      "C:\\Users\\Rodolfo\\AppData\\Roaming\\Python\\Python36\\site-packages\\sklearn\\linear_model\\logistic.py:460: FutureWarning: Default multi_class will be changed to 'auto' in 0.22. Specify the multi_class option to silence this warning.\n",
      "  \"this warning.\", FutureWarning)\n"
     ]
    },
    {
     "name": "stdout",
     "output_type": "stream",
     "text": [
      "Fri Apr 26 00:10:16 2019\n",
      "predict\n",
      "Fri Apr 26 00:10:21 2019\n"
     ]
    },
    {
     "name": "stderr",
     "output_type": "stream",
     "text": [
      "C:\\Users\\Rodolfo\\AppData\\Roaming\\Python\\Python36\\site-packages\\sklearn\\metrics\\classification.py:1143: UndefinedMetricWarning: Precision is ill-defined and being set to 0.0 in labels with no predicted samples.\n",
      "  'precision', 'predicted', average, warn_for)\n",
      "C:\\Users\\Rodolfo\\AppData\\Roaming\\Python\\Python36\\site-packages\\sklearn\\metrics\\classification.py:1143: UndefinedMetricWarning: F-score is ill-defined and being set to 0.0 in labels with no predicted samples.\n",
      "  'precision', 'predicted', average, warn_for)\n",
      "C:\\Users\\Rodolfo\\AppData\\Roaming\\Python\\Python36\\site-packages\\sklearn\\metrics\\classification.py:1143: UndefinedMetricWarning: Precision and F-score are ill-defined and being set to 0.0 in labels with no predicted samples.\n",
      "  'precision', 'predicted', average, warn_for)\n",
      "C:\\Users\\Rodolfo\\AppData\\Roaming\\Python\\Python36\\site-packages\\sklearn\\linear_model\\logistic.py:433: FutureWarning: Default solver will be changed to 'lbfgs' in 0.22. Specify a solver to silence this warning.\n",
      "  FutureWarning)\n"
     ]
    },
    {
     "name": "stdout",
     "output_type": "stream",
     "text": [
      "8\n",
      "open files\n",
      "Fri Apr 26 00:10:22 2019\n",
      "arquivo a ser aberto:  8\n",
      "(53851, 3000)\n",
      "(5983, 3000)\n",
      "Fri Apr 26 00:10:22 2019\n",
      "fit model\n"
     ]
    },
    {
     "name": "stderr",
     "output_type": "stream",
     "text": [
      "C:\\Users\\Rodolfo\\AppData\\Roaming\\Python\\Python36\\site-packages\\sklearn\\linear_model\\logistic.py:460: FutureWarning: Default multi_class will be changed to 'auto' in 0.22. Specify the multi_class option to silence this warning.\n",
      "  \"this warning.\", FutureWarning)\n"
     ]
    },
    {
     "name": "stdout",
     "output_type": "stream",
     "text": [
      "Fri Apr 26 00:11:47 2019\n",
      "predict\n",
      "Fri Apr 26 00:12:06 2019\n"
     ]
    },
    {
     "name": "stderr",
     "output_type": "stream",
     "text": [
      "C:\\Users\\Rodolfo\\AppData\\Roaming\\Python\\Python36\\site-packages\\sklearn\\metrics\\classification.py:1143: UndefinedMetricWarning: Precision is ill-defined and being set to 0.0 in labels with no predicted samples.\n",
      "  'precision', 'predicted', average, warn_for)\n",
      "C:\\Users\\Rodolfo\\AppData\\Roaming\\Python\\Python36\\site-packages\\sklearn\\metrics\\classification.py:1143: UndefinedMetricWarning: F-score is ill-defined and being set to 0.0 in labels with no predicted samples.\n",
      "  'precision', 'predicted', average, warn_for)\n",
      "C:\\Users\\Rodolfo\\AppData\\Roaming\\Python\\Python36\\site-packages\\sklearn\\metrics\\classification.py:1143: UndefinedMetricWarning: Precision and F-score are ill-defined and being set to 0.0 in labels with no predicted samples.\n",
      "  'precision', 'predicted', average, warn_for)\n"
     ]
    },
    {
     "name": "stdout",
     "output_type": "stream",
     "text": [
      "9\n",
      "open files\n",
      "Fri Apr 26 00:12:06 2019\n",
      "arquivo a ser aberto:  9\n",
      "(53853, 3000)\n",
      "(5981, 3000)\n",
      "Fri Apr 26 00:12:06 2019\n",
      "fit model\n"
     ]
    },
    {
     "name": "stderr",
     "output_type": "stream",
     "text": [
      "C:\\Users\\Rodolfo\\AppData\\Roaming\\Python\\Python36\\site-packages\\sklearn\\linear_model\\logistic.py:433: FutureWarning: Default solver will be changed to 'lbfgs' in 0.22. Specify a solver to silence this warning.\n",
      "  FutureWarning)\n",
      "C:\\Users\\Rodolfo\\AppData\\Roaming\\Python\\Python36\\site-packages\\sklearn\\linear_model\\logistic.py:460: FutureWarning: Default multi_class will be changed to 'auto' in 0.22. Specify the multi_class option to silence this warning.\n",
      "  \"this warning.\", FutureWarning)\n"
     ]
    },
    {
     "name": "stdout",
     "output_type": "stream",
     "text": [
      "Fri Apr 26 00:13:28 2019\n",
      "predict\n",
      "Fri Apr 26 00:13:31 2019\n"
     ]
    },
    {
     "name": "stderr",
     "output_type": "stream",
     "text": [
      "C:\\Users\\Rodolfo\\AppData\\Roaming\\Python\\Python36\\site-packages\\sklearn\\metrics\\classification.py:1143: UndefinedMetricWarning: Precision is ill-defined and being set to 0.0 in labels with no predicted samples.\n",
      "  'precision', 'predicted', average, warn_for)\n",
      "C:\\Users\\Rodolfo\\AppData\\Roaming\\Python\\Python36\\site-packages\\sklearn\\metrics\\classification.py:1143: UndefinedMetricWarning: F-score is ill-defined and being set to 0.0 in labels with no predicted samples.\n",
      "  'precision', 'predicted', average, warn_for)\n",
      "C:\\Users\\Rodolfo\\AppData\\Roaming\\Python\\Python36\\site-packages\\sklearn\\metrics\\classification.py:1143: UndefinedMetricWarning: Precision and F-score are ill-defined and being set to 0.0 in labels with no predicted samples.\n",
      "  'precision', 'predicted', average, warn_for)\n"
     ]
    },
    {
     "name": "stdout",
     "output_type": "stream",
     "text": [
      "10\n",
      "open files\n",
      "Fri Apr 26 00:13:31 2019\n",
      "arquivo a ser aberto:  10\n",
      "(53854, 3000)\n",
      "(5980, 3000)\n",
      "Fri Apr 26 00:13:31 2019\n",
      "fit model\n"
     ]
    },
    {
     "name": "stderr",
     "output_type": "stream",
     "text": [
      "C:\\Users\\Rodolfo\\AppData\\Roaming\\Python\\Python36\\site-packages\\sklearn\\linear_model\\logistic.py:433: FutureWarning: Default solver will be changed to 'lbfgs' in 0.22. Specify a solver to silence this warning.\n",
      "  FutureWarning)\n",
      "C:\\Users\\Rodolfo\\AppData\\Roaming\\Python\\Python36\\site-packages\\sklearn\\linear_model\\logistic.py:460: FutureWarning: Default multi_class will be changed to 'auto' in 0.22. Specify the multi_class option to silence this warning.\n",
      "  \"this warning.\", FutureWarning)\n"
     ]
    },
    {
     "name": "stdout",
     "output_type": "stream",
     "text": [
      "Fri Apr 26 00:15:04 2019\n",
      "predict\n",
      "Fri Apr 26 00:15:08 2019\n"
     ]
    },
    {
     "name": "stderr",
     "output_type": "stream",
     "text": [
      "C:\\Users\\Rodolfo\\AppData\\Roaming\\Python\\Python36\\site-packages\\sklearn\\metrics\\classification.py:1143: UndefinedMetricWarning: Precision is ill-defined and being set to 0.0 in labels with no predicted samples.\n",
      "  'precision', 'predicted', average, warn_for)\n",
      "C:\\Users\\Rodolfo\\AppData\\Roaming\\Python\\Python36\\site-packages\\sklearn\\metrics\\classification.py:1143: UndefinedMetricWarning: F-score is ill-defined and being set to 0.0 in labels with no predicted samples.\n",
      "  'precision', 'predicted', average, warn_for)\n",
      "C:\\Users\\Rodolfo\\AppData\\Roaming\\Python\\Python36\\site-packages\\sklearn\\metrics\\classification.py:1143: UndefinedMetricWarning: Precision and F-score are ill-defined and being set to 0.0 in labels with no predicted samples.\n",
      "  'precision', 'predicted', average, warn_for)\n"
     ]
    },
    {
     "name": "stdout",
     "output_type": "stream",
     "text": [
      "*** Parametro:  {'C': 0.01, 'penalty': 'l2'}\n",
      "1\n",
      "open files\n",
      "Fri Apr 26 00:15:10 2019\n",
      "arquivo a ser aberto:  1\n",
      "(53849, 3000)\n",
      "(5985, 3000)\n",
      "Fri Apr 26 00:15:10 2019\n",
      "fit model\n"
     ]
    },
    {
     "name": "stderr",
     "output_type": "stream",
     "text": [
      "C:\\Users\\Rodolfo\\AppData\\Roaming\\Python\\Python36\\site-packages\\sklearn\\linear_model\\logistic.py:433: FutureWarning: Default solver will be changed to 'lbfgs' in 0.22. Specify a solver to silence this warning.\n",
      "  FutureWarning)\n",
      "C:\\Users\\Rodolfo\\AppData\\Roaming\\Python\\Python36\\site-packages\\sklearn\\linear_model\\logistic.py:460: FutureWarning: Default multi_class will be changed to 'auto' in 0.22. Specify the multi_class option to silence this warning.\n",
      "  \"this warning.\", FutureWarning)\n"
     ]
    },
    {
     "name": "stdout",
     "output_type": "stream",
     "text": [
      "Fri Apr 26 00:16:30 2019\n",
      "predict\n",
      "Fri Apr 26 00:16:33 2019\n"
     ]
    },
    {
     "name": "stderr",
     "output_type": "stream",
     "text": [
      "C:\\Users\\Rodolfo\\AppData\\Roaming\\Python\\Python36\\site-packages\\sklearn\\metrics\\classification.py:1143: UndefinedMetricWarning: Precision is ill-defined and being set to 0.0 in labels with no predicted samples.\n",
      "  'precision', 'predicted', average, warn_for)\n",
      "C:\\Users\\Rodolfo\\AppData\\Roaming\\Python\\Python36\\site-packages\\sklearn\\metrics\\classification.py:1143: UndefinedMetricWarning: F-score is ill-defined and being set to 0.0 in labels with no predicted samples.\n",
      "  'precision', 'predicted', average, warn_for)\n",
      "C:\\Users\\Rodolfo\\AppData\\Roaming\\Python\\Python36\\site-packages\\sklearn\\metrics\\classification.py:1143: UndefinedMetricWarning: Precision and F-score are ill-defined and being set to 0.0 in labels with no predicted samples.\n",
      "  'precision', 'predicted', average, warn_for)\n"
     ]
    },
    {
     "name": "stdout",
     "output_type": "stream",
     "text": [
      "2\n",
      "open files\n",
      "Fri Apr 26 00:16:33 2019\n",
      "arquivo a ser aberto:  2\n",
      "(53849, 3000)\n",
      "(5985, 3000)\n",
      "Fri Apr 26 00:16:33 2019\n",
      "fit model\n"
     ]
    },
    {
     "name": "stderr",
     "output_type": "stream",
     "text": [
      "C:\\Users\\Rodolfo\\AppData\\Roaming\\Python\\Python36\\site-packages\\sklearn\\linear_model\\logistic.py:433: FutureWarning: Default solver will be changed to 'lbfgs' in 0.22. Specify a solver to silence this warning.\n",
      "  FutureWarning)\n",
      "C:\\Users\\Rodolfo\\AppData\\Roaming\\Python\\Python36\\site-packages\\sklearn\\linear_model\\logistic.py:460: FutureWarning: Default multi_class will be changed to 'auto' in 0.22. Specify the multi_class option to silence this warning.\n",
      "  \"this warning.\", FutureWarning)\n"
     ]
    },
    {
     "name": "stdout",
     "output_type": "stream",
     "text": [
      "Fri Apr 26 00:17:57 2019\n",
      "predict\n",
      "Fri Apr 26 00:18:00 2019\n"
     ]
    },
    {
     "name": "stderr",
     "output_type": "stream",
     "text": [
      "C:\\Users\\Rodolfo\\AppData\\Roaming\\Python\\Python36\\site-packages\\sklearn\\metrics\\classification.py:1143: UndefinedMetricWarning: Precision is ill-defined and being set to 0.0 in labels with no predicted samples.\n",
      "  'precision', 'predicted', average, warn_for)\n",
      "C:\\Users\\Rodolfo\\AppData\\Roaming\\Python\\Python36\\site-packages\\sklearn\\metrics\\classification.py:1143: UndefinedMetricWarning: F-score is ill-defined and being set to 0.0 in labels with no predicted samples.\n",
      "  'precision', 'predicted', average, warn_for)\n",
      "C:\\Users\\Rodolfo\\AppData\\Roaming\\Python\\Python36\\site-packages\\sklearn\\metrics\\classification.py:1143: UndefinedMetricWarning: Precision and F-score are ill-defined and being set to 0.0 in labels with no predicted samples.\n",
      "  'precision', 'predicted', average, warn_for)\n"
     ]
    },
    {
     "name": "stdout",
     "output_type": "stream",
     "text": [
      "3\n",
      "open files\n",
      "Fri Apr 26 00:18:00 2019\n",
      "arquivo a ser aberto:  3\n",
      "(53849, 3000)\n",
      "(5985, 3000)\n",
      "Fri Apr 26 00:18:00 2019\n",
      "fit model\n"
     ]
    },
    {
     "name": "stderr",
     "output_type": "stream",
     "text": [
      "C:\\Users\\Rodolfo\\AppData\\Roaming\\Python\\Python36\\site-packages\\sklearn\\linear_model\\logistic.py:433: FutureWarning: Default solver will be changed to 'lbfgs' in 0.22. Specify a solver to silence this warning.\n",
      "  FutureWarning)\n",
      "C:\\Users\\Rodolfo\\AppData\\Roaming\\Python\\Python36\\site-packages\\sklearn\\linear_model\\logistic.py:460: FutureWarning: Default multi_class will be changed to 'auto' in 0.22. Specify the multi_class option to silence this warning.\n",
      "  \"this warning.\", FutureWarning)\n"
     ]
    },
    {
     "name": "stdout",
     "output_type": "stream",
     "text": [
      "Fri Apr 26 00:19:21 2019\n",
      "predict\n",
      "Fri Apr 26 00:19:23 2019\n"
     ]
    },
    {
     "name": "stderr",
     "output_type": "stream",
     "text": [
      "C:\\Users\\Rodolfo\\AppData\\Roaming\\Python\\Python36\\site-packages\\sklearn\\metrics\\classification.py:1143: UndefinedMetricWarning: Precision is ill-defined and being set to 0.0 in labels with no predicted samples.\n",
      "  'precision', 'predicted', average, warn_for)\n",
      "C:\\Users\\Rodolfo\\AppData\\Roaming\\Python\\Python36\\site-packages\\sklearn\\metrics\\classification.py:1143: UndefinedMetricWarning: F-score is ill-defined and being set to 0.0 in labels with no predicted samples.\n",
      "  'precision', 'predicted', average, warn_for)\n",
      "C:\\Users\\Rodolfo\\AppData\\Roaming\\Python\\Python36\\site-packages\\sklearn\\metrics\\classification.py:1143: UndefinedMetricWarning: Precision and F-score are ill-defined and being set to 0.0 in labels with no predicted samples.\n",
      "  'precision', 'predicted', average, warn_for)\n"
     ]
    },
    {
     "name": "stdout",
     "output_type": "stream",
     "text": [
      "4\n",
      "open files\n",
      "Fri Apr 26 00:19:23 2019\n",
      "arquivo a ser aberto:  4\n",
      "(53850, 3000)\n",
      "(5984, 3000)\n",
      "Fri Apr 26 00:19:23 2019\n",
      "fit model\n"
     ]
    },
    {
     "name": "stderr",
     "output_type": "stream",
     "text": [
      "C:\\Users\\Rodolfo\\AppData\\Roaming\\Python\\Python36\\site-packages\\sklearn\\linear_model\\logistic.py:433: FutureWarning: Default solver will be changed to 'lbfgs' in 0.22. Specify a solver to silence this warning.\n",
      "  FutureWarning)\n",
      "C:\\Users\\Rodolfo\\AppData\\Roaming\\Python\\Python36\\site-packages\\sklearn\\linear_model\\logistic.py:460: FutureWarning: Default multi_class will be changed to 'auto' in 0.22. Specify the multi_class option to silence this warning.\n",
      "  \"this warning.\", FutureWarning)\n"
     ]
    },
    {
     "name": "stdout",
     "output_type": "stream",
     "text": [
      "Fri Apr 26 00:20:47 2019\n",
      "predict\n",
      "Fri Apr 26 00:20:49 2019\n"
     ]
    },
    {
     "name": "stderr",
     "output_type": "stream",
     "text": [
      "C:\\Users\\Rodolfo\\AppData\\Roaming\\Python\\Python36\\site-packages\\sklearn\\metrics\\classification.py:1143: UndefinedMetricWarning: Precision is ill-defined and being set to 0.0 in labels with no predicted samples.\n",
      "  'precision', 'predicted', average, warn_for)\n",
      "C:\\Users\\Rodolfo\\AppData\\Roaming\\Python\\Python36\\site-packages\\sklearn\\metrics\\classification.py:1143: UndefinedMetricWarning: F-score is ill-defined and being set to 0.0 in labels with no predicted samples.\n",
      "  'precision', 'predicted', average, warn_for)\n",
      "C:\\Users\\Rodolfo\\AppData\\Roaming\\Python\\Python36\\site-packages\\sklearn\\metrics\\classification.py:1143: UndefinedMetricWarning: Precision and F-score are ill-defined and being set to 0.0 in labels with no predicted samples.\n",
      "  'precision', 'predicted', average, warn_for)\n"
     ]
    },
    {
     "name": "stdout",
     "output_type": "stream",
     "text": [
      "5\n",
      "open files\n",
      "Fri Apr 26 00:20:49 2019\n",
      "arquivo a ser aberto:  5\n",
      "(53850, 3000)\n",
      "(5984, 3000)\n",
      "Fri Apr 26 00:20:49 2019\n",
      "fit model\n"
     ]
    },
    {
     "name": "stderr",
     "output_type": "stream",
     "text": [
      "C:\\Users\\Rodolfo\\AppData\\Roaming\\Python\\Python36\\site-packages\\sklearn\\linear_model\\logistic.py:433: FutureWarning: Default solver will be changed to 'lbfgs' in 0.22. Specify a solver to silence this warning.\n",
      "  FutureWarning)\n",
      "C:\\Users\\Rodolfo\\AppData\\Roaming\\Python\\Python36\\site-packages\\sklearn\\linear_model\\logistic.py:460: FutureWarning: Default multi_class will be changed to 'auto' in 0.22. Specify the multi_class option to silence this warning.\n",
      "  \"this warning.\", FutureWarning)\n"
     ]
    },
    {
     "name": "stdout",
     "output_type": "stream",
     "text": [
      "Fri Apr 26 00:22:11 2019\n",
      "predict\n",
      "Fri Apr 26 00:22:14 2019\n"
     ]
    },
    {
     "name": "stderr",
     "output_type": "stream",
     "text": [
      "C:\\Users\\Rodolfo\\AppData\\Roaming\\Python\\Python36\\site-packages\\sklearn\\metrics\\classification.py:1143: UndefinedMetricWarning: Precision is ill-defined and being set to 0.0 in labels with no predicted samples.\n",
      "  'precision', 'predicted', average, warn_for)\n",
      "C:\\Users\\Rodolfo\\AppData\\Roaming\\Python\\Python36\\site-packages\\sklearn\\metrics\\classification.py:1143: UndefinedMetricWarning: F-score is ill-defined and being set to 0.0 in labels with no predicted samples.\n",
      "  'precision', 'predicted', average, warn_for)\n",
      "C:\\Users\\Rodolfo\\AppData\\Roaming\\Python\\Python36\\site-packages\\sklearn\\metrics\\classification.py:1143: UndefinedMetricWarning: Precision and F-score are ill-defined and being set to 0.0 in labels with no predicted samples.\n",
      "  'precision', 'predicted', average, warn_for)\n"
     ]
    },
    {
     "name": "stdout",
     "output_type": "stream",
     "text": [
      "6\n",
      "open files\n",
      "Fri Apr 26 00:22:14 2019\n",
      "arquivo a ser aberto:  6\n",
      "(53850, 3000)\n",
      "(5984, 3000)\n",
      "Fri Apr 26 00:22:14 2019\n",
      "fit model\n"
     ]
    },
    {
     "name": "stderr",
     "output_type": "stream",
     "text": [
      "C:\\Users\\Rodolfo\\AppData\\Roaming\\Python\\Python36\\site-packages\\sklearn\\linear_model\\logistic.py:433: FutureWarning: Default solver will be changed to 'lbfgs' in 0.22. Specify a solver to silence this warning.\n",
      "  FutureWarning)\n",
      "C:\\Users\\Rodolfo\\AppData\\Roaming\\Python\\Python36\\site-packages\\sklearn\\linear_model\\logistic.py:460: FutureWarning: Default multi_class will be changed to 'auto' in 0.22. Specify the multi_class option to silence this warning.\n",
      "  \"this warning.\", FutureWarning)\n"
     ]
    },
    {
     "name": "stdout",
     "output_type": "stream",
     "text": [
      "Fri Apr 26 00:23:33 2019\n",
      "predict\n",
      "Fri Apr 26 00:23:35 2019\n"
     ]
    },
    {
     "name": "stderr",
     "output_type": "stream",
     "text": [
      "C:\\Users\\Rodolfo\\AppData\\Roaming\\Python\\Python36\\site-packages\\sklearn\\metrics\\classification.py:1143: UndefinedMetricWarning: Precision is ill-defined and being set to 0.0 in labels with no predicted samples.\n",
      "  'precision', 'predicted', average, warn_for)\n",
      "C:\\Users\\Rodolfo\\AppData\\Roaming\\Python\\Python36\\site-packages\\sklearn\\metrics\\classification.py:1143: UndefinedMetricWarning: F-score is ill-defined and being set to 0.0 in labels with no predicted samples.\n",
      "  'precision', 'predicted', average, warn_for)\n",
      "C:\\Users\\Rodolfo\\AppData\\Roaming\\Python\\Python36\\site-packages\\sklearn\\metrics\\classification.py:1143: UndefinedMetricWarning: Precision and F-score are ill-defined and being set to 0.0 in labels with no predicted samples.\n",
      "  'precision', 'predicted', average, warn_for)\n"
     ]
    },
    {
     "name": "stdout",
     "output_type": "stream",
     "text": [
      "7\n",
      "open files\n",
      "Fri Apr 26 00:23:35 2019\n",
      "arquivo a ser aberto:  7\n",
      "(53851, 3000)\n",
      "(5983, 3000)\n",
      "Fri Apr 26 00:23:35 2019\n",
      "fit model\n"
     ]
    },
    {
     "name": "stderr",
     "output_type": "stream",
     "text": [
      "C:\\Users\\Rodolfo\\AppData\\Roaming\\Python\\Python36\\site-packages\\sklearn\\linear_model\\logistic.py:433: FutureWarning: Default solver will be changed to 'lbfgs' in 0.22. Specify a solver to silence this warning.\n",
      "  FutureWarning)\n",
      "C:\\Users\\Rodolfo\\AppData\\Roaming\\Python\\Python36\\site-packages\\sklearn\\linear_model\\logistic.py:460: FutureWarning: Default multi_class will be changed to 'auto' in 0.22. Specify the multi_class option to silence this warning.\n",
      "  \"this warning.\", FutureWarning)\n"
     ]
    },
    {
     "name": "stdout",
     "output_type": "stream",
     "text": [
      "Fri Apr 26 00:25:02 2019\n",
      "predict\n",
      "Fri Apr 26 00:25:04 2019\n"
     ]
    },
    {
     "name": "stderr",
     "output_type": "stream",
     "text": [
      "C:\\Users\\Rodolfo\\AppData\\Roaming\\Python\\Python36\\site-packages\\sklearn\\metrics\\classification.py:1143: UndefinedMetricWarning: Precision is ill-defined and being set to 0.0 in labels with no predicted samples.\n",
      "  'precision', 'predicted', average, warn_for)\n",
      "C:\\Users\\Rodolfo\\AppData\\Roaming\\Python\\Python36\\site-packages\\sklearn\\metrics\\classification.py:1143: UndefinedMetricWarning: F-score is ill-defined and being set to 0.0 in labels with no predicted samples.\n",
      "  'precision', 'predicted', average, warn_for)\n",
      "C:\\Users\\Rodolfo\\AppData\\Roaming\\Python\\Python36\\site-packages\\sklearn\\metrics\\classification.py:1143: UndefinedMetricWarning: Precision and F-score are ill-defined and being set to 0.0 in labels with no predicted samples.\n",
      "  'precision', 'predicted', average, warn_for)\n"
     ]
    },
    {
     "name": "stdout",
     "output_type": "stream",
     "text": [
      "8\n",
      "open files\n",
      "Fri Apr 26 00:25:04 2019\n",
      "arquivo a ser aberto:  8\n",
      "(53851, 3000)\n",
      "(5983, 3000)\n",
      "Fri Apr 26 00:25:04 2019\n",
      "fit model\n"
     ]
    },
    {
     "name": "stderr",
     "output_type": "stream",
     "text": [
      "C:\\Users\\Rodolfo\\AppData\\Roaming\\Python\\Python36\\site-packages\\sklearn\\linear_model\\logistic.py:433: FutureWarning: Default solver will be changed to 'lbfgs' in 0.22. Specify a solver to silence this warning.\n",
      "  FutureWarning)\n",
      "C:\\Users\\Rodolfo\\AppData\\Roaming\\Python\\Python36\\site-packages\\sklearn\\linear_model\\logistic.py:460: FutureWarning: Default multi_class will be changed to 'auto' in 0.22. Specify the multi_class option to silence this warning.\n",
      "  \"this warning.\", FutureWarning)\n"
     ]
    },
    {
     "name": "stdout",
     "output_type": "stream",
     "text": [
      "Fri Apr 26 00:26:26 2019\n",
      "predict\n",
      "Fri Apr 26 00:26:28 2019\n"
     ]
    },
    {
     "name": "stderr",
     "output_type": "stream",
     "text": [
      "C:\\Users\\Rodolfo\\AppData\\Roaming\\Python\\Python36\\site-packages\\sklearn\\metrics\\classification.py:1143: UndefinedMetricWarning: Precision is ill-defined and being set to 0.0 in labels with no predicted samples.\n",
      "  'precision', 'predicted', average, warn_for)\n",
      "C:\\Users\\Rodolfo\\AppData\\Roaming\\Python\\Python36\\site-packages\\sklearn\\metrics\\classification.py:1143: UndefinedMetricWarning: F-score is ill-defined and being set to 0.0 in labels with no predicted samples.\n",
      "  'precision', 'predicted', average, warn_for)\n",
      "C:\\Users\\Rodolfo\\AppData\\Roaming\\Python\\Python36\\site-packages\\sklearn\\metrics\\classification.py:1143: UndefinedMetricWarning: Precision and F-score are ill-defined and being set to 0.0 in labels with no predicted samples.\n",
      "  'precision', 'predicted', average, warn_for)\n"
     ]
    },
    {
     "name": "stdout",
     "output_type": "stream",
     "text": [
      "9\n",
      "open files\n",
      "Fri Apr 26 00:26:28 2019\n",
      "arquivo a ser aberto:  9\n",
      "(53853, 3000)\n",
      "(5981, 3000)\n",
      "Fri Apr 26 00:26:28 2019\n",
      "fit model\n"
     ]
    },
    {
     "name": "stderr",
     "output_type": "stream",
     "text": [
      "C:\\Users\\Rodolfo\\AppData\\Roaming\\Python\\Python36\\site-packages\\sklearn\\linear_model\\logistic.py:433: FutureWarning: Default solver will be changed to 'lbfgs' in 0.22. Specify a solver to silence this warning.\n",
      "  FutureWarning)\n",
      "C:\\Users\\Rodolfo\\AppData\\Roaming\\Python\\Python36\\site-packages\\sklearn\\linear_model\\logistic.py:460: FutureWarning: Default multi_class will be changed to 'auto' in 0.22. Specify the multi_class option to silence this warning.\n",
      "  \"this warning.\", FutureWarning)\n"
     ]
    },
    {
     "name": "stdout",
     "output_type": "stream",
     "text": [
      "Fri Apr 26 00:27:50 2019\n",
      "predict\n",
      "Fri Apr 26 00:27:53 2019\n"
     ]
    },
    {
     "name": "stderr",
     "output_type": "stream",
     "text": [
      "C:\\Users\\Rodolfo\\AppData\\Roaming\\Python\\Python36\\site-packages\\sklearn\\metrics\\classification.py:1143: UndefinedMetricWarning: Precision is ill-defined and being set to 0.0 in labels with no predicted samples.\n",
      "  'precision', 'predicted', average, warn_for)\n",
      "C:\\Users\\Rodolfo\\AppData\\Roaming\\Python\\Python36\\site-packages\\sklearn\\metrics\\classification.py:1143: UndefinedMetricWarning: F-score is ill-defined and being set to 0.0 in labels with no predicted samples.\n",
      "  'precision', 'predicted', average, warn_for)\n",
      "C:\\Users\\Rodolfo\\AppData\\Roaming\\Python\\Python36\\site-packages\\sklearn\\metrics\\classification.py:1143: UndefinedMetricWarning: Precision and F-score are ill-defined and being set to 0.0 in labels with no predicted samples.\n",
      "  'precision', 'predicted', average, warn_for)\n"
     ]
    },
    {
     "name": "stdout",
     "output_type": "stream",
     "text": [
      "10\n",
      "open files\n",
      "Fri Apr 26 00:27:53 2019\n",
      "arquivo a ser aberto:  10\n",
      "(53854, 3000)\n",
      "(5980, 3000)\n",
      "Fri Apr 26 00:27:53 2019\n",
      "fit model\n"
     ]
    },
    {
     "name": "stderr",
     "output_type": "stream",
     "text": [
      "C:\\Users\\Rodolfo\\AppData\\Roaming\\Python\\Python36\\site-packages\\sklearn\\linear_model\\logistic.py:433: FutureWarning: Default solver will be changed to 'lbfgs' in 0.22. Specify a solver to silence this warning.\n",
      "  FutureWarning)\n",
      "C:\\Users\\Rodolfo\\AppData\\Roaming\\Python\\Python36\\site-packages\\sklearn\\linear_model\\logistic.py:460: FutureWarning: Default multi_class will be changed to 'auto' in 0.22. Specify the multi_class option to silence this warning.\n",
      "  \"this warning.\", FutureWarning)\n"
     ]
    },
    {
     "name": "stdout",
     "output_type": "stream",
     "text": [
      "Fri Apr 26 00:29:13 2019\n",
      "predict\n",
      "Fri Apr 26 00:29:15 2019\n"
     ]
    },
    {
     "name": "stderr",
     "output_type": "stream",
     "text": [
      "C:\\Users\\Rodolfo\\AppData\\Roaming\\Python\\Python36\\site-packages\\sklearn\\metrics\\classification.py:1143: UndefinedMetricWarning: Precision is ill-defined and being set to 0.0 in labels with no predicted samples.\n",
      "  'precision', 'predicted', average, warn_for)\n",
      "C:\\Users\\Rodolfo\\AppData\\Roaming\\Python\\Python36\\site-packages\\sklearn\\metrics\\classification.py:1143: UndefinedMetricWarning: F-score is ill-defined and being set to 0.0 in labels with no predicted samples.\n",
      "  'precision', 'predicted', average, warn_for)\n",
      "C:\\Users\\Rodolfo\\AppData\\Roaming\\Python\\Python36\\site-packages\\sklearn\\metrics\\classification.py:1143: UndefinedMetricWarning: Precision and F-score are ill-defined and being set to 0.0 in labels with no predicted samples.\n",
      "  'precision', 'predicted', average, warn_for)\n"
     ]
    },
    {
     "name": "stdout",
     "output_type": "stream",
     "text": [
      "*** Parametro:  {'C': 0.1, 'penalty': 'l1'}\n",
      "1\n",
      "open files\n",
      "Fri Apr 26 00:29:16 2019\n",
      "arquivo a ser aberto:  1\n",
      "(53849, 3000)\n",
      "(5985, 3000)\n",
      "Fri Apr 26 00:29:16 2019\n",
      "fit model\n"
     ]
    },
    {
     "name": "stderr",
     "output_type": "stream",
     "text": [
      "C:\\Users\\Rodolfo\\AppData\\Roaming\\Python\\Python36\\site-packages\\sklearn\\linear_model\\logistic.py:433: FutureWarning: Default solver will be changed to 'lbfgs' in 0.22. Specify a solver to silence this warning.\n",
      "  FutureWarning)\n",
      "C:\\Users\\Rodolfo\\AppData\\Roaming\\Python\\Python36\\site-packages\\sklearn\\linear_model\\logistic.py:460: FutureWarning: Default multi_class will be changed to 'auto' in 0.22. Specify the multi_class option to silence this warning.\n",
      "  \"this warning.\", FutureWarning)\n"
     ]
    },
    {
     "name": "stdout",
     "output_type": "stream",
     "text": [
      "Fri Apr 26 00:30:52 2019\n",
      "predict\n",
      "Fri Apr 26 00:31:02 2019\n",
      "2\n",
      "open files\n",
      "Fri Apr 26 00:31:02 2019\n",
      "arquivo a ser aberto:  2\n",
      "(53849, 3000)\n",
      "(5985, 3000)\n",
      "Fri Apr 26 00:31:02 2019\n",
      "fit model\n"
     ]
    },
    {
     "name": "stderr",
     "output_type": "stream",
     "text": [
      "C:\\Users\\Rodolfo\\AppData\\Roaming\\Python\\Python36\\site-packages\\sklearn\\linear_model\\logistic.py:433: FutureWarning: Default solver will be changed to 'lbfgs' in 0.22. Specify a solver to silence this warning.\n",
      "  FutureWarning)\n",
      "C:\\Users\\Rodolfo\\AppData\\Roaming\\Python\\Python36\\site-packages\\sklearn\\linear_model\\logistic.py:460: FutureWarning: Default multi_class will be changed to 'auto' in 0.22. Specify the multi_class option to silence this warning.\n",
      "  \"this warning.\", FutureWarning)\n"
     ]
    },
    {
     "name": "stdout",
     "output_type": "stream",
     "text": [
      "Fri Apr 26 00:32:45 2019\n",
      "predict\n",
      "Fri Apr 26 00:32:57 2019\n",
      "3\n",
      "open files\n",
      "Fri Apr 26 00:32:57 2019\n",
      "arquivo a ser aberto:  3\n",
      "(53849, 3000)\n",
      "(5985, 3000)\n",
      "Fri Apr 26 00:32:57 2019\n",
      "fit model\n"
     ]
    },
    {
     "name": "stderr",
     "output_type": "stream",
     "text": [
      "C:\\Users\\Rodolfo\\AppData\\Roaming\\Python\\Python36\\site-packages\\sklearn\\linear_model\\logistic.py:433: FutureWarning: Default solver will be changed to 'lbfgs' in 0.22. Specify a solver to silence this warning.\n",
      "  FutureWarning)\n",
      "C:\\Users\\Rodolfo\\AppData\\Roaming\\Python\\Python36\\site-packages\\sklearn\\linear_model\\logistic.py:460: FutureWarning: Default multi_class will be changed to 'auto' in 0.22. Specify the multi_class option to silence this warning.\n",
      "  \"this warning.\", FutureWarning)\n"
     ]
    },
    {
     "name": "stdout",
     "output_type": "stream",
     "text": [
      "Fri Apr 26 00:34:34 2019\n",
      "predict\n",
      "Fri Apr 26 00:34:47 2019\n",
      "4\n",
      "open files\n",
      "Fri Apr 26 00:34:47 2019\n",
      "arquivo a ser aberto:  4\n",
      "(53850, 3000)\n",
      "(5984, 3000)\n",
      "Fri Apr 26 00:34:47 2019\n",
      "fit model\n"
     ]
    },
    {
     "name": "stderr",
     "output_type": "stream",
     "text": [
      "C:\\Users\\Rodolfo\\AppData\\Roaming\\Python\\Python36\\site-packages\\sklearn\\linear_model\\logistic.py:433: FutureWarning: Default solver will be changed to 'lbfgs' in 0.22. Specify a solver to silence this warning.\n",
      "  FutureWarning)\n",
      "C:\\Users\\Rodolfo\\AppData\\Roaming\\Python\\Python36\\site-packages\\sklearn\\linear_model\\logistic.py:460: FutureWarning: Default multi_class will be changed to 'auto' in 0.22. Specify the multi_class option to silence this warning.\n",
      "  \"this warning.\", FutureWarning)\n"
     ]
    },
    {
     "name": "stdout",
     "output_type": "stream",
     "text": [
      "Fri Apr 26 00:36:17 2019\n",
      "predict\n",
      "Fri Apr 26 00:36:25 2019\n",
      "5\n",
      "open files\n",
      "Fri Apr 26 00:36:26 2019\n",
      "arquivo a ser aberto:  5\n",
      "(53850, 3000)\n",
      "(5984, 3000)\n",
      "Fri Apr 26 00:36:26 2019\n",
      "fit model\n"
     ]
    },
    {
     "name": "stderr",
     "output_type": "stream",
     "text": [
      "C:\\Users\\Rodolfo\\AppData\\Roaming\\Python\\Python36\\site-packages\\sklearn\\linear_model\\logistic.py:433: FutureWarning: Default solver will be changed to 'lbfgs' in 0.22. Specify a solver to silence this warning.\n",
      "  FutureWarning)\n",
      "C:\\Users\\Rodolfo\\AppData\\Roaming\\Python\\Python36\\site-packages\\sklearn\\linear_model\\logistic.py:460: FutureWarning: Default multi_class will be changed to 'auto' in 0.22. Specify the multi_class option to silence this warning.\n",
      "  \"this warning.\", FutureWarning)\n"
     ]
    },
    {
     "name": "stdout",
     "output_type": "stream",
     "text": [
      "Fri Apr 26 00:37:59 2019\n",
      "predict\n",
      "Fri Apr 26 00:38:02 2019\n",
      "6\n",
      "open files\n",
      "Fri Apr 26 00:38:02 2019\n",
      "arquivo a ser aberto:  6\n",
      "(53850, 3000)\n",
      "(5984, 3000)\n",
      "Fri Apr 26 00:38:02 2019\n",
      "fit model\n"
     ]
    },
    {
     "name": "stderr",
     "output_type": "stream",
     "text": [
      "C:\\Users\\Rodolfo\\AppData\\Roaming\\Python\\Python36\\site-packages\\sklearn\\linear_model\\logistic.py:433: FutureWarning: Default solver will be changed to 'lbfgs' in 0.22. Specify a solver to silence this warning.\n",
      "  FutureWarning)\n",
      "C:\\Users\\Rodolfo\\AppData\\Roaming\\Python\\Python36\\site-packages\\sklearn\\linear_model\\logistic.py:460: FutureWarning: Default multi_class will be changed to 'auto' in 0.22. Specify the multi_class option to silence this warning.\n",
      "  \"this warning.\", FutureWarning)\n"
     ]
    },
    {
     "name": "stdout",
     "output_type": "stream",
     "text": [
      "Fri Apr 26 00:39:35 2019\n",
      "predict\n",
      "Fri Apr 26 00:39:38 2019\n",
      "7\n",
      "open files\n",
      "Fri Apr 26 00:39:38 2019\n",
      "arquivo a ser aberto:  7\n",
      "(53851, 3000)\n",
      "(5983, 3000)\n",
      "Fri Apr 26 00:39:38 2019\n",
      "fit model\n"
     ]
    },
    {
     "name": "stderr",
     "output_type": "stream",
     "text": [
      "C:\\Users\\Rodolfo\\AppData\\Roaming\\Python\\Python36\\site-packages\\sklearn\\linear_model\\logistic.py:433: FutureWarning: Default solver will be changed to 'lbfgs' in 0.22. Specify a solver to silence this warning.\n",
      "  FutureWarning)\n",
      "C:\\Users\\Rodolfo\\AppData\\Roaming\\Python\\Python36\\site-packages\\sklearn\\linear_model\\logistic.py:460: FutureWarning: Default multi_class will be changed to 'auto' in 0.22. Specify the multi_class option to silence this warning.\n",
      "  \"this warning.\", FutureWarning)\n"
     ]
    },
    {
     "name": "stdout",
     "output_type": "stream",
     "text": [
      "Fri Apr 26 00:41:09 2019\n",
      "predict\n",
      "Fri Apr 26 00:41:11 2019\n",
      "8\n",
      "open files\n",
      "Fri Apr 26 00:41:12 2019\n",
      "arquivo a ser aberto:  8\n",
      "(53851, 3000)\n",
      "(5983, 3000)\n",
      "Fri Apr 26 00:41:12 2019\n",
      "fit model\n"
     ]
    },
    {
     "name": "stderr",
     "output_type": "stream",
     "text": [
      "C:\\Users\\Rodolfo\\AppData\\Roaming\\Python\\Python36\\site-packages\\sklearn\\linear_model\\logistic.py:433: FutureWarning: Default solver will be changed to 'lbfgs' in 0.22. Specify a solver to silence this warning.\n",
      "  FutureWarning)\n",
      "C:\\Users\\Rodolfo\\AppData\\Roaming\\Python\\Python36\\site-packages\\sklearn\\linear_model\\logistic.py:460: FutureWarning: Default multi_class will be changed to 'auto' in 0.22. Specify the multi_class option to silence this warning.\n",
      "  \"this warning.\", FutureWarning)\n"
     ]
    },
    {
     "name": "stdout",
     "output_type": "stream",
     "text": [
      "Fri Apr 26 00:43:26 2019\n",
      "predict\n",
      "Fri Apr 26 00:43:42 2019\n",
      "9\n",
      "open files\n",
      "Fri Apr 26 00:43:42 2019\n",
      "arquivo a ser aberto:  9\n",
      "(53853, 3000)\n",
      "(5981, 3000)\n",
      "Fri Apr 26 00:43:42 2019\n",
      "fit model\n"
     ]
    },
    {
     "name": "stderr",
     "output_type": "stream",
     "text": [
      "C:\\Users\\Rodolfo\\AppData\\Roaming\\Python\\Python36\\site-packages\\sklearn\\linear_model\\logistic.py:433: FutureWarning: Default solver will be changed to 'lbfgs' in 0.22. Specify a solver to silence this warning.\n",
      "  FutureWarning)\n",
      "C:\\Users\\Rodolfo\\AppData\\Roaming\\Python\\Python36\\site-packages\\sklearn\\linear_model\\logistic.py:460: FutureWarning: Default multi_class will be changed to 'auto' in 0.22. Specify the multi_class option to silence this warning.\n",
      "  \"this warning.\", FutureWarning)\n"
     ]
    },
    {
     "name": "stdout",
     "output_type": "stream",
     "text": [
      "Fri Apr 26 00:45:13 2019\n",
      "predict\n",
      "Fri Apr 26 00:45:16 2019\n",
      "10\n",
      "open files\n",
      "Fri Apr 26 00:45:16 2019\n",
      "arquivo a ser aberto:  10\n",
      "(53854, 3000)\n",
      "(5980, 3000)\n",
      "Fri Apr 26 00:45:16 2019\n",
      "fit model\n"
     ]
    },
    {
     "name": "stderr",
     "output_type": "stream",
     "text": [
      "C:\\Users\\Rodolfo\\AppData\\Roaming\\Python\\Python36\\site-packages\\sklearn\\linear_model\\logistic.py:433: FutureWarning: Default solver will be changed to 'lbfgs' in 0.22. Specify a solver to silence this warning.\n",
      "  FutureWarning)\n",
      "C:\\Users\\Rodolfo\\AppData\\Roaming\\Python\\Python36\\site-packages\\sklearn\\linear_model\\logistic.py:460: FutureWarning: Default multi_class will be changed to 'auto' in 0.22. Specify the multi_class option to silence this warning.\n",
      "  \"this warning.\", FutureWarning)\n"
     ]
    },
    {
     "name": "stdout",
     "output_type": "stream",
     "text": [
      "Fri Apr 26 00:46:56 2019\n",
      "predict\n",
      "Fri Apr 26 00:47:01 2019\n",
      "*** Parametro:  {'C': 0.1, 'penalty': 'l2'}\n",
      "1\n",
      "open files\n",
      "Fri Apr 26 00:47:01 2019\n",
      "arquivo a ser aberto:  1\n",
      "(53849, 3000)\n",
      "(5985, 3000)\n",
      "Fri Apr 26 00:47:01 2019\n",
      "fit model\n"
     ]
    },
    {
     "name": "stderr",
     "output_type": "stream",
     "text": [
      "C:\\Users\\Rodolfo\\AppData\\Roaming\\Python\\Python36\\site-packages\\sklearn\\linear_model\\logistic.py:433: FutureWarning: Default solver will be changed to 'lbfgs' in 0.22. Specify a solver to silence this warning.\n",
      "  FutureWarning)\n",
      "C:\\Users\\Rodolfo\\AppData\\Roaming\\Python\\Python36\\site-packages\\sklearn\\linear_model\\logistic.py:460: FutureWarning: Default multi_class will be changed to 'auto' in 0.22. Specify the multi_class option to silence this warning.\n",
      "  \"this warning.\", FutureWarning)\n"
     ]
    },
    {
     "name": "stdout",
     "output_type": "stream",
     "text": [
      "Fri Apr 26 00:48:45 2019\n",
      "predict\n",
      "Fri Apr 26 00:48:47 2019\n",
      "2\n",
      "open files\n",
      "Fri Apr 26 00:48:48 2019\n",
      "arquivo a ser aberto:  2\n",
      "(53849, 3000)\n",
      "(5985, 3000)\n",
      "Fri Apr 26 00:48:48 2019\n",
      "fit model\n"
     ]
    },
    {
     "name": "stderr",
     "output_type": "stream",
     "text": [
      "C:\\Users\\Rodolfo\\AppData\\Roaming\\Python\\Python36\\site-packages\\sklearn\\linear_model\\logistic.py:433: FutureWarning: Default solver will be changed to 'lbfgs' in 0.22. Specify a solver to silence this warning.\n",
      "  FutureWarning)\n",
      "C:\\Users\\Rodolfo\\AppData\\Roaming\\Python\\Python36\\site-packages\\sklearn\\linear_model\\logistic.py:460: FutureWarning: Default multi_class will be changed to 'auto' in 0.22. Specify the multi_class option to silence this warning.\n",
      "  \"this warning.\", FutureWarning)\n"
     ]
    },
    {
     "name": "stdout",
     "output_type": "stream",
     "text": [
      "Fri Apr 26 00:50:35 2019\n",
      "predict\n",
      "Fri Apr 26 00:50:38 2019\n",
      "3\n",
      "open files\n",
      "Fri Apr 26 00:50:38 2019\n",
      "arquivo a ser aberto:  3\n",
      "(53849, 3000)\n",
      "(5985, 3000)\n",
      "Fri Apr 26 00:50:38 2019\n",
      "fit model\n"
     ]
    },
    {
     "name": "stderr",
     "output_type": "stream",
     "text": [
      "C:\\Users\\Rodolfo\\AppData\\Roaming\\Python\\Python36\\site-packages\\sklearn\\linear_model\\logistic.py:433: FutureWarning: Default solver will be changed to 'lbfgs' in 0.22. Specify a solver to silence this warning.\n",
      "  FutureWarning)\n",
      "C:\\Users\\Rodolfo\\AppData\\Roaming\\Python\\Python36\\site-packages\\sklearn\\linear_model\\logistic.py:460: FutureWarning: Default multi_class will be changed to 'auto' in 0.22. Specify the multi_class option to silence this warning.\n",
      "  \"this warning.\", FutureWarning)\n"
     ]
    },
    {
     "name": "stdout",
     "output_type": "stream",
     "text": [
      "Fri Apr 26 00:52:22 2019\n",
      "predict\n",
      "Fri Apr 26 00:52:26 2019\n",
      "4\n",
      "open files\n",
      "Fri Apr 26 00:52:26 2019\n",
      "arquivo a ser aberto:  4\n",
      "(53850, 3000)\n",
      "(5984, 3000)\n",
      "Fri Apr 26 00:52:26 2019\n",
      "fit model\n"
     ]
    },
    {
     "name": "stderr",
     "output_type": "stream",
     "text": [
      "C:\\Users\\Rodolfo\\AppData\\Roaming\\Python\\Python36\\site-packages\\sklearn\\linear_model\\logistic.py:433: FutureWarning: Default solver will be changed to 'lbfgs' in 0.22. Specify a solver to silence this warning.\n",
      "  FutureWarning)\n",
      "C:\\Users\\Rodolfo\\AppData\\Roaming\\Python\\Python36\\site-packages\\sklearn\\linear_model\\logistic.py:460: FutureWarning: Default multi_class will be changed to 'auto' in 0.22. Specify the multi_class option to silence this warning.\n",
      "  \"this warning.\", FutureWarning)\n"
     ]
    },
    {
     "name": "stdout",
     "output_type": "stream",
     "text": [
      "Fri Apr 26 00:54:13 2019\n",
      "predict\n",
      "Fri Apr 26 00:54:15 2019\n",
      "5\n",
      "open files\n",
      "Fri Apr 26 00:54:15 2019\n",
      "arquivo a ser aberto:  5\n",
      "(53850, 3000)\n",
      "(5984, 3000)\n",
      "Fri Apr 26 00:54:15 2019\n",
      "fit model\n"
     ]
    },
    {
     "name": "stderr",
     "output_type": "stream",
     "text": [
      "C:\\Users\\Rodolfo\\AppData\\Roaming\\Python\\Python36\\site-packages\\sklearn\\linear_model\\logistic.py:433: FutureWarning: Default solver will be changed to 'lbfgs' in 0.22. Specify a solver to silence this warning.\n",
      "  FutureWarning)\n",
      "C:\\Users\\Rodolfo\\AppData\\Roaming\\Python\\Python36\\site-packages\\sklearn\\linear_model\\logistic.py:460: FutureWarning: Default multi_class will be changed to 'auto' in 0.22. Specify the multi_class option to silence this warning.\n",
      "  \"this warning.\", FutureWarning)\n"
     ]
    },
    {
     "name": "stdout",
     "output_type": "stream",
     "text": [
      "Fri Apr 26 00:56:00 2019\n",
      "predict\n",
      "Fri Apr 26 00:56:02 2019\n",
      "6\n",
      "open files\n",
      "Fri Apr 26 00:56:03 2019\n",
      "arquivo a ser aberto:  6\n",
      "(53850, 3000)\n",
      "(5984, 3000)\n",
      "Fri Apr 26 00:56:03 2019\n",
      "fit model\n"
     ]
    },
    {
     "name": "stderr",
     "output_type": "stream",
     "text": [
      "C:\\Users\\Rodolfo\\AppData\\Roaming\\Python\\Python36\\site-packages\\sklearn\\linear_model\\logistic.py:433: FutureWarning: Default solver will be changed to 'lbfgs' in 0.22. Specify a solver to silence this warning.\n",
      "  FutureWarning)\n",
      "C:\\Users\\Rodolfo\\AppData\\Roaming\\Python\\Python36\\site-packages\\sklearn\\linear_model\\logistic.py:460: FutureWarning: Default multi_class will be changed to 'auto' in 0.22. Specify the multi_class option to silence this warning.\n",
      "  \"this warning.\", FutureWarning)\n"
     ]
    },
    {
     "name": "stdout",
     "output_type": "stream",
     "text": [
      "Fri Apr 26 00:57:42 2019\n",
      "predict\n",
      "Fri Apr 26 00:57:44 2019\n",
      "7\n",
      "open files\n",
      "Fri Apr 26 00:57:44 2019\n",
      "arquivo a ser aberto:  7\n",
      "(53851, 3000)\n",
      "(5983, 3000)\n",
      "Fri Apr 26 00:57:44 2019\n",
      "fit model\n"
     ]
    },
    {
     "name": "stderr",
     "output_type": "stream",
     "text": [
      "C:\\Users\\Rodolfo\\AppData\\Roaming\\Python\\Python36\\site-packages\\sklearn\\linear_model\\logistic.py:433: FutureWarning: Default solver will be changed to 'lbfgs' in 0.22. Specify a solver to silence this warning.\n",
      "  FutureWarning)\n",
      "C:\\Users\\Rodolfo\\AppData\\Roaming\\Python\\Python36\\site-packages\\sklearn\\linear_model\\logistic.py:460: FutureWarning: Default multi_class will be changed to 'auto' in 0.22. Specify the multi_class option to silence this warning.\n",
      "  \"this warning.\", FutureWarning)\n"
     ]
    },
    {
     "name": "stdout",
     "output_type": "stream",
     "text": [
      "Fri Apr 26 00:59:29 2019\n",
      "predict\n",
      "Fri Apr 26 00:59:31 2019\n",
      "8\n",
      "open files\n",
      "Fri Apr 26 00:59:32 2019\n",
      "arquivo a ser aberto:  8\n",
      "(53851, 3000)\n",
      "(5983, 3000)\n",
      "Fri Apr 26 00:59:32 2019\n",
      "fit model\n"
     ]
    },
    {
     "name": "stderr",
     "output_type": "stream",
     "text": [
      "C:\\Users\\Rodolfo\\AppData\\Roaming\\Python\\Python36\\site-packages\\sklearn\\linear_model\\logistic.py:433: FutureWarning: Default solver will be changed to 'lbfgs' in 0.22. Specify a solver to silence this warning.\n",
      "  FutureWarning)\n",
      "C:\\Users\\Rodolfo\\AppData\\Roaming\\Python\\Python36\\site-packages\\sklearn\\linear_model\\logistic.py:460: FutureWarning: Default multi_class will be changed to 'auto' in 0.22. Specify the multi_class option to silence this warning.\n",
      "  \"this warning.\", FutureWarning)\n"
     ]
    },
    {
     "name": "stdout",
     "output_type": "stream",
     "text": [
      "Fri Apr 26 01:01:12 2019\n",
      "predict\n",
      "Fri Apr 26 01:01:14 2019\n",
      "9\n",
      "open files\n",
      "Fri Apr 26 01:01:15 2019\n",
      "arquivo a ser aberto:  9\n",
      "(53853, 3000)\n",
      "(5981, 3000)\n",
      "Fri Apr 26 01:01:15 2019\n",
      "fit model\n"
     ]
    },
    {
     "name": "stderr",
     "output_type": "stream",
     "text": [
      "C:\\Users\\Rodolfo\\AppData\\Roaming\\Python\\Python36\\site-packages\\sklearn\\linear_model\\logistic.py:433: FutureWarning: Default solver will be changed to 'lbfgs' in 0.22. Specify a solver to silence this warning.\n",
      "  FutureWarning)\n",
      "C:\\Users\\Rodolfo\\AppData\\Roaming\\Python\\Python36\\site-packages\\sklearn\\linear_model\\logistic.py:460: FutureWarning: Default multi_class will be changed to 'auto' in 0.22. Specify the multi_class option to silence this warning.\n",
      "  \"this warning.\", FutureWarning)\n"
     ]
    },
    {
     "name": "stdout",
     "output_type": "stream",
     "text": [
      "Fri Apr 26 01:02:58 2019\n",
      "predict\n",
      "Fri Apr 26 01:03:00 2019\n",
      "10\n",
      "open files\n",
      "Fri Apr 26 01:03:00 2019\n",
      "arquivo a ser aberto:  10\n",
      "(53854, 3000)\n",
      "(5980, 3000)\n",
      "Fri Apr 26 01:03:00 2019\n",
      "fit model\n"
     ]
    },
    {
     "name": "stderr",
     "output_type": "stream",
     "text": [
      "C:\\Users\\Rodolfo\\AppData\\Roaming\\Python\\Python36\\site-packages\\sklearn\\linear_model\\logistic.py:433: FutureWarning: Default solver will be changed to 'lbfgs' in 0.22. Specify a solver to silence this warning.\n",
      "  FutureWarning)\n",
      "C:\\Users\\Rodolfo\\AppData\\Roaming\\Python\\Python36\\site-packages\\sklearn\\linear_model\\logistic.py:460: FutureWarning: Default multi_class will be changed to 'auto' in 0.22. Specify the multi_class option to silence this warning.\n",
      "  \"this warning.\", FutureWarning)\n"
     ]
    },
    {
     "name": "stdout",
     "output_type": "stream",
     "text": [
      "Fri Apr 26 01:04:42 2019\n",
      "predict\n",
      "Fri Apr 26 01:04:44 2019\n",
      "*** Parametro:  {'C': 1, 'penalty': 'l1'}\n",
      "1\n",
      "open files\n",
      "Fri Apr 26 01:04:45 2019\n",
      "arquivo a ser aberto:  1\n",
      "(53849, 3000)\n",
      "(5985, 3000)\n",
      "Fri Apr 26 01:04:45 2019\n",
      "fit model\n"
     ]
    },
    {
     "name": "stderr",
     "output_type": "stream",
     "text": [
      "C:\\Users\\Rodolfo\\AppData\\Roaming\\Python\\Python36\\site-packages\\sklearn\\linear_model\\logistic.py:433: FutureWarning: Default solver will be changed to 'lbfgs' in 0.22. Specify a solver to silence this warning.\n",
      "  FutureWarning)\n",
      "C:\\Users\\Rodolfo\\AppData\\Roaming\\Python\\Python36\\site-packages\\sklearn\\linear_model\\logistic.py:460: FutureWarning: Default multi_class will be changed to 'auto' in 0.22. Specify the multi_class option to silence this warning.\n",
      "  \"this warning.\", FutureWarning)\n"
     ]
    },
    {
     "name": "stdout",
     "output_type": "stream",
     "text": [
      "Fri Apr 26 01:06:37 2019\n",
      "predict\n",
      "Fri Apr 26 01:06:54 2019\n",
      "2\n",
      "open files\n",
      "Fri Apr 26 01:06:54 2019\n",
      "arquivo a ser aberto:  2\n",
      "(53849, 3000)\n",
      "(5985, 3000)\n",
      "Fri Apr 26 01:06:54 2019\n",
      "fit model\n"
     ]
    },
    {
     "name": "stderr",
     "output_type": "stream",
     "text": [
      "C:\\Users\\Rodolfo\\AppData\\Roaming\\Python\\Python36\\site-packages\\sklearn\\linear_model\\logistic.py:433: FutureWarning: Default solver will be changed to 'lbfgs' in 0.22. Specify a solver to silence this warning.\n",
      "  FutureWarning)\n",
      "C:\\Users\\Rodolfo\\AppData\\Roaming\\Python\\Python36\\site-packages\\sklearn\\linear_model\\logistic.py:460: FutureWarning: Default multi_class will be changed to 'auto' in 0.22. Specify the multi_class option to silence this warning.\n",
      "  \"this warning.\", FutureWarning)\n"
     ]
    },
    {
     "name": "stdout",
     "output_type": "stream",
     "text": [
      "Fri Apr 26 01:08:58 2019\n",
      "predict\n",
      "Fri Apr 26 01:09:08 2019\n",
      "3\n",
      "open files\n",
      "Fri Apr 26 01:09:09 2019\n",
      "arquivo a ser aberto:  3\n",
      "(53849, 3000)\n",
      "(5985, 3000)\n",
      "Fri Apr 26 01:09:09 2019\n",
      "fit model\n"
     ]
    },
    {
     "name": "stderr",
     "output_type": "stream",
     "text": [
      "C:\\Users\\Rodolfo\\AppData\\Roaming\\Python\\Python36\\site-packages\\sklearn\\linear_model\\logistic.py:433: FutureWarning: Default solver will be changed to 'lbfgs' in 0.22. Specify a solver to silence this warning.\n",
      "  FutureWarning)\n",
      "C:\\Users\\Rodolfo\\AppData\\Roaming\\Python\\Python36\\site-packages\\sklearn\\linear_model\\logistic.py:460: FutureWarning: Default multi_class will be changed to 'auto' in 0.22. Specify the multi_class option to silence this warning.\n",
      "  \"this warning.\", FutureWarning)\n"
     ]
    },
    {
     "name": "stdout",
     "output_type": "stream",
     "text": [
      "Fri Apr 26 01:10:56 2019\n",
      "predict\n",
      "Fri Apr 26 01:11:09 2019\n",
      "4\n",
      "open files\n",
      "Fri Apr 26 01:11:09 2019\n",
      "arquivo a ser aberto:  4\n",
      "(53850, 3000)\n",
      "(5984, 3000)\n",
      "Fri Apr 26 01:11:09 2019\n",
      "fit model\n"
     ]
    },
    {
     "name": "stderr",
     "output_type": "stream",
     "text": [
      "C:\\Users\\Rodolfo\\AppData\\Roaming\\Python\\Python36\\site-packages\\sklearn\\linear_model\\logistic.py:433: FutureWarning: Default solver will be changed to 'lbfgs' in 0.22. Specify a solver to silence this warning.\n",
      "  FutureWarning)\n",
      "C:\\Users\\Rodolfo\\AppData\\Roaming\\Python\\Python36\\site-packages\\sklearn\\linear_model\\logistic.py:460: FutureWarning: Default multi_class will be changed to 'auto' in 0.22. Specify the multi_class option to silence this warning.\n",
      "  \"this warning.\", FutureWarning)\n"
     ]
    },
    {
     "name": "stdout",
     "output_type": "stream",
     "text": [
      "Fri Apr 26 01:13:04 2019\n",
      "predict\n",
      "Fri Apr 26 01:13:16 2019\n",
      "5\n",
      "open files\n",
      "Fri Apr 26 01:13:17 2019\n",
      "arquivo a ser aberto:  5\n",
      "(53850, 3000)\n",
      "(5984, 3000)\n",
      "Fri Apr 26 01:13:17 2019\n",
      "fit model\n"
     ]
    },
    {
     "name": "stderr",
     "output_type": "stream",
     "text": [
      "C:\\Users\\Rodolfo\\AppData\\Roaming\\Python\\Python36\\site-packages\\sklearn\\linear_model\\logistic.py:433: FutureWarning: Default solver will be changed to 'lbfgs' in 0.22. Specify a solver to silence this warning.\n",
      "  FutureWarning)\n",
      "C:\\Users\\Rodolfo\\AppData\\Roaming\\Python\\Python36\\site-packages\\sklearn\\linear_model\\logistic.py:460: FutureWarning: Default multi_class will be changed to 'auto' in 0.22. Specify the multi_class option to silence this warning.\n",
      "  \"this warning.\", FutureWarning)\n"
     ]
    },
    {
     "name": "stdout",
     "output_type": "stream",
     "text": [
      "Fri Apr 26 01:15:06 2019\n",
      "predict\n",
      "Fri Apr 26 01:15:09 2019\n",
      "6\n",
      "open files\n",
      "Fri Apr 26 01:15:09 2019\n",
      "arquivo a ser aberto:  6\n",
      "(53850, 3000)\n",
      "(5984, 3000)\n",
      "Fri Apr 26 01:15:09 2019\n",
      "fit model\n"
     ]
    },
    {
     "name": "stderr",
     "output_type": "stream",
     "text": [
      "C:\\Users\\Rodolfo\\AppData\\Roaming\\Python\\Python36\\site-packages\\sklearn\\linear_model\\logistic.py:433: FutureWarning: Default solver will be changed to 'lbfgs' in 0.22. Specify a solver to silence this warning.\n",
      "  FutureWarning)\n",
      "C:\\Users\\Rodolfo\\AppData\\Roaming\\Python\\Python36\\site-packages\\sklearn\\linear_model\\logistic.py:460: FutureWarning: Default multi_class will be changed to 'auto' in 0.22. Specify the multi_class option to silence this warning.\n",
      "  \"this warning.\", FutureWarning)\n"
     ]
    },
    {
     "name": "stdout",
     "output_type": "stream",
     "text": [
      "Fri Apr 26 01:17:01 2019\n",
      "predict\n",
      "Fri Apr 26 01:17:03 2019\n",
      "7\n",
      "open files\n",
      "Fri Apr 26 01:17:04 2019\n",
      "arquivo a ser aberto:  7\n",
      "(53851, 3000)\n",
      "(5983, 3000)\n",
      "Fri Apr 26 01:17:04 2019\n",
      "fit model\n"
     ]
    },
    {
     "name": "stderr",
     "output_type": "stream",
     "text": [
      "C:\\Users\\Rodolfo\\AppData\\Roaming\\Python\\Python36\\site-packages\\sklearn\\linear_model\\logistic.py:433: FutureWarning: Default solver will be changed to 'lbfgs' in 0.22. Specify a solver to silence this warning.\n",
      "  FutureWarning)\n",
      "C:\\Users\\Rodolfo\\AppData\\Roaming\\Python\\Python36\\site-packages\\sklearn\\linear_model\\logistic.py:460: FutureWarning: Default multi_class will be changed to 'auto' in 0.22. Specify the multi_class option to silence this warning.\n",
      "  \"this warning.\", FutureWarning)\n"
     ]
    },
    {
     "name": "stdout",
     "output_type": "stream",
     "text": [
      "Fri Apr 26 01:19:02 2019\n",
      "predict\n",
      "Fri Apr 26 01:19:04 2019\n",
      "8\n",
      "open files\n",
      "Fri Apr 26 01:19:04 2019\n",
      "arquivo a ser aberto:  8\n",
      "(53851, 3000)\n",
      "(5983, 3000)\n",
      "Fri Apr 26 01:19:04 2019\n",
      "fit model\n"
     ]
    },
    {
     "name": "stderr",
     "output_type": "stream",
     "text": [
      "C:\\Users\\Rodolfo\\AppData\\Roaming\\Python\\Python36\\site-packages\\sklearn\\linear_model\\logistic.py:433: FutureWarning: Default solver will be changed to 'lbfgs' in 0.22. Specify a solver to silence this warning.\n",
      "  FutureWarning)\n",
      "C:\\Users\\Rodolfo\\AppData\\Roaming\\Python\\Python36\\site-packages\\sklearn\\linear_model\\logistic.py:460: FutureWarning: Default multi_class will be changed to 'auto' in 0.22. Specify the multi_class option to silence this warning.\n",
      "  \"this warning.\", FutureWarning)\n"
     ]
    },
    {
     "name": "stdout",
     "output_type": "stream",
     "text": [
      "Fri Apr 26 01:20:50 2019\n",
      "predict\n",
      "Fri Apr 26 01:21:05 2019\n",
      "9\n",
      "open files\n",
      "Fri Apr 26 01:21:06 2019\n",
      "arquivo a ser aberto:  9\n",
      "(53853, 3000)\n",
      "(5981, 3000)\n",
      "Fri Apr 26 01:21:06 2019\n",
      "fit model\n"
     ]
    },
    {
     "name": "stderr",
     "output_type": "stream",
     "text": [
      "C:\\Users\\Rodolfo\\AppData\\Roaming\\Python\\Python36\\site-packages\\sklearn\\linear_model\\logistic.py:433: FutureWarning: Default solver will be changed to 'lbfgs' in 0.22. Specify a solver to silence this warning.\n",
      "  FutureWarning)\n",
      "C:\\Users\\Rodolfo\\AppData\\Roaming\\Python\\Python36\\site-packages\\sklearn\\linear_model\\logistic.py:460: FutureWarning: Default multi_class will be changed to 'auto' in 0.22. Specify the multi_class option to silence this warning.\n",
      "  \"this warning.\", FutureWarning)\n"
     ]
    },
    {
     "name": "stdout",
     "output_type": "stream",
     "text": [
      "Fri Apr 26 01:22:56 2019\n",
      "predict\n",
      "Fri Apr 26 01:22:59 2019\n",
      "10\n",
      "open files\n",
      "Fri Apr 26 01:22:59 2019\n",
      "arquivo a ser aberto:  10\n",
      "(53854, 3000)\n",
      "(5980, 3000)\n",
      "Fri Apr 26 01:22:59 2019\n",
      "fit model\n"
     ]
    },
    {
     "name": "stderr",
     "output_type": "stream",
     "text": [
      "C:\\Users\\Rodolfo\\AppData\\Roaming\\Python\\Python36\\site-packages\\sklearn\\linear_model\\logistic.py:433: FutureWarning: Default solver will be changed to 'lbfgs' in 0.22. Specify a solver to silence this warning.\n",
      "  FutureWarning)\n",
      "C:\\Users\\Rodolfo\\AppData\\Roaming\\Python\\Python36\\site-packages\\sklearn\\linear_model\\logistic.py:460: FutureWarning: Default multi_class will be changed to 'auto' in 0.22. Specify the multi_class option to silence this warning.\n",
      "  \"this warning.\", FutureWarning)\n"
     ]
    },
    {
     "name": "stdout",
     "output_type": "stream",
     "text": [
      "Fri Apr 26 01:24:53 2019\n",
      "predict\n",
      "Fri Apr 26 01:24:56 2019\n",
      "*** Parametro:  {'C': 1, 'penalty': 'l2'}\n",
      "1\n",
      "open files\n",
      "Fri Apr 26 01:24:57 2019\n",
      "arquivo a ser aberto:  1\n",
      "(53849, 3000)\n",
      "(5985, 3000)\n",
      "Fri Apr 26 01:24:57 2019\n",
      "fit model\n"
     ]
    },
    {
     "name": "stderr",
     "output_type": "stream",
     "text": [
      "C:\\Users\\Rodolfo\\AppData\\Roaming\\Python\\Python36\\site-packages\\sklearn\\linear_model\\logistic.py:433: FutureWarning: Default solver will be changed to 'lbfgs' in 0.22. Specify a solver to silence this warning.\n",
      "  FutureWarning)\n",
      "C:\\Users\\Rodolfo\\AppData\\Roaming\\Python\\Python36\\site-packages\\sklearn\\linear_model\\logistic.py:460: FutureWarning: Default multi_class will be changed to 'auto' in 0.22. Specify the multi_class option to silence this warning.\n",
      "  \"this warning.\", FutureWarning)\n"
     ]
    },
    {
     "name": "stdout",
     "output_type": "stream",
     "text": [
      "Fri Apr 26 01:27:11 2019\n",
      "predict\n",
      "Fri Apr 26 01:27:13 2019\n",
      "2\n",
      "open files\n",
      "Fri Apr 26 01:27:13 2019\n",
      "arquivo a ser aberto:  2\n",
      "(53849, 3000)\n",
      "(5985, 3000)\n",
      "Fri Apr 26 01:27:13 2019\n",
      "fit model\n"
     ]
    },
    {
     "name": "stderr",
     "output_type": "stream",
     "text": [
      "C:\\Users\\Rodolfo\\AppData\\Roaming\\Python\\Python36\\site-packages\\sklearn\\linear_model\\logistic.py:433: FutureWarning: Default solver will be changed to 'lbfgs' in 0.22. Specify a solver to silence this warning.\n",
      "  FutureWarning)\n",
      "C:\\Users\\Rodolfo\\AppData\\Roaming\\Python\\Python36\\site-packages\\sklearn\\linear_model\\logistic.py:460: FutureWarning: Default multi_class will be changed to 'auto' in 0.22. Specify the multi_class option to silence this warning.\n",
      "  \"this warning.\", FutureWarning)\n"
     ]
    },
    {
     "name": "stdout",
     "output_type": "stream",
     "text": [
      "Fri Apr 26 01:29:29 2019\n",
      "predict\n",
      "Fri Apr 26 01:29:32 2019\n",
      "3\n",
      "open files\n",
      "Fri Apr 26 01:29:32 2019\n",
      "arquivo a ser aberto:  3\n",
      "(53849, 3000)\n",
      "(5985, 3000)\n",
      "Fri Apr 26 01:29:32 2019\n",
      "fit model\n"
     ]
    },
    {
     "name": "stderr",
     "output_type": "stream",
     "text": [
      "C:\\Users\\Rodolfo\\AppData\\Roaming\\Python\\Python36\\site-packages\\sklearn\\linear_model\\logistic.py:433: FutureWarning: Default solver will be changed to 'lbfgs' in 0.22. Specify a solver to silence this warning.\n",
      "  FutureWarning)\n",
      "C:\\Users\\Rodolfo\\AppData\\Roaming\\Python\\Python36\\site-packages\\sklearn\\linear_model\\logistic.py:460: FutureWarning: Default multi_class will be changed to 'auto' in 0.22. Specify the multi_class option to silence this warning.\n",
      "  \"this warning.\", FutureWarning)\n"
     ]
    },
    {
     "name": "stdout",
     "output_type": "stream",
     "text": [
      "Fri Apr 26 01:31:47 2019\n",
      "predict\n",
      "Fri Apr 26 01:31:50 2019\n",
      "4\n",
      "open files\n",
      "Fri Apr 26 01:31:50 2019\n",
      "arquivo a ser aberto:  4\n",
      "(53850, 3000)\n",
      "(5984, 3000)\n",
      "Fri Apr 26 01:31:50 2019\n",
      "fit model\n"
     ]
    },
    {
     "name": "stderr",
     "output_type": "stream",
     "text": [
      "C:\\Users\\Rodolfo\\AppData\\Roaming\\Python\\Python36\\site-packages\\sklearn\\linear_model\\logistic.py:433: FutureWarning: Default solver will be changed to 'lbfgs' in 0.22. Specify a solver to silence this warning.\n",
      "  FutureWarning)\n",
      "C:\\Users\\Rodolfo\\AppData\\Roaming\\Python\\Python36\\site-packages\\sklearn\\linear_model\\logistic.py:460: FutureWarning: Default multi_class will be changed to 'auto' in 0.22. Specify the multi_class option to silence this warning.\n",
      "  \"this warning.\", FutureWarning)\n"
     ]
    },
    {
     "name": "stdout",
     "output_type": "stream",
     "text": [
      "Fri Apr 26 01:34:06 2019\n",
      "predict\n",
      "Fri Apr 26 01:34:09 2019\n",
      "5\n",
      "open files\n",
      "Fri Apr 26 01:34:09 2019\n",
      "arquivo a ser aberto:  5\n",
      "(53850, 3000)\n",
      "(5984, 3000)\n",
      "Fri Apr 26 01:34:09 2019\n",
      "fit model\n"
     ]
    },
    {
     "name": "stderr",
     "output_type": "stream",
     "text": [
      "C:\\Users\\Rodolfo\\AppData\\Roaming\\Python\\Python36\\site-packages\\sklearn\\linear_model\\logistic.py:433: FutureWarning: Default solver will be changed to 'lbfgs' in 0.22. Specify a solver to silence this warning.\n",
      "  FutureWarning)\n",
      "C:\\Users\\Rodolfo\\AppData\\Roaming\\Python\\Python36\\site-packages\\sklearn\\linear_model\\logistic.py:460: FutureWarning: Default multi_class will be changed to 'auto' in 0.22. Specify the multi_class option to silence this warning.\n",
      "  \"this warning.\", FutureWarning)\n"
     ]
    },
    {
     "name": "stdout",
     "output_type": "stream",
     "text": [
      "Fri Apr 26 01:36:27 2019\n",
      "predict\n",
      "Fri Apr 26 01:36:29 2019\n",
      "6\n",
      "open files\n",
      "Fri Apr 26 01:36:29 2019\n",
      "arquivo a ser aberto:  6\n",
      "(53850, 3000)\n",
      "(5984, 3000)\n",
      "Fri Apr 26 01:36:29 2019\n",
      "fit model\n"
     ]
    },
    {
     "name": "stderr",
     "output_type": "stream",
     "text": [
      "C:\\Users\\Rodolfo\\AppData\\Roaming\\Python\\Python36\\site-packages\\sklearn\\linear_model\\logistic.py:433: FutureWarning: Default solver will be changed to 'lbfgs' in 0.22. Specify a solver to silence this warning.\n",
      "  FutureWarning)\n",
      "C:\\Users\\Rodolfo\\AppData\\Roaming\\Python\\Python36\\site-packages\\sklearn\\linear_model\\logistic.py:460: FutureWarning: Default multi_class will be changed to 'auto' in 0.22. Specify the multi_class option to silence this warning.\n",
      "  \"this warning.\", FutureWarning)\n"
     ]
    },
    {
     "name": "stdout",
     "output_type": "stream",
     "text": [
      "Fri Apr 26 01:38:42 2019\n",
      "predict\n",
      "Fri Apr 26 01:38:44 2019\n",
      "7\n",
      "open files\n",
      "Fri Apr 26 01:38:45 2019\n",
      "arquivo a ser aberto:  7\n",
      "(53851, 3000)\n",
      "(5983, 3000)\n",
      "Fri Apr 26 01:38:45 2019\n",
      "fit model\n"
     ]
    },
    {
     "name": "stderr",
     "output_type": "stream",
     "text": [
      "C:\\Users\\Rodolfo\\AppData\\Roaming\\Python\\Python36\\site-packages\\sklearn\\linear_model\\logistic.py:433: FutureWarning: Default solver will be changed to 'lbfgs' in 0.22. Specify a solver to silence this warning.\n",
      "  FutureWarning)\n",
      "C:\\Users\\Rodolfo\\AppData\\Roaming\\Python\\Python36\\site-packages\\sklearn\\linear_model\\logistic.py:460: FutureWarning: Default multi_class will be changed to 'auto' in 0.22. Specify the multi_class option to silence this warning.\n",
      "  \"this warning.\", FutureWarning)\n"
     ]
    },
    {
     "name": "stdout",
     "output_type": "stream",
     "text": [
      "Fri Apr 26 01:40:59 2019\n",
      "predict\n",
      "Fri Apr 26 01:41:02 2019\n",
      "8\n",
      "open files\n",
      "Fri Apr 26 01:41:02 2019\n",
      "arquivo a ser aberto:  8\n",
      "(53851, 3000)\n",
      "(5983, 3000)\n",
      "Fri Apr 26 01:41:02 2019\n",
      "fit model\n"
     ]
    },
    {
     "name": "stderr",
     "output_type": "stream",
     "text": [
      "C:\\Users\\Rodolfo\\AppData\\Roaming\\Python\\Python36\\site-packages\\sklearn\\linear_model\\logistic.py:433: FutureWarning: Default solver will be changed to 'lbfgs' in 0.22. Specify a solver to silence this warning.\n",
      "  FutureWarning)\n",
      "C:\\Users\\Rodolfo\\AppData\\Roaming\\Python\\Python36\\site-packages\\sklearn\\linear_model\\logistic.py:460: FutureWarning: Default multi_class will be changed to 'auto' in 0.22. Specify the multi_class option to silence this warning.\n",
      "  \"this warning.\", FutureWarning)\n"
     ]
    },
    {
     "name": "stdout",
     "output_type": "stream",
     "text": [
      "Fri Apr 26 01:43:21 2019\n",
      "predict\n",
      "Fri Apr 26 01:43:26 2019\n",
      "9\n",
      "open files\n",
      "Fri Apr 26 01:43:26 2019\n",
      "arquivo a ser aberto:  9\n",
      "(53853, 3000)\n",
      "(5981, 3000)\n",
      "Fri Apr 26 01:43:26 2019\n",
      "fit model\n"
     ]
    },
    {
     "name": "stderr",
     "output_type": "stream",
     "text": [
      "C:\\Users\\Rodolfo\\AppData\\Roaming\\Python\\Python36\\site-packages\\sklearn\\linear_model\\logistic.py:433: FutureWarning: Default solver will be changed to 'lbfgs' in 0.22. Specify a solver to silence this warning.\n",
      "  FutureWarning)\n",
      "C:\\Users\\Rodolfo\\AppData\\Roaming\\Python\\Python36\\site-packages\\sklearn\\linear_model\\logistic.py:460: FutureWarning: Default multi_class will be changed to 'auto' in 0.22. Specify the multi_class option to silence this warning.\n",
      "  \"this warning.\", FutureWarning)\n"
     ]
    },
    {
     "name": "stdout",
     "output_type": "stream",
     "text": [
      "Fri Apr 26 01:45:44 2019\n",
      "predict\n",
      "Fri Apr 26 01:45:46 2019\n",
      "10\n",
      "open files\n",
      "Fri Apr 26 01:45:46 2019\n",
      "arquivo a ser aberto:  10\n",
      "(53854, 3000)\n",
      "(5980, 3000)\n",
      "Fri Apr 26 01:45:46 2019\n",
      "fit model\n"
     ]
    },
    {
     "name": "stderr",
     "output_type": "stream",
     "text": [
      "C:\\Users\\Rodolfo\\AppData\\Roaming\\Python\\Python36\\site-packages\\sklearn\\linear_model\\logistic.py:433: FutureWarning: Default solver will be changed to 'lbfgs' in 0.22. Specify a solver to silence this warning.\n",
      "  FutureWarning)\n",
      "C:\\Users\\Rodolfo\\AppData\\Roaming\\Python\\Python36\\site-packages\\sklearn\\linear_model\\logistic.py:460: FutureWarning: Default multi_class will be changed to 'auto' in 0.22. Specify the multi_class option to silence this warning.\n",
      "  \"this warning.\", FutureWarning)\n"
     ]
    },
    {
     "name": "stdout",
     "output_type": "stream",
     "text": [
      "Fri Apr 26 01:47:58 2019\n",
      "predict\n",
      "Fri Apr 26 01:48:00 2019\n",
      "*** Parametro:  {'C': 5, 'penalty': 'l1'}\n",
      "1\n",
      "open files\n",
      "Fri Apr 26 01:48:01 2019\n",
      "arquivo a ser aberto:  1\n",
      "(53849, 3000)\n",
      "(5985, 3000)\n",
      "Fri Apr 26 01:48:01 2019\n",
      "fit model\n"
     ]
    },
    {
     "name": "stderr",
     "output_type": "stream",
     "text": [
      "C:\\Users\\Rodolfo\\AppData\\Roaming\\Python\\Python36\\site-packages\\sklearn\\linear_model\\logistic.py:433: FutureWarning: Default solver will be changed to 'lbfgs' in 0.22. Specify a solver to silence this warning.\n",
      "  FutureWarning)\n",
      "C:\\Users\\Rodolfo\\AppData\\Roaming\\Python\\Python36\\site-packages\\sklearn\\linear_model\\logistic.py:460: FutureWarning: Default multi_class will be changed to 'auto' in 0.22. Specify the multi_class option to silence this warning.\n",
      "  \"this warning.\", FutureWarning)\n"
     ]
    },
    {
     "name": "stdout",
     "output_type": "stream",
     "text": [
      "Fri Apr 26 01:51:22 2019\n",
      "predict\n",
      "Fri Apr 26 01:51:43 2019\n",
      "2\n",
      "open files\n",
      "Fri Apr 26 01:51:44 2019\n",
      "arquivo a ser aberto:  2\n",
      "(53849, 3000)\n",
      "(5985, 3000)\n",
      "Fri Apr 26 01:51:44 2019\n",
      "fit model\n"
     ]
    },
    {
     "name": "stderr",
     "output_type": "stream",
     "text": [
      "C:\\Users\\Rodolfo\\AppData\\Roaming\\Python\\Python36\\site-packages\\sklearn\\linear_model\\logistic.py:433: FutureWarning: Default solver will be changed to 'lbfgs' in 0.22. Specify a solver to silence this warning.\n",
      "  FutureWarning)\n",
      "C:\\Users\\Rodolfo\\AppData\\Roaming\\Python\\Python36\\site-packages\\sklearn\\linear_model\\logistic.py:460: FutureWarning: Default multi_class will be changed to 'auto' in 0.22. Specify the multi_class option to silence this warning.\n",
      "  \"this warning.\", FutureWarning)\n"
     ]
    },
    {
     "name": "stdout",
     "output_type": "stream",
     "text": [
      "Fri Apr 26 01:55:23 2019\n",
      "predict\n",
      "Fri Apr 26 01:55:33 2019\n",
      "3\n",
      "open files\n",
      "Fri Apr 26 01:55:34 2019\n",
      "arquivo a ser aberto:  3\n",
      "(53849, 3000)\n",
      "(5985, 3000)\n",
      "Fri Apr 26 01:55:34 2019\n",
      "fit model\n"
     ]
    },
    {
     "name": "stderr",
     "output_type": "stream",
     "text": [
      "C:\\Users\\Rodolfo\\AppData\\Roaming\\Python\\Python36\\site-packages\\sklearn\\linear_model\\logistic.py:433: FutureWarning: Default solver will be changed to 'lbfgs' in 0.22. Specify a solver to silence this warning.\n",
      "  FutureWarning)\n",
      "C:\\Users\\Rodolfo\\AppData\\Roaming\\Python\\Python36\\site-packages\\sklearn\\linear_model\\logistic.py:460: FutureWarning: Default multi_class will be changed to 'auto' in 0.22. Specify the multi_class option to silence this warning.\n",
      "  \"this warning.\", FutureWarning)\n"
     ]
    },
    {
     "name": "stdout",
     "output_type": "stream",
     "text": [
      "Fri Apr 26 01:59:04 2019\n",
      "predict\n",
      "Fri Apr 26 01:59:18 2019\n",
      "4\n",
      "open files\n",
      "Fri Apr 26 01:59:19 2019\n",
      "arquivo a ser aberto:  4\n",
      "(53850, 3000)\n",
      "(5984, 3000)\n",
      "Fri Apr 26 01:59:19 2019\n",
      "fit model\n"
     ]
    },
    {
     "name": "stderr",
     "output_type": "stream",
     "text": [
      "C:\\Users\\Rodolfo\\AppData\\Roaming\\Python\\Python36\\site-packages\\sklearn\\linear_model\\logistic.py:433: FutureWarning: Default solver will be changed to 'lbfgs' in 0.22. Specify a solver to silence this warning.\n",
      "  FutureWarning)\n",
      "C:\\Users\\Rodolfo\\AppData\\Roaming\\Python\\Python36\\site-packages\\sklearn\\linear_model\\logistic.py:460: FutureWarning: Default multi_class will be changed to 'auto' in 0.22. Specify the multi_class option to silence this warning.\n",
      "  \"this warning.\", FutureWarning)\n"
     ]
    },
    {
     "name": "stdout",
     "output_type": "stream",
     "text": [
      "Fri Apr 26 02:03:06 2019\n",
      "predict\n",
      "Fri Apr 26 02:03:13 2019\n",
      "5\n",
      "open files\n",
      "Fri Apr 26 02:03:14 2019\n",
      "arquivo a ser aberto:  5\n",
      "(53850, 3000)\n",
      "(5984, 3000)\n",
      "Fri Apr 26 02:03:14 2019\n",
      "fit model\n"
     ]
    },
    {
     "name": "stderr",
     "output_type": "stream",
     "text": [
      "C:\\Users\\Rodolfo\\AppData\\Roaming\\Python\\Python36\\site-packages\\sklearn\\linear_model\\logistic.py:433: FutureWarning: Default solver will be changed to 'lbfgs' in 0.22. Specify a solver to silence this warning.\n",
      "  FutureWarning)\n",
      "C:\\Users\\Rodolfo\\AppData\\Roaming\\Python\\Python36\\site-packages\\sklearn\\linear_model\\logistic.py:460: FutureWarning: Default multi_class will be changed to 'auto' in 0.22. Specify the multi_class option to silence this warning.\n",
      "  \"this warning.\", FutureWarning)\n"
     ]
    },
    {
     "name": "stdout",
     "output_type": "stream",
     "text": [
      "Fri Apr 26 02:06:39 2019\n",
      "predict\n",
      "Fri Apr 26 02:06:42 2019\n",
      "6\n",
      "open files\n",
      "Fri Apr 26 02:06:42 2019\n",
      "arquivo a ser aberto:  6\n",
      "(53850, 3000)\n",
      "(5984, 3000)\n",
      "Fri Apr 26 02:06:42 2019\n",
      "fit model\n"
     ]
    },
    {
     "name": "stderr",
     "output_type": "stream",
     "text": [
      "C:\\Users\\Rodolfo\\AppData\\Roaming\\Python\\Python36\\site-packages\\sklearn\\linear_model\\logistic.py:433: FutureWarning: Default solver will be changed to 'lbfgs' in 0.22. Specify a solver to silence this warning.\n",
      "  FutureWarning)\n",
      "C:\\Users\\Rodolfo\\AppData\\Roaming\\Python\\Python36\\site-packages\\sklearn\\linear_model\\logistic.py:460: FutureWarning: Default multi_class will be changed to 'auto' in 0.22. Specify the multi_class option to silence this warning.\n",
      "  \"this warning.\", FutureWarning)\n"
     ]
    },
    {
     "name": "stdout",
     "output_type": "stream",
     "text": [
      "Fri Apr 26 02:10:04 2019\n",
      "predict\n",
      "Fri Apr 26 02:10:07 2019\n",
      "7\n",
      "open files\n",
      "Fri Apr 26 02:10:07 2019\n",
      "arquivo a ser aberto:  7\n",
      "(53851, 3000)\n",
      "(5983, 3000)\n",
      "Fri Apr 26 02:10:07 2019\n",
      "fit model\n"
     ]
    },
    {
     "name": "stderr",
     "output_type": "stream",
     "text": [
      "C:\\Users\\Rodolfo\\AppData\\Roaming\\Python\\Python36\\site-packages\\sklearn\\linear_model\\logistic.py:433: FutureWarning: Default solver will be changed to 'lbfgs' in 0.22. Specify a solver to silence this warning.\n",
      "  FutureWarning)\n",
      "C:\\Users\\Rodolfo\\AppData\\Roaming\\Python\\Python36\\site-packages\\sklearn\\linear_model\\logistic.py:460: FutureWarning: Default multi_class will be changed to 'auto' in 0.22. Specify the multi_class option to silence this warning.\n",
      "  \"this warning.\", FutureWarning)\n"
     ]
    },
    {
     "name": "stdout",
     "output_type": "stream",
     "text": [
      "Fri Apr 26 02:13:29 2019\n",
      "predict\n",
      "Fri Apr 26 02:13:32 2019\n",
      "8\n",
      "open files\n",
      "Fri Apr 26 02:13:32 2019\n",
      "arquivo a ser aberto:  8\n",
      "(53851, 3000)\n",
      "(5983, 3000)\n",
      "Fri Apr 26 02:13:32 2019\n",
      "fit model\n"
     ]
    },
    {
     "name": "stderr",
     "output_type": "stream",
     "text": [
      "C:\\Users\\Rodolfo\\AppData\\Roaming\\Python\\Python36\\site-packages\\sklearn\\linear_model\\logistic.py:433: FutureWarning: Default solver will be changed to 'lbfgs' in 0.22. Specify a solver to silence this warning.\n",
      "  FutureWarning)\n",
      "C:\\Users\\Rodolfo\\AppData\\Roaming\\Python\\Python36\\site-packages\\sklearn\\linear_model\\logistic.py:460: FutureWarning: Default multi_class will be changed to 'auto' in 0.22. Specify the multi_class option to silence this warning.\n",
      "  \"this warning.\", FutureWarning)\n"
     ]
    },
    {
     "name": "stdout",
     "output_type": "stream",
     "text": [
      "Fri Apr 26 02:17:01 2019\n",
      "predict\n",
      "Fri Apr 26 02:17:19 2019\n",
      "9\n",
      "open files\n",
      "Fri Apr 26 02:17:19 2019\n",
      "arquivo a ser aberto:  9\n",
      "(53853, 3000)\n",
      "(5981, 3000)\n",
      "Fri Apr 26 02:17:19 2019\n",
      "fit model\n"
     ]
    },
    {
     "name": "stderr",
     "output_type": "stream",
     "text": [
      "C:\\Users\\Rodolfo\\AppData\\Roaming\\Python\\Python36\\site-packages\\sklearn\\linear_model\\logistic.py:433: FutureWarning: Default solver will be changed to 'lbfgs' in 0.22. Specify a solver to silence this warning.\n",
      "  FutureWarning)\n",
      "C:\\Users\\Rodolfo\\AppData\\Roaming\\Python\\Python36\\site-packages\\sklearn\\linear_model\\logistic.py:460: FutureWarning: Default multi_class will be changed to 'auto' in 0.22. Specify the multi_class option to silence this warning.\n",
      "  \"this warning.\", FutureWarning)\n"
     ]
    },
    {
     "name": "stdout",
     "output_type": "stream",
     "text": [
      "Fri Apr 26 02:20:41 2019\n",
      "predict\n",
      "Fri Apr 26 02:20:44 2019\n",
      "10\n",
      "open files\n",
      "Fri Apr 26 02:20:45 2019\n",
      "arquivo a ser aberto:  10\n",
      "(53854, 3000)\n",
      "(5980, 3000)\n",
      "Fri Apr 26 02:20:45 2019\n",
      "fit model\n"
     ]
    },
    {
     "name": "stderr",
     "output_type": "stream",
     "text": [
      "C:\\Users\\Rodolfo\\AppData\\Roaming\\Python\\Python36\\site-packages\\sklearn\\linear_model\\logistic.py:433: FutureWarning: Default solver will be changed to 'lbfgs' in 0.22. Specify a solver to silence this warning.\n",
      "  FutureWarning)\n",
      "C:\\Users\\Rodolfo\\AppData\\Roaming\\Python\\Python36\\site-packages\\sklearn\\linear_model\\logistic.py:460: FutureWarning: Default multi_class will be changed to 'auto' in 0.22. Specify the multi_class option to silence this warning.\n",
      "  \"this warning.\", FutureWarning)\n"
     ]
    },
    {
     "name": "stdout",
     "output_type": "stream",
     "text": [
      "Fri Apr 26 02:24:26 2019\n",
      "predict\n",
      "Fri Apr 26 02:24:29 2019\n",
      "*** Parametro:  {'C': 5, 'penalty': 'l2'}\n",
      "1\n",
      "open files\n",
      "Fri Apr 26 02:24:30 2019\n",
      "arquivo a ser aberto:  1\n",
      "(53849, 3000)\n",
      "(5985, 3000)\n",
      "Fri Apr 26 02:24:30 2019\n",
      "fit model\n"
     ]
    },
    {
     "name": "stderr",
     "output_type": "stream",
     "text": [
      "C:\\Users\\Rodolfo\\AppData\\Roaming\\Python\\Python36\\site-packages\\sklearn\\linear_model\\logistic.py:433: FutureWarning: Default solver will be changed to 'lbfgs' in 0.22. Specify a solver to silence this warning.\n",
      "  FutureWarning)\n",
      "C:\\Users\\Rodolfo\\AppData\\Roaming\\Python\\Python36\\site-packages\\sklearn\\linear_model\\logistic.py:460: FutureWarning: Default multi_class will be changed to 'auto' in 0.22. Specify the multi_class option to silence this warning.\n",
      "  \"this warning.\", FutureWarning)\n"
     ]
    },
    {
     "name": "stdout",
     "output_type": "stream",
     "text": [
      "Fri Apr 26 02:27:18 2019\n",
      "predict\n",
      "Fri Apr 26 02:27:21 2019\n",
      "2\n",
      "open files\n",
      "Fri Apr 26 02:27:21 2019\n",
      "arquivo a ser aberto:  2\n",
      "(53849, 3000)\n",
      "(5985, 3000)\n",
      "Fri Apr 26 02:27:21 2019\n",
      "fit model\n"
     ]
    },
    {
     "name": "stderr",
     "output_type": "stream",
     "text": [
      "C:\\Users\\Rodolfo\\AppData\\Roaming\\Python\\Python36\\site-packages\\sklearn\\linear_model\\logistic.py:433: FutureWarning: Default solver will be changed to 'lbfgs' in 0.22. Specify a solver to silence this warning.\n",
      "  FutureWarning)\n",
      "C:\\Users\\Rodolfo\\AppData\\Roaming\\Python\\Python36\\site-packages\\sklearn\\linear_model\\logistic.py:460: FutureWarning: Default multi_class will be changed to 'auto' in 0.22. Specify the multi_class option to silence this warning.\n",
      "  \"this warning.\", FutureWarning)\n"
     ]
    },
    {
     "name": "stdout",
     "output_type": "stream",
     "text": [
      "Fri Apr 26 02:30:26 2019\n",
      "predict\n",
      "Fri Apr 26 02:30:29 2019\n",
      "3\n",
      "open files\n",
      "Fri Apr 26 02:30:30 2019\n",
      "arquivo a ser aberto:  3\n",
      "(53849, 3000)\n",
      "(5985, 3000)\n",
      "Fri Apr 26 02:30:30 2019\n",
      "fit model\n"
     ]
    },
    {
     "name": "stderr",
     "output_type": "stream",
     "text": [
      "C:\\Users\\Rodolfo\\AppData\\Roaming\\Python\\Python36\\site-packages\\sklearn\\linear_model\\logistic.py:433: FutureWarning: Default solver will be changed to 'lbfgs' in 0.22. Specify a solver to silence this warning.\n",
      "  FutureWarning)\n",
      "C:\\Users\\Rodolfo\\AppData\\Roaming\\Python\\Python36\\site-packages\\sklearn\\linear_model\\logistic.py:460: FutureWarning: Default multi_class will be changed to 'auto' in 0.22. Specify the multi_class option to silence this warning.\n",
      "  \"this warning.\", FutureWarning)\n"
     ]
    },
    {
     "name": "stdout",
     "output_type": "stream",
     "text": [
      "Fri Apr 26 02:33:26 2019\n",
      "predict\n",
      "Fri Apr 26 02:33:29 2019\n",
      "4\n",
      "open files\n",
      "Fri Apr 26 02:33:29 2019\n",
      "arquivo a ser aberto:  4\n",
      "(53850, 3000)\n",
      "(5984, 3000)\n",
      "Fri Apr 26 02:33:29 2019\n",
      "fit model\n"
     ]
    },
    {
     "name": "stderr",
     "output_type": "stream",
     "text": [
      "C:\\Users\\Rodolfo\\AppData\\Roaming\\Python\\Python36\\site-packages\\sklearn\\linear_model\\logistic.py:433: FutureWarning: Default solver will be changed to 'lbfgs' in 0.22. Specify a solver to silence this warning.\n",
      "  FutureWarning)\n",
      "C:\\Users\\Rodolfo\\AppData\\Roaming\\Python\\Python36\\site-packages\\sklearn\\linear_model\\logistic.py:460: FutureWarning: Default multi_class will be changed to 'auto' in 0.22. Specify the multi_class option to silence this warning.\n",
      "  \"this warning.\", FutureWarning)\n"
     ]
    },
    {
     "name": "stdout",
     "output_type": "stream",
     "text": [
      "Fri Apr 26 02:36:16 2019\n",
      "predict\n",
      "Fri Apr 26 02:36:18 2019\n",
      "5\n",
      "open files\n",
      "Fri Apr 26 02:36:19 2019\n",
      "arquivo a ser aberto:  5\n",
      "(53850, 3000)\n",
      "(5984, 3000)\n",
      "Fri Apr 26 02:36:19 2019\n",
      "fit model\n"
     ]
    },
    {
     "name": "stderr",
     "output_type": "stream",
     "text": [
      "C:\\Users\\Rodolfo\\AppData\\Roaming\\Python\\Python36\\site-packages\\sklearn\\linear_model\\logistic.py:433: FutureWarning: Default solver will be changed to 'lbfgs' in 0.22. Specify a solver to silence this warning.\n",
      "  FutureWarning)\n",
      "C:\\Users\\Rodolfo\\AppData\\Roaming\\Python\\Python36\\site-packages\\sklearn\\linear_model\\logistic.py:460: FutureWarning: Default multi_class will be changed to 'auto' in 0.22. Specify the multi_class option to silence this warning.\n",
      "  \"this warning.\", FutureWarning)\n"
     ]
    },
    {
     "name": "stdout",
     "output_type": "stream",
     "text": [
      "Fri Apr 26 02:39:08 2019\n",
      "predict\n",
      "Fri Apr 26 02:39:10 2019\n",
      "6\n",
      "open files\n",
      "Fri Apr 26 02:39:10 2019\n",
      "arquivo a ser aberto:  6\n",
      "(53850, 3000)\n",
      "(5984, 3000)\n",
      "Fri Apr 26 02:39:10 2019\n",
      "fit model\n"
     ]
    },
    {
     "name": "stderr",
     "output_type": "stream",
     "text": [
      "C:\\Users\\Rodolfo\\AppData\\Roaming\\Python\\Python36\\site-packages\\sklearn\\linear_model\\logistic.py:433: FutureWarning: Default solver will be changed to 'lbfgs' in 0.22. Specify a solver to silence this warning.\n",
      "  FutureWarning)\n",
      "C:\\Users\\Rodolfo\\AppData\\Roaming\\Python\\Python36\\site-packages\\sklearn\\linear_model\\logistic.py:460: FutureWarning: Default multi_class will be changed to 'auto' in 0.22. Specify the multi_class option to silence this warning.\n",
      "  \"this warning.\", FutureWarning)\n"
     ]
    },
    {
     "name": "stdout",
     "output_type": "stream",
     "text": [
      "Fri Apr 26 02:42:06 2019\n",
      "predict\n",
      "Fri Apr 26 02:42:09 2019\n",
      "7\n",
      "open files\n",
      "Fri Apr 26 02:42:09 2019\n",
      "arquivo a ser aberto:  7\n",
      "(53851, 3000)\n",
      "(5983, 3000)\n",
      "Fri Apr 26 02:42:09 2019\n",
      "fit model\n"
     ]
    },
    {
     "name": "stderr",
     "output_type": "stream",
     "text": [
      "C:\\Users\\Rodolfo\\AppData\\Roaming\\Python\\Python36\\site-packages\\sklearn\\linear_model\\logistic.py:433: FutureWarning: Default solver will be changed to 'lbfgs' in 0.22. Specify a solver to silence this warning.\n",
      "  FutureWarning)\n",
      "C:\\Users\\Rodolfo\\AppData\\Roaming\\Python\\Python36\\site-packages\\sklearn\\linear_model\\logistic.py:460: FutureWarning: Default multi_class will be changed to 'auto' in 0.22. Specify the multi_class option to silence this warning.\n",
      "  \"this warning.\", FutureWarning)\n"
     ]
    },
    {
     "name": "stdout",
     "output_type": "stream",
     "text": [
      "Fri Apr 26 02:44:56 2019\n",
      "predict\n",
      "Fri Apr 26 02:44:59 2019\n",
      "8\n",
      "open files\n",
      "Fri Apr 26 02:44:59 2019\n",
      "arquivo a ser aberto:  8\n",
      "(53851, 3000)\n",
      "(5983, 3000)\n",
      "Fri Apr 26 02:44:59 2019\n",
      "fit model\n"
     ]
    },
    {
     "name": "stderr",
     "output_type": "stream",
     "text": [
      "C:\\Users\\Rodolfo\\AppData\\Roaming\\Python\\Python36\\site-packages\\sklearn\\linear_model\\logistic.py:433: FutureWarning: Default solver will be changed to 'lbfgs' in 0.22. Specify a solver to silence this warning.\n",
      "  FutureWarning)\n",
      "C:\\Users\\Rodolfo\\AppData\\Roaming\\Python\\Python36\\site-packages\\sklearn\\linear_model\\logistic.py:460: FutureWarning: Default multi_class will be changed to 'auto' in 0.22. Specify the multi_class option to silence this warning.\n",
      "  \"this warning.\", FutureWarning)\n"
     ]
    },
    {
     "name": "stdout",
     "output_type": "stream",
     "text": [
      "Fri Apr 26 02:47:58 2019\n",
      "predict\n",
      "Fri Apr 26 02:48:03 2019\n",
      "9\n",
      "open files\n",
      "Fri Apr 26 02:48:03 2019\n",
      "arquivo a ser aberto:  9\n",
      "(53853, 3000)\n",
      "(5981, 3000)\n",
      "Fri Apr 26 02:48:03 2019\n",
      "fit model\n"
     ]
    },
    {
     "name": "stderr",
     "output_type": "stream",
     "text": [
      "C:\\Users\\Rodolfo\\AppData\\Roaming\\Python\\Python36\\site-packages\\sklearn\\linear_model\\logistic.py:433: FutureWarning: Default solver will be changed to 'lbfgs' in 0.22. Specify a solver to silence this warning.\n",
      "  FutureWarning)\n",
      "C:\\Users\\Rodolfo\\AppData\\Roaming\\Python\\Python36\\site-packages\\sklearn\\linear_model\\logistic.py:460: FutureWarning: Default multi_class will be changed to 'auto' in 0.22. Specify the multi_class option to silence this warning.\n",
      "  \"this warning.\", FutureWarning)\n"
     ]
    },
    {
     "name": "stdout",
     "output_type": "stream",
     "text": [
      "Fri Apr 26 02:50:56 2019\n",
      "predict\n",
      "Fri Apr 26 02:50:58 2019\n",
      "10\n",
      "open files\n",
      "Fri Apr 26 02:50:58 2019\n",
      "arquivo a ser aberto:  10\n",
      "(53854, 3000)\n",
      "(5980, 3000)\n",
      "Fri Apr 26 02:50:58 2019\n",
      "fit model\n"
     ]
    },
    {
     "name": "stderr",
     "output_type": "stream",
     "text": [
      "C:\\Users\\Rodolfo\\AppData\\Roaming\\Python\\Python36\\site-packages\\sklearn\\linear_model\\logistic.py:433: FutureWarning: Default solver will be changed to 'lbfgs' in 0.22. Specify a solver to silence this warning.\n",
      "  FutureWarning)\n",
      "C:\\Users\\Rodolfo\\AppData\\Roaming\\Python\\Python36\\site-packages\\sklearn\\linear_model\\logistic.py:460: FutureWarning: Default multi_class will be changed to 'auto' in 0.22. Specify the multi_class option to silence this warning.\n",
      "  \"this warning.\", FutureWarning)\n"
     ]
    },
    {
     "name": "stdout",
     "output_type": "stream",
     "text": [
      "Fri Apr 26 02:53:58 2019\n",
      "predict\n",
      "Fri Apr 26 02:54:00 2019\n",
      "*** Parametro:  {'C': 10, 'penalty': 'l1'}\n",
      "1\n",
      "open files\n",
      "Fri Apr 26 02:54:00 2019\n",
      "arquivo a ser aberto:  1\n",
      "(53849, 3000)\n",
      "(5985, 3000)\n",
      "Fri Apr 26 02:54:00 2019\n",
      "fit model\n"
     ]
    },
    {
     "name": "stderr",
     "output_type": "stream",
     "text": [
      "C:\\Users\\Rodolfo\\AppData\\Roaming\\Python\\Python36\\site-packages\\sklearn\\linear_model\\logistic.py:433: FutureWarning: Default solver will be changed to 'lbfgs' in 0.22. Specify a solver to silence this warning.\n",
      "  FutureWarning)\n",
      "C:\\Users\\Rodolfo\\AppData\\Roaming\\Python\\Python36\\site-packages\\sklearn\\linear_model\\logistic.py:460: FutureWarning: Default multi_class will be changed to 'auto' in 0.22. Specify the multi_class option to silence this warning.\n",
      "  \"this warning.\", FutureWarning)\n"
     ]
    },
    {
     "name": "stdout",
     "output_type": "stream",
     "text": [
      "Fri Apr 26 02:59:21 2019\n",
      "predict\n",
      "Fri Apr 26 02:59:36 2019\n",
      "2\n",
      "open files\n",
      "Fri Apr 26 02:59:37 2019\n",
      "arquivo a ser aberto:  2\n",
      "(53849, 3000)\n",
      "(5985, 3000)\n",
      "Fri Apr 26 02:59:37 2019\n",
      "fit model\n"
     ]
    },
    {
     "name": "stderr",
     "output_type": "stream",
     "text": [
      "C:\\Users\\Rodolfo\\AppData\\Roaming\\Python\\Python36\\site-packages\\sklearn\\linear_model\\logistic.py:433: FutureWarning: Default solver will be changed to 'lbfgs' in 0.22. Specify a solver to silence this warning.\n",
      "  FutureWarning)\n",
      "C:\\Users\\Rodolfo\\AppData\\Roaming\\Python\\Python36\\site-packages\\sklearn\\linear_model\\logistic.py:460: FutureWarning: Default multi_class will be changed to 'auto' in 0.22. Specify the multi_class option to silence this warning.\n",
      "  \"this warning.\", FutureWarning)\n"
     ]
    },
    {
     "name": "stdout",
     "output_type": "stream",
     "text": [
      "Fri Apr 26 03:04:37 2019\n",
      "predict\n",
      "Fri Apr 26 03:04:48 2019\n",
      "3\n",
      "open files\n",
      "Fri Apr 26 03:04:48 2019\n",
      "arquivo a ser aberto:  3\n",
      "(53849, 3000)\n",
      "(5985, 3000)\n",
      "Fri Apr 26 03:04:48 2019\n",
      "fit model\n"
     ]
    },
    {
     "name": "stderr",
     "output_type": "stream",
     "text": [
      "C:\\Users\\Rodolfo\\AppData\\Roaming\\Python\\Python36\\site-packages\\sklearn\\linear_model\\logistic.py:433: FutureWarning: Default solver will be changed to 'lbfgs' in 0.22. Specify a solver to silence this warning.\n",
      "  FutureWarning)\n",
      "C:\\Users\\Rodolfo\\AppData\\Roaming\\Python\\Python36\\site-packages\\sklearn\\linear_model\\logistic.py:460: FutureWarning: Default multi_class will be changed to 'auto' in 0.22. Specify the multi_class option to silence this warning.\n",
      "  \"this warning.\", FutureWarning)\n"
     ]
    },
    {
     "name": "stdout",
     "output_type": "stream",
     "text": [
      "Fri Apr 26 03:10:06 2019\n",
      "predict\n",
      "Fri Apr 26 03:10:19 2019\n",
      "4\n",
      "open files\n",
      "Fri Apr 26 03:10:20 2019\n",
      "arquivo a ser aberto:  4\n",
      "(53850, 3000)\n",
      "(5984, 3000)\n",
      "Fri Apr 26 03:10:20 2019\n",
      "fit model\n"
     ]
    },
    {
     "name": "stderr",
     "output_type": "stream",
     "text": [
      "C:\\Users\\Rodolfo\\AppData\\Roaming\\Python\\Python36\\site-packages\\sklearn\\linear_model\\logistic.py:433: FutureWarning: Default solver will be changed to 'lbfgs' in 0.22. Specify a solver to silence this warning.\n",
      "  FutureWarning)\n",
      "C:\\Users\\Rodolfo\\AppData\\Roaming\\Python\\Python36\\site-packages\\sklearn\\linear_model\\logistic.py:460: FutureWarning: Default multi_class will be changed to 'auto' in 0.22. Specify the multi_class option to silence this warning.\n",
      "  \"this warning.\", FutureWarning)\n"
     ]
    },
    {
     "name": "stdout",
     "output_type": "stream",
     "text": [
      "Fri Apr 26 03:16:05 2019\n",
      "predict\n",
      "Fri Apr 26 03:16:14 2019\n",
      "5\n",
      "open files\n",
      "Fri Apr 26 03:16:15 2019\n",
      "arquivo a ser aberto:  5\n",
      "(53850, 3000)\n",
      "(5984, 3000)\n",
      "Fri Apr 26 03:16:15 2019\n",
      "fit model\n"
     ]
    },
    {
     "name": "stderr",
     "output_type": "stream",
     "text": [
      "C:\\Users\\Rodolfo\\AppData\\Roaming\\Python\\Python36\\site-packages\\sklearn\\linear_model\\logistic.py:433: FutureWarning: Default solver will be changed to 'lbfgs' in 0.22. Specify a solver to silence this warning.\n",
      "  FutureWarning)\n",
      "C:\\Users\\Rodolfo\\AppData\\Roaming\\Python\\Python36\\site-packages\\sklearn\\linear_model\\logistic.py:460: FutureWarning: Default multi_class will be changed to 'auto' in 0.22. Specify the multi_class option to silence this warning.\n",
      "  \"this warning.\", FutureWarning)\n"
     ]
    },
    {
     "name": "stdout",
     "output_type": "stream",
     "text": [
      "Fri Apr 26 03:21:32 2019\n",
      "predict\n",
      "Fri Apr 26 03:21:34 2019\n",
      "6\n",
      "open files\n",
      "Fri Apr 26 03:21:34 2019\n",
      "arquivo a ser aberto:  6\n",
      "(53850, 3000)\n",
      "(5984, 3000)\n",
      "Fri Apr 26 03:21:34 2019\n",
      "fit model\n"
     ]
    },
    {
     "name": "stderr",
     "output_type": "stream",
     "text": [
      "C:\\Users\\Rodolfo\\AppData\\Roaming\\Python\\Python36\\site-packages\\sklearn\\linear_model\\logistic.py:433: FutureWarning: Default solver will be changed to 'lbfgs' in 0.22. Specify a solver to silence this warning.\n",
      "  FutureWarning)\n",
      "C:\\Users\\Rodolfo\\AppData\\Roaming\\Python\\Python36\\site-packages\\sklearn\\linear_model\\logistic.py:460: FutureWarning: Default multi_class will be changed to 'auto' in 0.22. Specify the multi_class option to silence this warning.\n",
      "  \"this warning.\", FutureWarning)\n"
     ]
    },
    {
     "name": "stdout",
     "output_type": "stream",
     "text": [
      "Fri Apr 26 03:26:49 2019\n",
      "predict\n",
      "Fri Apr 26 03:26:51 2019\n",
      "7\n",
      "open files\n",
      "Fri Apr 26 03:26:52 2019\n",
      "arquivo a ser aberto:  7\n",
      "(53851, 3000)\n",
      "(5983, 3000)\n",
      "Fri Apr 26 03:26:52 2019\n",
      "fit model\n"
     ]
    },
    {
     "name": "stderr",
     "output_type": "stream",
     "text": [
      "C:\\Users\\Rodolfo\\AppData\\Roaming\\Python\\Python36\\site-packages\\sklearn\\linear_model\\logistic.py:433: FutureWarning: Default solver will be changed to 'lbfgs' in 0.22. Specify a solver to silence this warning.\n",
      "  FutureWarning)\n",
      "C:\\Users\\Rodolfo\\AppData\\Roaming\\Python\\Python36\\site-packages\\sklearn\\linear_model\\logistic.py:460: FutureWarning: Default multi_class will be changed to 'auto' in 0.22. Specify the multi_class option to silence this warning.\n",
      "  \"this warning.\", FutureWarning)\n"
     ]
    },
    {
     "name": "stdout",
     "output_type": "stream",
     "text": [
      "Fri Apr 26 03:31:50 2019\n",
      "predict\n",
      "Fri Apr 26 03:31:53 2019\n",
      "8\n",
      "open files\n",
      "Fri Apr 26 03:31:54 2019\n",
      "arquivo a ser aberto:  8\n",
      "(53851, 3000)\n",
      "(5983, 3000)\n",
      "Fri Apr 26 03:31:54 2019\n",
      "fit model\n"
     ]
    },
    {
     "name": "stderr",
     "output_type": "stream",
     "text": [
      "C:\\Users\\Rodolfo\\AppData\\Roaming\\Python\\Python36\\site-packages\\sklearn\\linear_model\\logistic.py:433: FutureWarning: Default solver will be changed to 'lbfgs' in 0.22. Specify a solver to silence this warning.\n",
      "  FutureWarning)\n",
      "C:\\Users\\Rodolfo\\AppData\\Roaming\\Python\\Python36\\site-packages\\sklearn\\linear_model\\logistic.py:460: FutureWarning: Default multi_class will be changed to 'auto' in 0.22. Specify the multi_class option to silence this warning.\n",
      "  \"this warning.\", FutureWarning)\n"
     ]
    },
    {
     "name": "stdout",
     "output_type": "stream",
     "text": [
      "Fri Apr 26 03:37:14 2019\n",
      "predict\n",
      "Fri Apr 26 03:37:33 2019\n",
      "9\n",
      "open files\n",
      "Fri Apr 26 03:37:34 2019\n",
      "arquivo a ser aberto:  9\n",
      "(53853, 3000)\n",
      "(5981, 3000)\n",
      "Fri Apr 26 03:37:34 2019\n",
      "fit model\n"
     ]
    },
    {
     "name": "stderr",
     "output_type": "stream",
     "text": [
      "C:\\Users\\Rodolfo\\AppData\\Roaming\\Python\\Python36\\site-packages\\sklearn\\linear_model\\logistic.py:433: FutureWarning: Default solver will be changed to 'lbfgs' in 0.22. Specify a solver to silence this warning.\n",
      "  FutureWarning)\n",
      "C:\\Users\\Rodolfo\\AppData\\Roaming\\Python\\Python36\\site-packages\\sklearn\\linear_model\\logistic.py:460: FutureWarning: Default multi_class will be changed to 'auto' in 0.22. Specify the multi_class option to silence this warning.\n",
      "  \"this warning.\", FutureWarning)\n"
     ]
    },
    {
     "name": "stdout",
     "output_type": "stream",
     "text": [
      "Fri Apr 26 03:42:40 2019\n",
      "predict\n",
      "Fri Apr 26 03:42:43 2019\n",
      "10\n",
      "open files\n",
      "Fri Apr 26 03:42:43 2019\n",
      "arquivo a ser aberto:  10\n",
      "(53854, 3000)\n",
      "(5980, 3000)\n",
      "Fri Apr 26 03:42:43 2019\n",
      "fit model\n"
     ]
    },
    {
     "name": "stderr",
     "output_type": "stream",
     "text": [
      "C:\\Users\\Rodolfo\\AppData\\Roaming\\Python\\Python36\\site-packages\\sklearn\\linear_model\\logistic.py:433: FutureWarning: Default solver will be changed to 'lbfgs' in 0.22. Specify a solver to silence this warning.\n",
      "  FutureWarning)\n",
      "C:\\Users\\Rodolfo\\AppData\\Roaming\\Python\\Python36\\site-packages\\sklearn\\linear_model\\logistic.py:460: FutureWarning: Default multi_class will be changed to 'auto' in 0.22. Specify the multi_class option to silence this warning.\n",
      "  \"this warning.\", FutureWarning)\n"
     ]
    },
    {
     "name": "stdout",
     "output_type": "stream",
     "text": [
      "Fri Apr 26 03:48:09 2019\n",
      "predict\n",
      "Fri Apr 26 03:48:15 2019\n",
      "*** Parametro:  {'C': 10, 'penalty': 'l2'}\n",
      "1\n",
      "open files\n",
      "Fri Apr 26 03:48:15 2019\n",
      "arquivo a ser aberto:  1\n",
      "(53849, 3000)\n",
      "(5985, 3000)\n",
      "Fri Apr 26 03:48:15 2019\n",
      "fit model\n"
     ]
    },
    {
     "name": "stderr",
     "output_type": "stream",
     "text": [
      "C:\\Users\\Rodolfo\\AppData\\Roaming\\Python\\Python36\\site-packages\\sklearn\\linear_model\\logistic.py:433: FutureWarning: Default solver will be changed to 'lbfgs' in 0.22. Specify a solver to silence this warning.\n",
      "  FutureWarning)\n",
      "C:\\Users\\Rodolfo\\AppData\\Roaming\\Python\\Python36\\site-packages\\sklearn\\linear_model\\logistic.py:460: FutureWarning: Default multi_class will be changed to 'auto' in 0.22. Specify the multi_class option to silence this warning.\n",
      "  \"this warning.\", FutureWarning)\n"
     ]
    },
    {
     "name": "stdout",
     "output_type": "stream",
     "text": [
      "Fri Apr 26 03:51:38 2019\n",
      "predict\n",
      "Fri Apr 26 03:51:41 2019\n",
      "2\n",
      "open files\n",
      "Fri Apr 26 03:51:41 2019\n",
      "arquivo a ser aberto:  2\n",
      "(53849, 3000)\n",
      "(5985, 3000)\n",
      "Fri Apr 26 03:51:41 2019\n",
      "fit model\n"
     ]
    },
    {
     "name": "stderr",
     "output_type": "stream",
     "text": [
      "C:\\Users\\Rodolfo\\AppData\\Roaming\\Python\\Python36\\site-packages\\sklearn\\linear_model\\logistic.py:433: FutureWarning: Default solver will be changed to 'lbfgs' in 0.22. Specify a solver to silence this warning.\n",
      "  FutureWarning)\n",
      "C:\\Users\\Rodolfo\\AppData\\Roaming\\Python\\Python36\\site-packages\\sklearn\\linear_model\\logistic.py:460: FutureWarning: Default multi_class will be changed to 'auto' in 0.22. Specify the multi_class option to silence this warning.\n",
      "  \"this warning.\", FutureWarning)\n"
     ]
    },
    {
     "name": "stdout",
     "output_type": "stream",
     "text": [
      "Fri Apr 26 03:55:11 2019\n",
      "predict\n",
      "Fri Apr 26 03:55:15 2019\n",
      "3\n",
      "open files\n",
      "Fri Apr 26 03:55:15 2019\n",
      "arquivo a ser aberto:  3\n",
      "(53849, 3000)\n",
      "(5985, 3000)\n",
      "Fri Apr 26 03:55:15 2019\n",
      "fit model\n"
     ]
    },
    {
     "name": "stderr",
     "output_type": "stream",
     "text": [
      "C:\\Users\\Rodolfo\\AppData\\Roaming\\Python\\Python36\\site-packages\\sklearn\\linear_model\\logistic.py:433: FutureWarning: Default solver will be changed to 'lbfgs' in 0.22. Specify a solver to silence this warning.\n",
      "  FutureWarning)\n",
      "C:\\Users\\Rodolfo\\AppData\\Roaming\\Python\\Python36\\site-packages\\sklearn\\linear_model\\logistic.py:460: FutureWarning: Default multi_class will be changed to 'auto' in 0.22. Specify the multi_class option to silence this warning.\n",
      "  \"this warning.\", FutureWarning)\n"
     ]
    },
    {
     "name": "stdout",
     "output_type": "stream",
     "text": [
      "Fri Apr 26 03:58:33 2019\n",
      "predict\n",
      "Fri Apr 26 03:58:36 2019\n",
      "4\n",
      "open files\n",
      "Fri Apr 26 03:58:36 2019\n",
      "arquivo a ser aberto:  4\n",
      "(53850, 3000)\n",
      "(5984, 3000)\n",
      "Fri Apr 26 03:58:36 2019\n",
      "fit model\n"
     ]
    },
    {
     "name": "stderr",
     "output_type": "stream",
     "text": [
      "C:\\Users\\Rodolfo\\AppData\\Roaming\\Python\\Python36\\site-packages\\sklearn\\linear_model\\logistic.py:433: FutureWarning: Default solver will be changed to 'lbfgs' in 0.22. Specify a solver to silence this warning.\n",
      "  FutureWarning)\n",
      "C:\\Users\\Rodolfo\\AppData\\Roaming\\Python\\Python36\\site-packages\\sklearn\\linear_model\\logistic.py:460: FutureWarning: Default multi_class will be changed to 'auto' in 0.22. Specify the multi_class option to silence this warning.\n",
      "  \"this warning.\", FutureWarning)\n"
     ]
    },
    {
     "name": "stdout",
     "output_type": "stream",
     "text": [
      "Fri Apr 26 04:02:02 2019\n",
      "predict\n",
      "Fri Apr 26 04:02:04 2019\n",
      "5\n",
      "open files\n",
      "Fri Apr 26 04:02:05 2019\n",
      "arquivo a ser aberto:  5\n",
      "(53850, 3000)\n",
      "(5984, 3000)\n",
      "Fri Apr 26 04:02:05 2019\n",
      "fit model\n"
     ]
    },
    {
     "name": "stderr",
     "output_type": "stream",
     "text": [
      "C:\\Users\\Rodolfo\\AppData\\Roaming\\Python\\Python36\\site-packages\\sklearn\\linear_model\\logistic.py:433: FutureWarning: Default solver will be changed to 'lbfgs' in 0.22. Specify a solver to silence this warning.\n",
      "  FutureWarning)\n",
      "C:\\Users\\Rodolfo\\AppData\\Roaming\\Python\\Python36\\site-packages\\sklearn\\linear_model\\logistic.py:460: FutureWarning: Default multi_class will be changed to 'auto' in 0.22. Specify the multi_class option to silence this warning.\n",
      "  \"this warning.\", FutureWarning)\n"
     ]
    },
    {
     "name": "stdout",
     "output_type": "stream",
     "text": [
      "Fri Apr 26 04:05:23 2019\n",
      "predict\n",
      "Fri Apr 26 04:05:26 2019\n",
      "6\n",
      "open files\n",
      "Fri Apr 26 04:05:26 2019\n",
      "arquivo a ser aberto:  6\n",
      "(53850, 3000)\n",
      "(5984, 3000)\n",
      "Fri Apr 26 04:05:26 2019\n",
      "fit model\n"
     ]
    },
    {
     "name": "stderr",
     "output_type": "stream",
     "text": [
      "C:\\Users\\Rodolfo\\AppData\\Roaming\\Python\\Python36\\site-packages\\sklearn\\linear_model\\logistic.py:433: FutureWarning: Default solver will be changed to 'lbfgs' in 0.22. Specify a solver to silence this warning.\n",
      "  FutureWarning)\n",
      "C:\\Users\\Rodolfo\\AppData\\Roaming\\Python\\Python36\\site-packages\\sklearn\\linear_model\\logistic.py:460: FutureWarning: Default multi_class will be changed to 'auto' in 0.22. Specify the multi_class option to silence this warning.\n",
      "  \"this warning.\", FutureWarning)\n"
     ]
    },
    {
     "name": "stdout",
     "output_type": "stream",
     "text": [
      "Fri Apr 26 04:08:42 2019\n",
      "predict\n",
      "Fri Apr 26 04:08:45 2019\n",
      "7\n",
      "open files\n",
      "Fri Apr 26 04:08:45 2019\n",
      "arquivo a ser aberto:  7\n",
      "(53851, 3000)\n",
      "(5983, 3000)\n",
      "Fri Apr 26 04:08:45 2019\n",
      "fit model\n"
     ]
    },
    {
     "name": "stderr",
     "output_type": "stream",
     "text": [
      "C:\\Users\\Rodolfo\\AppData\\Roaming\\Python\\Python36\\site-packages\\sklearn\\linear_model\\logistic.py:433: FutureWarning: Default solver will be changed to 'lbfgs' in 0.22. Specify a solver to silence this warning.\n",
      "  FutureWarning)\n",
      "C:\\Users\\Rodolfo\\AppData\\Roaming\\Python\\Python36\\site-packages\\sklearn\\linear_model\\logistic.py:460: FutureWarning: Default multi_class will be changed to 'auto' in 0.22. Specify the multi_class option to silence this warning.\n",
      "  \"this warning.\", FutureWarning)\n"
     ]
    },
    {
     "name": "stdout",
     "output_type": "stream",
     "text": [
      "Fri Apr 26 04:12:07 2019\n",
      "predict\n",
      "Fri Apr 26 04:12:10 2019\n",
      "8\n",
      "open files\n",
      "Fri Apr 26 04:12:10 2019\n",
      "arquivo a ser aberto:  8\n",
      "(53851, 3000)\n",
      "(5983, 3000)\n",
      "Fri Apr 26 04:12:10 2019\n",
      "fit model\n"
     ]
    },
    {
     "name": "stderr",
     "output_type": "stream",
     "text": [
      "C:\\Users\\Rodolfo\\AppData\\Roaming\\Python\\Python36\\site-packages\\sklearn\\linear_model\\logistic.py:433: FutureWarning: Default solver will be changed to 'lbfgs' in 0.22. Specify a solver to silence this warning.\n",
      "  FutureWarning)\n",
      "C:\\Users\\Rodolfo\\AppData\\Roaming\\Python\\Python36\\site-packages\\sklearn\\linear_model\\logistic.py:460: FutureWarning: Default multi_class will be changed to 'auto' in 0.22. Specify the multi_class option to silence this warning.\n",
      "  \"this warning.\", FutureWarning)\n"
     ]
    },
    {
     "name": "stdout",
     "output_type": "stream",
     "text": [
      "Fri Apr 26 04:15:29 2019\n",
      "predict\n",
      "Fri Apr 26 04:15:31 2019\n",
      "9\n",
      "open files\n",
      "Fri Apr 26 04:15:31 2019\n",
      "arquivo a ser aberto:  9\n",
      "(53853, 3000)\n",
      "(5981, 3000)\n",
      "Fri Apr 26 04:15:31 2019\n",
      "fit model\n"
     ]
    },
    {
     "name": "stderr",
     "output_type": "stream",
     "text": [
      "C:\\Users\\Rodolfo\\AppData\\Roaming\\Python\\Python36\\site-packages\\sklearn\\linear_model\\logistic.py:433: FutureWarning: Default solver will be changed to 'lbfgs' in 0.22. Specify a solver to silence this warning.\n",
      "  FutureWarning)\n",
      "C:\\Users\\Rodolfo\\AppData\\Roaming\\Python\\Python36\\site-packages\\sklearn\\linear_model\\logistic.py:460: FutureWarning: Default multi_class will be changed to 'auto' in 0.22. Specify the multi_class option to silence this warning.\n",
      "  \"this warning.\", FutureWarning)\n"
     ]
    },
    {
     "name": "stdout",
     "output_type": "stream",
     "text": [
      "Fri Apr 26 04:18:53 2019\n",
      "predict\n",
      "Fri Apr 26 04:18:56 2019\n",
      "10\n",
      "open files\n",
      "Fri Apr 26 04:18:56 2019\n",
      "arquivo a ser aberto:  10\n",
      "(53854, 3000)\n",
      "(5980, 3000)\n",
      "Fri Apr 26 04:18:56 2019\n",
      "fit model\n"
     ]
    },
    {
     "name": "stderr",
     "output_type": "stream",
     "text": [
      "C:\\Users\\Rodolfo\\AppData\\Roaming\\Python\\Python36\\site-packages\\sklearn\\linear_model\\logistic.py:433: FutureWarning: Default solver will be changed to 'lbfgs' in 0.22. Specify a solver to silence this warning.\n",
      "  FutureWarning)\n",
      "C:\\Users\\Rodolfo\\AppData\\Roaming\\Python\\Python36\\site-packages\\sklearn\\linear_model\\logistic.py:460: FutureWarning: Default multi_class will be changed to 'auto' in 0.22. Specify the multi_class option to silence this warning.\n",
      "  \"this warning.\", FutureWarning)\n"
     ]
    },
    {
     "name": "stdout",
     "output_type": "stream",
     "text": [
      "Fri Apr 26 04:22:19 2019\n",
      "predict\n",
      "Fri Apr 26 04:22:21 2019\n",
      "*** Parametro:  {'C': 15, 'penalty': 'l1'}\n",
      "1\n",
      "open files\n",
      "Fri Apr 26 04:22:22 2019\n",
      "arquivo a ser aberto:  1\n",
      "(53849, 3000)\n",
      "(5985, 3000)\n",
      "Fri Apr 26 04:22:22 2019\n",
      "fit model\n"
     ]
    },
    {
     "name": "stderr",
     "output_type": "stream",
     "text": [
      "C:\\Users\\Rodolfo\\AppData\\Roaming\\Python\\Python36\\site-packages\\sklearn\\linear_model\\logistic.py:433: FutureWarning: Default solver will be changed to 'lbfgs' in 0.22. Specify a solver to silence this warning.\n",
      "  FutureWarning)\n",
      "C:\\Users\\Rodolfo\\AppData\\Roaming\\Python\\Python36\\site-packages\\sklearn\\linear_model\\logistic.py:460: FutureWarning: Default multi_class will be changed to 'auto' in 0.22. Specify the multi_class option to silence this warning.\n",
      "  \"this warning.\", FutureWarning)\n"
     ]
    },
    {
     "name": "stdout",
     "output_type": "stream",
     "text": [
      "Fri Apr 26 04:29:04 2019\n",
      "predict\n",
      "Fri Apr 26 04:29:16 2019\n",
      "2\n",
      "open files\n",
      "Fri Apr 26 04:29:16 2019\n",
      "arquivo a ser aberto:  2\n",
      "(53849, 3000)\n",
      "(5985, 3000)\n",
      "Fri Apr 26 04:29:16 2019\n",
      "fit model\n"
     ]
    },
    {
     "name": "stderr",
     "output_type": "stream",
     "text": [
      "C:\\Users\\Rodolfo\\AppData\\Roaming\\Python\\Python36\\site-packages\\sklearn\\linear_model\\logistic.py:433: FutureWarning: Default solver will be changed to 'lbfgs' in 0.22. Specify a solver to silence this warning.\n",
      "  FutureWarning)\n",
      "C:\\Users\\Rodolfo\\AppData\\Roaming\\Python\\Python36\\site-packages\\sklearn\\linear_model\\logistic.py:460: FutureWarning: Default multi_class will be changed to 'auto' in 0.22. Specify the multi_class option to silence this warning.\n",
      "  \"this warning.\", FutureWarning)\n"
     ]
    },
    {
     "name": "stdout",
     "output_type": "stream",
     "text": [
      "Fri Apr 26 04:35:56 2019\n",
      "predict\n",
      "Fri Apr 26 04:36:08 2019\n",
      "3\n",
      "open files\n",
      "Fri Apr 26 04:36:08 2019\n",
      "arquivo a ser aberto:  3\n",
      "(53849, 3000)\n",
      "(5985, 3000)\n",
      "Fri Apr 26 04:36:08 2019\n",
      "fit model\n"
     ]
    },
    {
     "name": "stderr",
     "output_type": "stream",
     "text": [
      "C:\\Users\\Rodolfo\\AppData\\Roaming\\Python\\Python36\\site-packages\\sklearn\\linear_model\\logistic.py:433: FutureWarning: Default solver will be changed to 'lbfgs' in 0.22. Specify a solver to silence this warning.\n",
      "  FutureWarning)\n",
      "C:\\Users\\Rodolfo\\AppData\\Roaming\\Python\\Python36\\site-packages\\sklearn\\linear_model\\logistic.py:460: FutureWarning: Default multi_class will be changed to 'auto' in 0.22. Specify the multi_class option to silence this warning.\n",
      "  \"this warning.\", FutureWarning)\n"
     ]
    },
    {
     "name": "stdout",
     "output_type": "stream",
     "text": [
      "Fri Apr 26 04:43:10 2019\n",
      "predict\n",
      "Fri Apr 26 04:43:25 2019\n",
      "4\n",
      "open files\n",
      "Fri Apr 26 04:43:25 2019\n",
      "arquivo a ser aberto:  4\n",
      "(53850, 3000)\n",
      "(5984, 3000)\n",
      "Fri Apr 26 04:43:25 2019\n",
      "fit model\n"
     ]
    },
    {
     "name": "stderr",
     "output_type": "stream",
     "text": [
      "C:\\Users\\Rodolfo\\AppData\\Roaming\\Python\\Python36\\site-packages\\sklearn\\linear_model\\logistic.py:433: FutureWarning: Default solver will be changed to 'lbfgs' in 0.22. Specify a solver to silence this warning.\n",
      "  FutureWarning)\n",
      "C:\\Users\\Rodolfo\\AppData\\Roaming\\Python\\Python36\\site-packages\\sklearn\\linear_model\\logistic.py:460: FutureWarning: Default multi_class will be changed to 'auto' in 0.22. Specify the multi_class option to silence this warning.\n",
      "  \"this warning.\", FutureWarning)\n"
     ]
    },
    {
     "name": "stdout",
     "output_type": "stream",
     "text": [
      "Fri Apr 26 04:51:33 2019\n",
      "predict\n",
      "Fri Apr 26 04:51:41 2019\n",
      "5\n",
      "open files\n",
      "Fri Apr 26 04:51:42 2019\n",
      "arquivo a ser aberto:  5\n",
      "(53850, 3000)\n",
      "(5984, 3000)\n",
      "Fri Apr 26 04:51:42 2019\n",
      "fit model\n"
     ]
    },
    {
     "name": "stderr",
     "output_type": "stream",
     "text": [
      "C:\\Users\\Rodolfo\\AppData\\Roaming\\Python\\Python36\\site-packages\\sklearn\\linear_model\\logistic.py:433: FutureWarning: Default solver will be changed to 'lbfgs' in 0.22. Specify a solver to silence this warning.\n",
      "  FutureWarning)\n",
      "C:\\Users\\Rodolfo\\AppData\\Roaming\\Python\\Python36\\site-packages\\sklearn\\linear_model\\logistic.py:460: FutureWarning: Default multi_class will be changed to 'auto' in 0.22. Specify the multi_class option to silence this warning.\n",
      "  \"this warning.\", FutureWarning)\n"
     ]
    },
    {
     "name": "stdout",
     "output_type": "stream",
     "text": [
      "Fri Apr 26 04:58:38 2019\n",
      "predict\n",
      "Fri Apr 26 04:58:43 2019\n",
      "6\n",
      "open files\n",
      "Fri Apr 26 04:58:43 2019\n",
      "arquivo a ser aberto:  6\n",
      "(53850, 3000)\n",
      "(5984, 3000)\n",
      "Fri Apr 26 04:58:43 2019\n",
      "fit model\n"
     ]
    },
    {
     "name": "stderr",
     "output_type": "stream",
     "text": [
      "C:\\Users\\Rodolfo\\AppData\\Roaming\\Python\\Python36\\site-packages\\sklearn\\linear_model\\logistic.py:433: FutureWarning: Default solver will be changed to 'lbfgs' in 0.22. Specify a solver to silence this warning.\n",
      "  FutureWarning)\n",
      "C:\\Users\\Rodolfo\\AppData\\Roaming\\Python\\Python36\\site-packages\\sklearn\\linear_model\\logistic.py:460: FutureWarning: Default multi_class will be changed to 'auto' in 0.22. Specify the multi_class option to silence this warning.\n",
      "  \"this warning.\", FutureWarning)\n"
     ]
    },
    {
     "name": "stdout",
     "output_type": "stream",
     "text": [
      "Fri Apr 26 05:05:54 2019\n",
      "predict\n",
      "Fri Apr 26 05:06:00 2019\n",
      "7\n",
      "open files\n",
      "Fri Apr 26 05:06:00 2019\n",
      "arquivo a ser aberto:  7\n",
      "(53851, 3000)\n",
      "(5983, 3000)\n",
      "Fri Apr 26 05:06:00 2019\n",
      "fit model\n"
     ]
    },
    {
     "name": "stderr",
     "output_type": "stream",
     "text": [
      "C:\\Users\\Rodolfo\\AppData\\Roaming\\Python\\Python36\\site-packages\\sklearn\\linear_model\\logistic.py:433: FutureWarning: Default solver will be changed to 'lbfgs' in 0.22. Specify a solver to silence this warning.\n",
      "  FutureWarning)\n",
      "C:\\Users\\Rodolfo\\AppData\\Roaming\\Python\\Python36\\site-packages\\sklearn\\linear_model\\logistic.py:460: FutureWarning: Default multi_class will be changed to 'auto' in 0.22. Specify the multi_class option to silence this warning.\n",
      "  \"this warning.\", FutureWarning)\n"
     ]
    },
    {
     "name": "stdout",
     "output_type": "stream",
     "text": [
      "Fri Apr 26 05:12:59 2019\n",
      "predict\n",
      "Fri Apr 26 05:13:02 2019\n",
      "8\n",
      "open files\n",
      "Fri Apr 26 05:13:02 2019\n",
      "arquivo a ser aberto:  8\n",
      "(53851, 3000)\n",
      "(5983, 3000)\n",
      "Fri Apr 26 05:13:02 2019\n",
      "fit model\n"
     ]
    },
    {
     "name": "stderr",
     "output_type": "stream",
     "text": [
      "C:\\Users\\Rodolfo\\AppData\\Roaming\\Python\\Python36\\site-packages\\sklearn\\linear_model\\logistic.py:433: FutureWarning: Default solver will be changed to 'lbfgs' in 0.22. Specify a solver to silence this warning.\n",
      "  FutureWarning)\n",
      "C:\\Users\\Rodolfo\\AppData\\Roaming\\Python\\Python36\\site-packages\\sklearn\\linear_model\\logistic.py:460: FutureWarning: Default multi_class will be changed to 'auto' in 0.22. Specify the multi_class option to silence this warning.\n",
      "  \"this warning.\", FutureWarning)\n"
     ]
    },
    {
     "name": "stdout",
     "output_type": "stream",
     "text": [
      "Fri Apr 26 05:20:05 2019\n",
      "predict\n",
      "Fri Apr 26 05:20:23 2019\n",
      "9\n",
      "open files\n",
      "Fri Apr 26 05:20:24 2019\n",
      "arquivo a ser aberto:  9\n",
      "(53853, 3000)\n",
      "(5981, 3000)\n",
      "Fri Apr 26 05:20:24 2019\n",
      "fit model\n"
     ]
    },
    {
     "name": "stderr",
     "output_type": "stream",
     "text": [
      "C:\\Users\\Rodolfo\\AppData\\Roaming\\Python\\Python36\\site-packages\\sklearn\\linear_model\\logistic.py:433: FutureWarning: Default solver will be changed to 'lbfgs' in 0.22. Specify a solver to silence this warning.\n",
      "  FutureWarning)\n",
      "C:\\Users\\Rodolfo\\AppData\\Roaming\\Python\\Python36\\site-packages\\sklearn\\linear_model\\logistic.py:460: FutureWarning: Default multi_class will be changed to 'auto' in 0.22. Specify the multi_class option to silence this warning.\n",
      "  \"this warning.\", FutureWarning)\n"
     ]
    },
    {
     "name": "stdout",
     "output_type": "stream",
     "text": [
      "Fri Apr 26 05:27:12 2019\n",
      "predict\n",
      "Fri Apr 26 05:27:17 2019\n",
      "10\n",
      "open files\n",
      "Fri Apr 26 05:27:18 2019\n",
      "arquivo a ser aberto:  10\n",
      "(53854, 3000)\n",
      "(5980, 3000)\n",
      "Fri Apr 26 05:27:18 2019\n",
      "fit model\n"
     ]
    },
    {
     "name": "stderr",
     "output_type": "stream",
     "text": [
      "C:\\Users\\Rodolfo\\AppData\\Roaming\\Python\\Python36\\site-packages\\sklearn\\linear_model\\logistic.py:433: FutureWarning: Default solver will be changed to 'lbfgs' in 0.22. Specify a solver to silence this warning.\n",
      "  FutureWarning)\n",
      "C:\\Users\\Rodolfo\\AppData\\Roaming\\Python\\Python36\\site-packages\\sklearn\\linear_model\\logistic.py:460: FutureWarning: Default multi_class will be changed to 'auto' in 0.22. Specify the multi_class option to silence this warning.\n",
      "  \"this warning.\", FutureWarning)\n"
     ]
    },
    {
     "name": "stdout",
     "output_type": "stream",
     "text": [
      "Fri Apr 26 05:34:35 2019\n",
      "predict\n",
      "Fri Apr 26 05:34:39 2019\n",
      "*** Parametro:  {'C': 15, 'penalty': 'l2'}\n",
      "1\n",
      "open files\n",
      "Fri Apr 26 05:34:40 2019\n",
      "arquivo a ser aberto:  1\n",
      "(53849, 3000)\n",
      "(5985, 3000)\n",
      "Fri Apr 26 05:34:40 2019\n",
      "fit model\n"
     ]
    },
    {
     "name": "stderr",
     "output_type": "stream",
     "text": [
      "C:\\Users\\Rodolfo\\AppData\\Roaming\\Python\\Python36\\site-packages\\sklearn\\linear_model\\logistic.py:433: FutureWarning: Default solver will be changed to 'lbfgs' in 0.22. Specify a solver to silence this warning.\n",
      "  FutureWarning)\n",
      "C:\\Users\\Rodolfo\\AppData\\Roaming\\Python\\Python36\\site-packages\\sklearn\\linear_model\\logistic.py:460: FutureWarning: Default multi_class will be changed to 'auto' in 0.22. Specify the multi_class option to silence this warning.\n",
      "  \"this warning.\", FutureWarning)\n"
     ]
    },
    {
     "name": "stdout",
     "output_type": "stream",
     "text": [
      "Fri Apr 26 05:38:17 2019\n",
      "predict\n",
      "Fri Apr 26 05:38:20 2019\n",
      "2\n",
      "open files\n",
      "Fri Apr 26 05:38:20 2019\n",
      "arquivo a ser aberto:  2\n",
      "(53849, 3000)\n",
      "(5985, 3000)\n",
      "Fri Apr 26 05:38:20 2019\n",
      "fit model\n"
     ]
    },
    {
     "name": "stderr",
     "output_type": "stream",
     "text": [
      "C:\\Users\\Rodolfo\\AppData\\Roaming\\Python\\Python36\\site-packages\\sklearn\\linear_model\\logistic.py:433: FutureWarning: Default solver will be changed to 'lbfgs' in 0.22. Specify a solver to silence this warning.\n",
      "  FutureWarning)\n",
      "C:\\Users\\Rodolfo\\AppData\\Roaming\\Python\\Python36\\site-packages\\sklearn\\linear_model\\logistic.py:460: FutureWarning: Default multi_class will be changed to 'auto' in 0.22. Specify the multi_class option to silence this warning.\n",
      "  \"this warning.\", FutureWarning)\n"
     ]
    },
    {
     "name": "stdout",
     "output_type": "stream",
     "text": [
      "Fri Apr 26 05:42:04 2019\n",
      "predict\n",
      "Fri Apr 26 05:42:07 2019\n",
      "3\n",
      "open files\n",
      "Fri Apr 26 05:42:07 2019\n",
      "arquivo a ser aberto:  3\n",
      "(53849, 3000)\n",
      "(5985, 3000)\n",
      "Fri Apr 26 05:42:07 2019\n",
      "fit model\n"
     ]
    },
    {
     "name": "stderr",
     "output_type": "stream",
     "text": [
      "C:\\Users\\Rodolfo\\AppData\\Roaming\\Python\\Python36\\site-packages\\sklearn\\linear_model\\logistic.py:433: FutureWarning: Default solver will be changed to 'lbfgs' in 0.22. Specify a solver to silence this warning.\n",
      "  FutureWarning)\n",
      "C:\\Users\\Rodolfo\\AppData\\Roaming\\Python\\Python36\\site-packages\\sklearn\\linear_model\\logistic.py:460: FutureWarning: Default multi_class will be changed to 'auto' in 0.22. Specify the multi_class option to silence this warning.\n",
      "  \"this warning.\", FutureWarning)\n"
     ]
    },
    {
     "name": "stdout",
     "output_type": "stream",
     "text": [
      "Fri Apr 26 05:45:39 2019\n",
      "predict\n",
      "Fri Apr 26 05:45:41 2019\n",
      "4\n",
      "open files\n",
      "Fri Apr 26 05:45:42 2019\n",
      "arquivo a ser aberto:  4\n",
      "(53850, 3000)\n",
      "(5984, 3000)\n",
      "Fri Apr 26 05:45:42 2019\n",
      "fit model\n"
     ]
    },
    {
     "name": "stderr",
     "output_type": "stream",
     "text": [
      "C:\\Users\\Rodolfo\\AppData\\Roaming\\Python\\Python36\\site-packages\\sklearn\\linear_model\\logistic.py:433: FutureWarning: Default solver will be changed to 'lbfgs' in 0.22. Specify a solver to silence this warning.\n",
      "  FutureWarning)\n",
      "C:\\Users\\Rodolfo\\AppData\\Roaming\\Python\\Python36\\site-packages\\sklearn\\linear_model\\logistic.py:460: FutureWarning: Default multi_class will be changed to 'auto' in 0.22. Specify the multi_class option to silence this warning.\n",
      "  \"this warning.\", FutureWarning)\n"
     ]
    },
    {
     "name": "stdout",
     "output_type": "stream",
     "text": [
      "Fri Apr 26 05:49:21 2019\n",
      "predict\n",
      "Fri Apr 26 05:49:23 2019\n",
      "5\n",
      "open files\n",
      "Fri Apr 26 05:49:24 2019\n",
      "arquivo a ser aberto:  5\n",
      "(53850, 3000)\n",
      "(5984, 3000)\n",
      "Fri Apr 26 05:49:24 2019\n",
      "fit model\n"
     ]
    },
    {
     "name": "stderr",
     "output_type": "stream",
     "text": [
      "C:\\Users\\Rodolfo\\AppData\\Roaming\\Python\\Python36\\site-packages\\sklearn\\linear_model\\logistic.py:433: FutureWarning: Default solver will be changed to 'lbfgs' in 0.22. Specify a solver to silence this warning.\n",
      "  FutureWarning)\n",
      "C:\\Users\\Rodolfo\\AppData\\Roaming\\Python\\Python36\\site-packages\\sklearn\\linear_model\\logistic.py:460: FutureWarning: Default multi_class will be changed to 'auto' in 0.22. Specify the multi_class option to silence this warning.\n",
      "  \"this warning.\", FutureWarning)\n"
     ]
    },
    {
     "name": "stdout",
     "output_type": "stream",
     "text": [
      "Fri Apr 26 05:52:58 2019\n",
      "predict\n",
      "Fri Apr 26 05:53:01 2019\n",
      "6\n",
      "open files\n",
      "Fri Apr 26 05:53:01 2019\n",
      "arquivo a ser aberto:  6\n",
      "(53850, 3000)\n",
      "(5984, 3000)\n",
      "Fri Apr 26 05:53:01 2019\n",
      "fit model\n"
     ]
    },
    {
     "name": "stderr",
     "output_type": "stream",
     "text": [
      "C:\\Users\\Rodolfo\\AppData\\Roaming\\Python\\Python36\\site-packages\\sklearn\\linear_model\\logistic.py:433: FutureWarning: Default solver will be changed to 'lbfgs' in 0.22. Specify a solver to silence this warning.\n",
      "  FutureWarning)\n",
      "C:\\Users\\Rodolfo\\AppData\\Roaming\\Python\\Python36\\site-packages\\sklearn\\linear_model\\logistic.py:460: FutureWarning: Default multi_class will be changed to 'auto' in 0.22. Specify the multi_class option to silence this warning.\n",
      "  \"this warning.\", FutureWarning)\n"
     ]
    },
    {
     "name": "stdout",
     "output_type": "stream",
     "text": [
      "Fri Apr 26 05:56:37 2019\n",
      "predict\n",
      "Fri Apr 26 05:56:39 2019\n",
      "7\n",
      "open files\n",
      "Fri Apr 26 05:56:40 2019\n",
      "arquivo a ser aberto:  7\n",
      "(53851, 3000)\n",
      "(5983, 3000)\n",
      "Fri Apr 26 05:56:40 2019\n",
      "fit model\n"
     ]
    },
    {
     "name": "stderr",
     "output_type": "stream",
     "text": [
      "C:\\Users\\Rodolfo\\AppData\\Roaming\\Python\\Python36\\site-packages\\sklearn\\linear_model\\logistic.py:433: FutureWarning: Default solver will be changed to 'lbfgs' in 0.22. Specify a solver to silence this warning.\n",
      "  FutureWarning)\n",
      "C:\\Users\\Rodolfo\\AppData\\Roaming\\Python\\Python36\\site-packages\\sklearn\\linear_model\\logistic.py:460: FutureWarning: Default multi_class will be changed to 'auto' in 0.22. Specify the multi_class option to silence this warning.\n",
      "  \"this warning.\", FutureWarning)\n"
     ]
    },
    {
     "name": "stdout",
     "output_type": "stream",
     "text": [
      "Fri Apr 26 06:00:15 2019\n",
      "predict\n",
      "Fri Apr 26 06:00:17 2019\n",
      "8\n",
      "open files\n",
      "Fri Apr 26 06:00:17 2019\n",
      "arquivo a ser aberto:  8\n",
      "(53851, 3000)\n",
      "(5983, 3000)\n",
      "Fri Apr 26 06:00:17 2019\n",
      "fit model\n"
     ]
    },
    {
     "name": "stderr",
     "output_type": "stream",
     "text": [
      "C:\\Users\\Rodolfo\\AppData\\Roaming\\Python\\Python36\\site-packages\\sklearn\\linear_model\\logistic.py:433: FutureWarning: Default solver will be changed to 'lbfgs' in 0.22. Specify a solver to silence this warning.\n",
      "  FutureWarning)\n",
      "C:\\Users\\Rodolfo\\AppData\\Roaming\\Python\\Python36\\site-packages\\sklearn\\linear_model\\logistic.py:460: FutureWarning: Default multi_class will be changed to 'auto' in 0.22. Specify the multi_class option to silence this warning.\n",
      "  \"this warning.\", FutureWarning)\n"
     ]
    },
    {
     "name": "stdout",
     "output_type": "stream",
     "text": [
      "Fri Apr 26 06:03:56 2019\n",
      "predict\n",
      "Fri Apr 26 06:03:58 2019\n",
      "9\n",
      "open files\n",
      "Fri Apr 26 06:03:58 2019\n",
      "arquivo a ser aberto:  9\n",
      "(53853, 3000)\n",
      "(5981, 3000)\n",
      "Fri Apr 26 06:03:58 2019\n",
      "fit model\n"
     ]
    },
    {
     "name": "stderr",
     "output_type": "stream",
     "text": [
      "C:\\Users\\Rodolfo\\AppData\\Roaming\\Python\\Python36\\site-packages\\sklearn\\linear_model\\logistic.py:433: FutureWarning: Default solver will be changed to 'lbfgs' in 0.22. Specify a solver to silence this warning.\n",
      "  FutureWarning)\n",
      "C:\\Users\\Rodolfo\\AppData\\Roaming\\Python\\Python36\\site-packages\\sklearn\\linear_model\\logistic.py:460: FutureWarning: Default multi_class will be changed to 'auto' in 0.22. Specify the multi_class option to silence this warning.\n",
      "  \"this warning.\", FutureWarning)\n"
     ]
    },
    {
     "name": "stdout",
     "output_type": "stream",
     "text": [
      "Fri Apr 26 06:07:38 2019\n",
      "predict\n",
      "Fri Apr 26 06:07:40 2019\n",
      "10\n",
      "open files\n",
      "Fri Apr 26 06:07:40 2019\n",
      "arquivo a ser aberto:  10\n",
      "(53854, 3000)\n",
      "(5980, 3000)\n",
      "Fri Apr 26 06:07:40 2019\n",
      "fit model\n"
     ]
    },
    {
     "name": "stderr",
     "output_type": "stream",
     "text": [
      "C:\\Users\\Rodolfo\\AppData\\Roaming\\Python\\Python36\\site-packages\\sklearn\\linear_model\\logistic.py:433: FutureWarning: Default solver will be changed to 'lbfgs' in 0.22. Specify a solver to silence this warning.\n",
      "  FutureWarning)\n",
      "C:\\Users\\Rodolfo\\AppData\\Roaming\\Python\\Python36\\site-packages\\sklearn\\linear_model\\logistic.py:460: FutureWarning: Default multi_class will be changed to 'auto' in 0.22. Specify the multi_class option to silence this warning.\n",
      "  \"this warning.\", FutureWarning)\n"
     ]
    },
    {
     "name": "stdout",
     "output_type": "stream",
     "text": [
      "Fri Apr 26 06:11:14 2019\n",
      "predict\n",
      "Fri Apr 26 06:11:16 2019\n",
      "*** Parametro:  {'C': 20, 'penalty': 'l1'}\n",
      "1\n",
      "open files\n",
      "Fri Apr 26 06:11:17 2019\n",
      "arquivo a ser aberto:  1\n",
      "(53849, 3000)\n",
      "(5985, 3000)\n",
      "Fri Apr 26 06:11:17 2019\n",
      "fit model\n"
     ]
    },
    {
     "name": "stderr",
     "output_type": "stream",
     "text": [
      "C:\\Users\\Rodolfo\\AppData\\Roaming\\Python\\Python36\\site-packages\\sklearn\\linear_model\\logistic.py:433: FutureWarning: Default solver will be changed to 'lbfgs' in 0.22. Specify a solver to silence this warning.\n",
      "  FutureWarning)\n",
      "C:\\Users\\Rodolfo\\AppData\\Roaming\\Python\\Python36\\site-packages\\sklearn\\linear_model\\logistic.py:460: FutureWarning: Default multi_class will be changed to 'auto' in 0.22. Specify the multi_class option to silence this warning.\n",
      "  \"this warning.\", FutureWarning)\n"
     ]
    },
    {
     "name": "stdout",
     "output_type": "stream",
     "text": [
      "Fri Apr 26 06:19:31 2019\n",
      "predict\n",
      "Fri Apr 26 06:19:51 2019\n",
      "2\n",
      "open files\n",
      "Fri Apr 26 06:19:52 2019\n",
      "arquivo a ser aberto:  2\n",
      "(53849, 3000)\n",
      "(5985, 3000)\n",
      "Fri Apr 26 06:19:52 2019\n",
      "fit model\n"
     ]
    },
    {
     "name": "stderr",
     "output_type": "stream",
     "text": [
      "C:\\Users\\Rodolfo\\AppData\\Roaming\\Python\\Python36\\site-packages\\sklearn\\linear_model\\logistic.py:433: FutureWarning: Default solver will be changed to 'lbfgs' in 0.22. Specify a solver to silence this warning.\n",
      "  FutureWarning)\n",
      "C:\\Users\\Rodolfo\\AppData\\Roaming\\Python\\Python36\\site-packages\\sklearn\\linear_model\\logistic.py:460: FutureWarning: Default multi_class will be changed to 'auto' in 0.22. Specify the multi_class option to silence this warning.\n",
      "  \"this warning.\", FutureWarning)\n"
     ]
    },
    {
     "name": "stdout",
     "output_type": "stream",
     "text": [
      "Fri Apr 26 06:28:10 2019\n",
      "predict\n",
      "Fri Apr 26 06:28:22 2019\n",
      "3\n",
      "open files\n",
      "Fri Apr 26 06:28:22 2019\n",
      "arquivo a ser aberto:  3\n",
      "(53849, 3000)\n",
      "(5985, 3000)\n",
      "Fri Apr 26 06:28:22 2019\n",
      "fit model\n"
     ]
    },
    {
     "name": "stderr",
     "output_type": "stream",
     "text": [
      "C:\\Users\\Rodolfo\\AppData\\Roaming\\Python\\Python36\\site-packages\\sklearn\\linear_model\\logistic.py:433: FutureWarning: Default solver will be changed to 'lbfgs' in 0.22. Specify a solver to silence this warning.\n",
      "  FutureWarning)\n",
      "C:\\Users\\Rodolfo\\AppData\\Roaming\\Python\\Python36\\site-packages\\sklearn\\linear_model\\logistic.py:460: FutureWarning: Default multi_class will be changed to 'auto' in 0.22. Specify the multi_class option to silence this warning.\n",
      "  \"this warning.\", FutureWarning)\n"
     ]
    },
    {
     "name": "stdout",
     "output_type": "stream",
     "text": [
      "Fri Apr 26 06:36:41 2019\n",
      "predict\n",
      "Fri Apr 26 06:36:58 2019\n",
      "4\n",
      "open files\n",
      "Fri Apr 26 06:36:58 2019\n",
      "arquivo a ser aberto:  4\n",
      "(53850, 3000)\n",
      "(5984, 3000)\n",
      "Fri Apr 26 06:36:58 2019\n",
      "fit model\n"
     ]
    },
    {
     "name": "stderr",
     "output_type": "stream",
     "text": [
      "C:\\Users\\Rodolfo\\AppData\\Roaming\\Python\\Python36\\site-packages\\sklearn\\linear_model\\logistic.py:433: FutureWarning: Default solver will be changed to 'lbfgs' in 0.22. Specify a solver to silence this warning.\n",
      "  FutureWarning)\n",
      "C:\\Users\\Rodolfo\\AppData\\Roaming\\Python\\Python36\\site-packages\\sklearn\\linear_model\\logistic.py:460: FutureWarning: Default multi_class will be changed to 'auto' in 0.22. Specify the multi_class option to silence this warning.\n",
      "  \"this warning.\", FutureWarning)\n"
     ]
    },
    {
     "name": "stdout",
     "output_type": "stream",
     "text": [
      "Fri Apr 26 06:46:18 2019\n",
      "predict\n",
      "Fri Apr 26 06:46:25 2019\n",
      "5\n",
      "open files\n",
      "Fri Apr 26 06:46:26 2019\n",
      "arquivo a ser aberto:  5\n",
      "(53850, 3000)\n",
      "(5984, 3000)\n",
      "Fri Apr 26 06:46:26 2019\n",
      "fit model\n"
     ]
    },
    {
     "name": "stderr",
     "output_type": "stream",
     "text": [
      "C:\\Users\\Rodolfo\\AppData\\Roaming\\Python\\Python36\\site-packages\\sklearn\\linear_model\\logistic.py:433: FutureWarning: Default solver will be changed to 'lbfgs' in 0.22. Specify a solver to silence this warning.\n",
      "  FutureWarning)\n",
      "C:\\Users\\Rodolfo\\AppData\\Roaming\\Python\\Python36\\site-packages\\sklearn\\linear_model\\logistic.py:460: FutureWarning: Default multi_class will be changed to 'auto' in 0.22. Specify the multi_class option to silence this warning.\n",
      "  \"this warning.\", FutureWarning)\n"
     ]
    },
    {
     "name": "stdout",
     "output_type": "stream",
     "text": [
      "Fri Apr 26 06:55:03 2019\n",
      "predict\n",
      "Fri Apr 26 06:55:07 2019\n",
      "6\n",
      "open files\n",
      "Fri Apr 26 06:55:08 2019\n",
      "arquivo a ser aberto:  6\n",
      "(53850, 3000)\n",
      "(5984, 3000)\n",
      "Fri Apr 26 06:55:08 2019\n",
      "fit model\n"
     ]
    },
    {
     "name": "stderr",
     "output_type": "stream",
     "text": [
      "C:\\Users\\Rodolfo\\AppData\\Roaming\\Python\\Python36\\site-packages\\sklearn\\linear_model\\logistic.py:433: FutureWarning: Default solver will be changed to 'lbfgs' in 0.22. Specify a solver to silence this warning.\n",
      "  FutureWarning)\n",
      "C:\\Users\\Rodolfo\\AppData\\Roaming\\Python\\Python36\\site-packages\\sklearn\\linear_model\\logistic.py:460: FutureWarning: Default multi_class will be changed to 'auto' in 0.22. Specify the multi_class option to silence this warning.\n",
      "  \"this warning.\", FutureWarning)\n"
     ]
    },
    {
     "name": "stdout",
     "output_type": "stream",
     "text": [
      "Fri Apr 26 07:03:43 2019\n",
      "predict\n",
      "Fri Apr 26 07:03:47 2019\n",
      "7\n",
      "open files\n",
      "Fri Apr 26 07:03:47 2019\n",
      "arquivo a ser aberto:  7\n",
      "(53851, 3000)\n",
      "(5983, 3000)\n",
      "Fri Apr 26 07:03:47 2019\n",
      "fit model\n"
     ]
    },
    {
     "name": "stderr",
     "output_type": "stream",
     "text": [
      "C:\\Users\\Rodolfo\\AppData\\Roaming\\Python\\Python36\\site-packages\\sklearn\\linear_model\\logistic.py:433: FutureWarning: Default solver will be changed to 'lbfgs' in 0.22. Specify a solver to silence this warning.\n",
      "  FutureWarning)\n",
      "C:\\Users\\Rodolfo\\AppData\\Roaming\\Python\\Python36\\site-packages\\sklearn\\linear_model\\logistic.py:460: FutureWarning: Default multi_class will be changed to 'auto' in 0.22. Specify the multi_class option to silence this warning.\n",
      "  \"this warning.\", FutureWarning)\n"
     ]
    },
    {
     "name": "stdout",
     "output_type": "stream",
     "text": [
      "Fri Apr 26 07:11:51 2019\n",
      "predict\n",
      "Fri Apr 26 07:11:53 2019\n",
      "8\n",
      "open files\n",
      "Fri Apr 26 07:11:54 2019\n",
      "arquivo a ser aberto:  8\n",
      "(53851, 3000)\n",
      "(5983, 3000)\n",
      "Fri Apr 26 07:11:54 2019\n",
      "fit model\n"
     ]
    },
    {
     "name": "stderr",
     "output_type": "stream",
     "text": [
      "C:\\Users\\Rodolfo\\AppData\\Roaming\\Python\\Python36\\site-packages\\sklearn\\linear_model\\logistic.py:433: FutureWarning: Default solver will be changed to 'lbfgs' in 0.22. Specify a solver to silence this warning.\n",
      "  FutureWarning)\n",
      "C:\\Users\\Rodolfo\\AppData\\Roaming\\Python\\Python36\\site-packages\\sklearn\\linear_model\\logistic.py:460: FutureWarning: Default multi_class will be changed to 'auto' in 0.22. Specify the multi_class option to silence this warning.\n",
      "  \"this warning.\", FutureWarning)\n"
     ]
    },
    {
     "name": "stdout",
     "output_type": "stream",
     "text": [
      "Fri Apr 26 07:20:08 2019\n",
      "predict\n",
      "Fri Apr 26 07:20:27 2019\n",
      "9\n",
      "open files\n",
      "Fri Apr 26 07:20:27 2019\n",
      "arquivo a ser aberto:  9\n",
      "(53853, 3000)\n",
      "(5981, 3000)\n",
      "Fri Apr 26 07:20:27 2019\n",
      "fit model\n"
     ]
    },
    {
     "name": "stderr",
     "output_type": "stream",
     "text": [
      "C:\\Users\\Rodolfo\\AppData\\Roaming\\Python\\Python36\\site-packages\\sklearn\\linear_model\\logistic.py:433: FutureWarning: Default solver will be changed to 'lbfgs' in 0.22. Specify a solver to silence this warning.\n",
      "  FutureWarning)\n",
      "C:\\Users\\Rodolfo\\AppData\\Roaming\\Python\\Python36\\site-packages\\sklearn\\linear_model\\logistic.py:460: FutureWarning: Default multi_class will be changed to 'auto' in 0.22. Specify the multi_class option to silence this warning.\n",
      "  \"this warning.\", FutureWarning)\n"
     ]
    },
    {
     "name": "stdout",
     "output_type": "stream",
     "text": [
      "Fri Apr 26 07:29:04 2019\n",
      "predict\n",
      "Fri Apr 26 07:29:10 2019\n",
      "10\n",
      "open files\n",
      "Fri Apr 26 07:29:10 2019\n",
      "arquivo a ser aberto:  10\n",
      "(53854, 3000)\n",
      "(5980, 3000)\n",
      "Fri Apr 26 07:29:10 2019\n",
      "fit model\n"
     ]
    },
    {
     "name": "stderr",
     "output_type": "stream",
     "text": [
      "C:\\Users\\Rodolfo\\AppData\\Roaming\\Python\\Python36\\site-packages\\sklearn\\linear_model\\logistic.py:433: FutureWarning: Default solver will be changed to 'lbfgs' in 0.22. Specify a solver to silence this warning.\n",
      "  FutureWarning)\n",
      "C:\\Users\\Rodolfo\\AppData\\Roaming\\Python\\Python36\\site-packages\\sklearn\\linear_model\\logistic.py:460: FutureWarning: Default multi_class will be changed to 'auto' in 0.22. Specify the multi_class option to silence this warning.\n",
      "  \"this warning.\", FutureWarning)\n"
     ]
    },
    {
     "name": "stdout",
     "output_type": "stream",
     "text": [
      "Fri Apr 26 07:38:12 2019\n",
      "predict\n",
      "Fri Apr 26 07:38:15 2019\n",
      "*** Parametro:  {'C': 20, 'penalty': 'l2'}\n",
      "1\n",
      "open files\n",
      "Fri Apr 26 07:38:16 2019\n",
      "arquivo a ser aberto:  1\n",
      "(53849, 3000)\n",
      "(5985, 3000)\n",
      "Fri Apr 26 07:38:16 2019\n",
      "fit model\n"
     ]
    },
    {
     "name": "stderr",
     "output_type": "stream",
     "text": [
      "C:\\Users\\Rodolfo\\AppData\\Roaming\\Python\\Python36\\site-packages\\sklearn\\linear_model\\logistic.py:433: FutureWarning: Default solver will be changed to 'lbfgs' in 0.22. Specify a solver to silence this warning.\n",
      "  FutureWarning)\n",
      "C:\\Users\\Rodolfo\\AppData\\Roaming\\Python\\Python36\\site-packages\\sklearn\\linear_model\\logistic.py:460: FutureWarning: Default multi_class will be changed to 'auto' in 0.22. Specify the multi_class option to silence this warning.\n",
      "  \"this warning.\", FutureWarning)\n"
     ]
    },
    {
     "name": "stdout",
     "output_type": "stream",
     "text": [
      "Fri Apr 26 07:41:56 2019\n",
      "predict\n",
      "Fri Apr 26 07:41:58 2019\n",
      "2\n",
      "open files\n",
      "Fri Apr 26 07:41:58 2019\n",
      "arquivo a ser aberto:  2\n",
      "(53849, 3000)\n",
      "(5985, 3000)\n",
      "Fri Apr 26 07:41:58 2019\n",
      "fit model\n"
     ]
    },
    {
     "name": "stderr",
     "output_type": "stream",
     "text": [
      "C:\\Users\\Rodolfo\\AppData\\Roaming\\Python\\Python36\\site-packages\\sklearn\\linear_model\\logistic.py:433: FutureWarning: Default solver will be changed to 'lbfgs' in 0.22. Specify a solver to silence this warning.\n",
      "  FutureWarning)\n",
      "C:\\Users\\Rodolfo\\AppData\\Roaming\\Python\\Python36\\site-packages\\sklearn\\linear_model\\logistic.py:460: FutureWarning: Default multi_class will be changed to 'auto' in 0.22. Specify the multi_class option to silence this warning.\n",
      "  \"this warning.\", FutureWarning)\n"
     ]
    },
    {
     "name": "stdout",
     "output_type": "stream",
     "text": [
      "Fri Apr 26 07:45:49 2019\n",
      "predict\n",
      "Fri Apr 26 07:45:52 2019\n",
      "3\n",
      "open files\n",
      "Fri Apr 26 07:45:52 2019\n",
      "arquivo a ser aberto:  3\n",
      "(53849, 3000)\n",
      "(5985, 3000)\n",
      "Fri Apr 26 07:45:52 2019\n",
      "fit model\n"
     ]
    },
    {
     "name": "stderr",
     "output_type": "stream",
     "text": [
      "C:\\Users\\Rodolfo\\AppData\\Roaming\\Python\\Python36\\site-packages\\sklearn\\linear_model\\logistic.py:433: FutureWarning: Default solver will be changed to 'lbfgs' in 0.22. Specify a solver to silence this warning.\n",
      "  FutureWarning)\n",
      "C:\\Users\\Rodolfo\\AppData\\Roaming\\Python\\Python36\\site-packages\\sklearn\\linear_model\\logistic.py:460: FutureWarning: Default multi_class will be changed to 'auto' in 0.22. Specify the multi_class option to silence this warning.\n",
      "  \"this warning.\", FutureWarning)\n"
     ]
    },
    {
     "name": "stdout",
     "output_type": "stream",
     "text": [
      "Fri Apr 26 07:49:33 2019\n",
      "predict\n",
      "Fri Apr 26 07:49:35 2019\n",
      "4\n",
      "open files\n",
      "Fri Apr 26 07:49:36 2019\n",
      "arquivo a ser aberto:  4\n",
      "(53850, 3000)\n",
      "(5984, 3000)\n",
      "Fri Apr 26 07:49:36 2019\n",
      "fit model\n"
     ]
    },
    {
     "name": "stderr",
     "output_type": "stream",
     "text": [
      "C:\\Users\\Rodolfo\\AppData\\Roaming\\Python\\Python36\\site-packages\\sklearn\\linear_model\\logistic.py:433: FutureWarning: Default solver will be changed to 'lbfgs' in 0.22. Specify a solver to silence this warning.\n",
      "  FutureWarning)\n",
      "C:\\Users\\Rodolfo\\AppData\\Roaming\\Python\\Python36\\site-packages\\sklearn\\linear_model\\logistic.py:460: FutureWarning: Default multi_class will be changed to 'auto' in 0.22. Specify the multi_class option to silence this warning.\n",
      "  \"this warning.\", FutureWarning)\n"
     ]
    },
    {
     "name": "stdout",
     "output_type": "stream",
     "text": [
      "Fri Apr 26 07:53:20 2019\n",
      "predict\n",
      "Fri Apr 26 07:53:22 2019\n",
      "5\n",
      "open files\n",
      "Fri Apr 26 07:53:23 2019\n",
      "arquivo a ser aberto:  5\n",
      "(53850, 3000)\n",
      "(5984, 3000)\n",
      "Fri Apr 26 07:53:23 2019\n",
      "fit model\n"
     ]
    },
    {
     "name": "stderr",
     "output_type": "stream",
     "text": [
      "C:\\Users\\Rodolfo\\AppData\\Roaming\\Python\\Python36\\site-packages\\sklearn\\linear_model\\logistic.py:433: FutureWarning: Default solver will be changed to 'lbfgs' in 0.22. Specify a solver to silence this warning.\n",
      "  FutureWarning)\n",
      "C:\\Users\\Rodolfo\\AppData\\Roaming\\Python\\Python36\\site-packages\\sklearn\\linear_model\\logistic.py:460: FutureWarning: Default multi_class will be changed to 'auto' in 0.22. Specify the multi_class option to silence this warning.\n",
      "  \"this warning.\", FutureWarning)\n"
     ]
    },
    {
     "name": "stdout",
     "output_type": "stream",
     "text": [
      "Fri Apr 26 07:57:21 2019\n",
      "predict\n",
      "Fri Apr 26 07:57:23 2019\n",
      "6\n",
      "open files\n",
      "Fri Apr 26 07:57:24 2019\n",
      "arquivo a ser aberto:  6\n",
      "(53850, 3000)\n",
      "(5984, 3000)\n",
      "Fri Apr 26 07:57:24 2019\n",
      "fit model\n"
     ]
    },
    {
     "name": "stderr",
     "output_type": "stream",
     "text": [
      "C:\\Users\\Rodolfo\\AppData\\Roaming\\Python\\Python36\\site-packages\\sklearn\\linear_model\\logistic.py:433: FutureWarning: Default solver will be changed to 'lbfgs' in 0.22. Specify a solver to silence this warning.\n",
      "  FutureWarning)\n",
      "C:\\Users\\Rodolfo\\AppData\\Roaming\\Python\\Python36\\site-packages\\sklearn\\linear_model\\logistic.py:460: FutureWarning: Default multi_class will be changed to 'auto' in 0.22. Specify the multi_class option to silence this warning.\n",
      "  \"this warning.\", FutureWarning)\n"
     ]
    },
    {
     "name": "stdout",
     "output_type": "stream",
     "text": [
      "Fri Apr 26 08:01:03 2019\n",
      "predict\n",
      "Fri Apr 26 08:01:05 2019\n",
      "7\n",
      "open files\n",
      "Fri Apr 26 08:01:05 2019\n",
      "arquivo a ser aberto:  7\n",
      "(53851, 3000)\n",
      "(5983, 3000)\n",
      "Fri Apr 26 08:01:05 2019\n",
      "fit model\n"
     ]
    },
    {
     "name": "stderr",
     "output_type": "stream",
     "text": [
      "C:\\Users\\Rodolfo\\AppData\\Roaming\\Python\\Python36\\site-packages\\sklearn\\linear_model\\logistic.py:433: FutureWarning: Default solver will be changed to 'lbfgs' in 0.22. Specify a solver to silence this warning.\n",
      "  FutureWarning)\n",
      "C:\\Users\\Rodolfo\\AppData\\Roaming\\Python\\Python36\\site-packages\\sklearn\\linear_model\\logistic.py:460: FutureWarning: Default multi_class will be changed to 'auto' in 0.22. Specify the multi_class option to silence this warning.\n",
      "  \"this warning.\", FutureWarning)\n"
     ]
    },
    {
     "name": "stdout",
     "output_type": "stream",
     "text": [
      "Fri Apr 26 08:05:00 2019\n",
      "predict\n",
      "Fri Apr 26 08:05:02 2019\n",
      "8\n",
      "open files\n",
      "Fri Apr 26 08:05:02 2019\n",
      "arquivo a ser aberto:  8\n",
      "(53851, 3000)\n",
      "(5983, 3000)\n",
      "Fri Apr 26 08:05:02 2019\n",
      "fit model\n"
     ]
    },
    {
     "name": "stderr",
     "output_type": "stream",
     "text": [
      "C:\\Users\\Rodolfo\\AppData\\Roaming\\Python\\Python36\\site-packages\\sklearn\\linear_model\\logistic.py:433: FutureWarning: Default solver will be changed to 'lbfgs' in 0.22. Specify a solver to silence this warning.\n",
      "  FutureWarning)\n",
      "C:\\Users\\Rodolfo\\AppData\\Roaming\\Python\\Python36\\site-packages\\sklearn\\linear_model\\logistic.py:460: FutureWarning: Default multi_class will be changed to 'auto' in 0.22. Specify the multi_class option to silence this warning.\n",
      "  \"this warning.\", FutureWarning)\n"
     ]
    },
    {
     "name": "stdout",
     "output_type": "stream",
     "text": [
      "Fri Apr 26 08:08:56 2019\n",
      "predict\n",
      "Fri Apr 26 08:09:00 2019\n",
      "9\n",
      "open files\n",
      "Fri Apr 26 08:09:01 2019\n",
      "arquivo a ser aberto:  9\n",
      "(53853, 3000)\n",
      "(5981, 3000)\n",
      "Fri Apr 26 08:09:01 2019\n",
      "fit model\n"
     ]
    },
    {
     "name": "stderr",
     "output_type": "stream",
     "text": [
      "C:\\Users\\Rodolfo\\AppData\\Roaming\\Python\\Python36\\site-packages\\sklearn\\linear_model\\logistic.py:433: FutureWarning: Default solver will be changed to 'lbfgs' in 0.22. Specify a solver to silence this warning.\n",
      "  FutureWarning)\n",
      "C:\\Users\\Rodolfo\\AppData\\Roaming\\Python\\Python36\\site-packages\\sklearn\\linear_model\\logistic.py:460: FutureWarning: Default multi_class will be changed to 'auto' in 0.22. Specify the multi_class option to silence this warning.\n",
      "  \"this warning.\", FutureWarning)\n"
     ]
    },
    {
     "name": "stdout",
     "output_type": "stream",
     "text": [
      "Fri Apr 26 08:12:52 2019\n",
      "predict\n",
      "Fri Apr 26 08:12:54 2019\n",
      "10\n",
      "open files\n",
      "Fri Apr 26 08:12:55 2019\n",
      "arquivo a ser aberto:  10\n",
      "(53854, 3000)\n",
      "(5980, 3000)\n",
      "Fri Apr 26 08:12:55 2019\n",
      "fit model\n"
     ]
    },
    {
     "name": "stderr",
     "output_type": "stream",
     "text": [
      "C:\\Users\\Rodolfo\\AppData\\Roaming\\Python\\Python36\\site-packages\\sklearn\\linear_model\\logistic.py:433: FutureWarning: Default solver will be changed to 'lbfgs' in 0.22. Specify a solver to silence this warning.\n",
      "  FutureWarning)\n",
      "C:\\Users\\Rodolfo\\AppData\\Roaming\\Python\\Python36\\site-packages\\sklearn\\linear_model\\logistic.py:460: FutureWarning: Default multi_class will be changed to 'auto' in 0.22. Specify the multi_class option to silence this warning.\n",
      "  \"this warning.\", FutureWarning)\n"
     ]
    },
    {
     "name": "stdout",
     "output_type": "stream",
     "text": [
      "Fri Apr 26 08:16:36 2019\n",
      "predict\n",
      "Fri Apr 26 08:16:38 2019\n",
      "modelo:  svm\n",
      "[{'C': 0.1, 'kernel': 'linear'}, {'C': 0.1, 'kernel': 'rbf'}, {'C': 1, 'kernel': 'linear'}, {'C': 1, 'kernel': 'rbf'}, {'C': 5, 'kernel': 'linear'}, {'C': 5, 'kernel': 'rbf'}, {'C': 10, 'kernel': 'linear'}, {'C': 10, 'kernel': 'rbf'}, {'C': 15, 'kernel': 'linear'}, {'C': 15, 'kernel': 'rbf'}, {'C': 20, 'kernel': 'linear'}, {'C': 20, 'kernel': 'rbf'}]\n",
      "*** Parametro:  {'C': 0.1, 'kernel': 'linear'}\n",
      "1\n",
      "open files\n",
      "Fri Apr 26 08:16:39 2019\n",
      "arquivo a ser aberto:  1\n",
      "(53849, 3000)\n",
      "(5985, 3000)\n",
      "Fri Apr 26 08:16:39 2019\n",
      "fit model\n",
      "Fri Apr 26 08:40:33 2019\n",
      "predict\n",
      "Fri Apr 26 09:04:40 2019\n",
      "2\n",
      "open files\n",
      "Fri Apr 26 09:04:40 2019\n",
      "arquivo a ser aberto:  2\n",
      "(53849, 3000)\n",
      "(5985, 3000)\n",
      "Fri Apr 26 09:04:40 2019\n",
      "fit model\n"
     ]
    }
   ],
   "source": [
    "results = pd.DataFrame()\n",
    "normalizer = MinMaxScaler(copy=False)\n",
    "\n",
    "for name, model, parameters in models:\n",
    "    print('modelo: ', name)\n",
    "    print(parameters)\n",
    "    \n",
    "    for parameter in parameters:\n",
    "        print('*** Parametro: ', parameter)\n",
    "        \n",
    "        #set parameter in the estimator\n",
    "        model.set_params(**parameter)\n",
    "        \n",
    "\n",
    "        #lista de metricas utilizadas para cada configuração experimental\n",
    "        accuracy_train = []\n",
    "        accuracy_test = []\n",
    "        precision_macro_train = []\n",
    "        precision_macro_test = []\n",
    "        precision_micro_train = []\n",
    "        precision_micro_test = []\n",
    "        recall_macro_train = []\n",
    "        recall_macro_test = []\n",
    "        recall_micro_train = []\n",
    "        recall_micro_test = []\n",
    "        f1_macro_train = []\n",
    "        f1_macro_test = []\n",
    "        f1_micro_train = []\n",
    "        f1_micro_test = []\n",
    "        classification_report_train = []\n",
    "        classification_report_test = []\n",
    "        conf_matrix_train = []\n",
    "        conf_matrix_test = []        \n",
    "        \n",
    "        #index para abrir os arquivos .csv que estão salvos pós tfidf e svd\n",
    "        for index in [1, 2, 3, 4, 5, 6, 7, 8, 9, 10]:\n",
    "            print(index)\n",
    "            \n",
    "            #open file\n",
    "            print('open files')\n",
    "            import time\n",
    "            time = time.asctime()\n",
    "            print(time)\n",
    "            \n",
    "            X_train, X_test, y_train, y_test = return_data(index)\n",
    "            \n",
    "            print(X_train.shape)\n",
    "            print(X_test.shape)\n",
    "            \n",
    "            \n",
    "            #Normalização obrigatoria apenas para metodos que nao aceitam valores negativos (MinMaxScaler padronização)\n",
    "            if name == 'MultinomialNB' or name=='ComplementNB':\n",
    "                print(\"antes do normalizer\")\n",
    "                X_train = normalizer.fit_transform(X_train)\n",
    "                X_test = normalizer.transform(X_test)\n",
    "                print('normalizer: ', X_train.shape)\n",
    "                print('normalizer: ', X_test.shape)\n",
    "\n",
    "\n",
    "\n",
    "            #fit\n",
    "            import time\n",
    "            time = time.asctime()\n",
    "            print(time)\n",
    "            print('fit model')\n",
    "            model.fit(X_train, y_train)\n",
    "            \n",
    "            \n",
    "            import time\n",
    "            time = time.asctime()\n",
    "            print(time)\n",
    "            print('predict')\n",
    "            #predict train\n",
    "            y_pred_train = model.predict(X_train)\n",
    "            #predict test\n",
    "            y_pred_test = model.predict(X_test)\n",
    "            import time\n",
    "            time = time.asctime()\n",
    "            print(time)\n",
    "            \n",
    "            #append nas listas para cada métrica(y_true, y_pred)\n",
    "            accuracy_train.append(accuracy_score(y_train, y_pred_train))\n",
    "            accuracy_test.append(accuracy_score(y_test, y_pred_test))\n",
    "            precision_macro_train.append(precision_score(y_train, y_pred_train, average='macro'))\n",
    "            precision_macro_test.append(precision_score(y_test, y_pred_test, average='macro'))\n",
    "            precision_micro_train.append(precision_score(y_train, y_pred_train, average='micro'))\n",
    "            precision_micro_test.append(precision_score(y_test, y_pred_test, average='micro'))\n",
    "            recall_macro_train.append(recall_score(y_train, y_pred_train, average='macro'))\n",
    "            recall_macro_test.append(recall_score(y_test, y_pred_test, average='macro'))\n",
    "            recall_micro_train.append(recall_score(y_train, y_pred_train, average='micro'))\n",
    "            recall_micro_test.append(recall_score(y_test, y_pred_test, average='micro'))\n",
    "            f1_macro_train.append(f1_score(y_train, y_pred_train, average='macro'))\n",
    "            f1_macro_test.append(f1_score(y_test, y_pred_test, average='macro'))\n",
    "            f1_micro_train.append(f1_score(y_train, y_pred_train, average='micro'))\n",
    "            f1_micro_test.append(f1_score(y_test, y_pred_test, average='micro'))\n",
    "            classification_report_train.append(classification_report(y_train, y_pred_train, output_dict=True))\n",
    "            classification_report_test.append(classification_report(y_test, y_pred_test, output_dict=True))\n",
    "            conf_matrix_train.append(confusion_matrix(y_train, y_pred_train))\n",
    "            conf_matrix_test.append(confusion_matrix(y_test, y_pred_test))\n",
    "\n",
    "\n",
    "        #etapa para salvar os valores médios das listas, além das listas\n",
    "        d={\n",
    "            'model':[str(name)],\n",
    "            'parameter' : [str(parameter)],\n",
    "\n",
    "            'acc_train' : [str(accuracy_train)],\n",
    "\n",
    "            'acc_train_mean' : np.mean(accuracy_train),\n",
    "\n",
    "            'acc_test' : str(accuracy_test),\n",
    "            'acc_test_mean' : np.mean(accuracy_test),\n",
    "\n",
    "            'precision_macro_train' : str(precision_macro_train),\n",
    "            'precision_macro_train_mean' : np.mean(precision_macro_train),\n",
    "\n",
    "            'precision_macro_test' : str(precision_macro_test),\n",
    "            'precision_macro_test_mean' : np.mean(precision_macro_test),\n",
    "\n",
    "            'precision_micro_train' : str(precision_micro_train),\n",
    "            'precision_micro_train_mean' : np.mean(precision_micro_train),\n",
    "\n",
    "            'precision_micro_test' : str(precision_micro_test),\n",
    "            'precision_micro_test_mean' : np.mean(precision_micro_test),\n",
    "\n",
    "            'recall_macro_train' : str(recall_macro_train),\n",
    "            'recall_macro_train_mean' : np.mean(recall_macro_train),\n",
    "\n",
    "            'recall_macro_test' : str(recall_macro_test),\n",
    "            'recall_macro_test_mean' : np.mean(recall_macro_test),\n",
    "\n",
    "            'recall_micro_train' : str(recall_micro_train),\n",
    "            'recall_micro_train_mean' : np.mean(recall_micro_train),\n",
    "\n",
    "            'recall_micro_test' : str(recall_micro_test),\n",
    "            'recall_micro_test_mean' : np.mean(recall_micro_test),\n",
    "\n",
    "            'f1_macro_train' : str(f1_macro_train),\n",
    "            'f1_macro_train_mean' : np.mean(f1_macro_train),\n",
    "\n",
    "            'f1_macro_test' : str(f1_macro_test),\n",
    "            'f1_macro_test_mean' : np.mean(f1_macro_test),\n",
    "\n",
    "            'f1_micro_train' : str(f1_micro_train),\n",
    "            'f1_micro_train_mean' : np.mean(f1_micro_train),\n",
    "\n",
    "            'f1_micro_test' : str(f1_micro_test),\n",
    "            'f1_micro_test_mean' : np.mean(f1_micro_test),\n",
    "\n",
    "            'classification_report_train' : str(classification_report_train),\n",
    "            'classification_report_test' : str(classification_report_test),\n",
    "\n",
    "            'conf_matrix_train' : str(conf_matrix_train),\n",
    "            'conf_matrix_test' : str(conf_matrix_test)\n",
    "        }\n",
    "        \n",
    "        #gravo cada configuração experimental (metodo + parametros)\n",
    "        df = pd.DataFrame(d)\n",
    "        results = results.append(df, ignore_index=True)\n",
    "        \n",
    "        #sobrescrevendo o csv salvo para sempre manter o mais atualizado... se der pau, instancio do momento do erro\n",
    "        results.to_csv('resultados-tfidf-svd-models-versaoIII_parteII.csv', sep=';', decimal=',', index=False)"
   ]
  },
  {
   "cell_type": "code",
   "execution_count": null,
   "metadata": {},
   "outputs": [],
   "source": []
  },
  {
   "cell_type": "code",
   "execution_count": null,
   "metadata": {},
   "outputs": [],
   "source": []
  }
 ],
 "metadata": {
  "kernelspec": {
   "display_name": "Python 3",
   "language": "python",
   "name": "python3"
  },
  "language_info": {
   "codemirror_mode": {
    "name": "ipython",
    "version": 3
   },
   "file_extension": ".py",
   "mimetype": "text/x-python",
   "name": "python",
   "nbconvert_exporter": "python",
   "pygments_lexer": "ipython3",
   "version": "3.6.5"
  }
 },
 "nbformat": 4,
 "nbformat_minor": 2
}
